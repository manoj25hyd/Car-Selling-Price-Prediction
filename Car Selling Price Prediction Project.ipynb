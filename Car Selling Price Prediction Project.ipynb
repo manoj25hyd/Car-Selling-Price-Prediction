{
 "cells": [
  {
   "cell_type": "markdown",
   "metadata": {
    "id": "LAo6OI9ly31D"
   },
   "source": [
    "## Import Necessary Libraries"
   ]
  },
  {
   "cell_type": "code",
   "execution_count": 169,
   "metadata": {
    "executionInfo": {
     "elapsed": 1113,
     "status": "ok",
     "timestamp": 1620556912559,
     "user": {
      "displayName": "Manoj Kumar",
      "photoUrl": "",
      "userId": "09539423896492791031"
     },
     "user_tz": -330
    },
    "id": "rI6FWHdrxiig"
   },
   "outputs": [],
   "source": [
    "import pandas as pd\n",
    "import numpy as np\n",
    "import re\n",
    "import seaborn as sns\n",
    "import matplotlib.pyplot as plt\n",
    "from sklearn.model_selection import train_test_split"
   ]
  },
  {
   "cell_type": "markdown",
   "metadata": {
    "id": "YALLcr1Jy_XU"
   },
   "source": [
    "## Import Dataset"
   ]
  },
  {
   "cell_type": "code",
   "execution_count": 78,
   "metadata": {
    "colab": {
     "base_uri": "https://localhost:8080/",
     "height": 195
    },
    "executionInfo": {
     "elapsed": 2834,
     "status": "ok",
     "timestamp": 1620554736882,
     "user": {
      "displayName": "Manoj Kumar",
      "photoUrl": "",
      "userId": "09539423896492791031"
     },
     "user_tz": -330
    },
    "id": "9Xdv3NHMx8u2",
    "outputId": "55861072-bad3-43c1-f383-92f73d977cdd"
   },
   "outputs": [
    {
     "data": {
      "text/html": [
       "<div>\n",
       "<style scoped>\n",
       "    .dataframe tbody tr th:only-of-type {\n",
       "        vertical-align: middle;\n",
       "    }\n",
       "\n",
       "    .dataframe tbody tr th {\n",
       "        vertical-align: top;\n",
       "    }\n",
       "\n",
       "    .dataframe thead th {\n",
       "        text-align: right;\n",
       "    }\n",
       "</style>\n",
       "<table border=\"1\" class=\"dataframe\">\n",
       "  <thead>\n",
       "    <tr style=\"text-align: right;\">\n",
       "      <th></th>\n",
       "      <th>name</th>\n",
       "      <th>year</th>\n",
       "      <th>selling_price</th>\n",
       "      <th>km_driven</th>\n",
       "      <th>fuel</th>\n",
       "      <th>seller_type</th>\n",
       "      <th>transmission</th>\n",
       "      <th>owner</th>\n",
       "      <th>mileage</th>\n",
       "      <th>engine</th>\n",
       "      <th>max_power</th>\n",
       "      <th>torque</th>\n",
       "      <th>seats</th>\n",
       "    </tr>\n",
       "  </thead>\n",
       "  <tbody>\n",
       "    <tr>\n",
       "      <th>0</th>\n",
       "      <td>Maruti Swift Dzire VDI</td>\n",
       "      <td>2014</td>\n",
       "      <td>450000</td>\n",
       "      <td>145500</td>\n",
       "      <td>Diesel</td>\n",
       "      <td>Individual</td>\n",
       "      <td>Manual</td>\n",
       "      <td>First Owner</td>\n",
       "      <td>23.4 kmpl</td>\n",
       "      <td>1248 CC</td>\n",
       "      <td>74 bhp</td>\n",
       "      <td>190Nm@ 2000rpm</td>\n",
       "      <td>5.0</td>\n",
       "    </tr>\n",
       "    <tr>\n",
       "      <th>1</th>\n",
       "      <td>Skoda Rapid 1.5 TDI Ambition</td>\n",
       "      <td>2014</td>\n",
       "      <td>370000</td>\n",
       "      <td>120000</td>\n",
       "      <td>Diesel</td>\n",
       "      <td>Individual</td>\n",
       "      <td>Manual</td>\n",
       "      <td>Second Owner</td>\n",
       "      <td>21.14 kmpl</td>\n",
       "      <td>1498 CC</td>\n",
       "      <td>103.52 bhp</td>\n",
       "      <td>250Nm@ 1500-2500rpm</td>\n",
       "      <td>5.0</td>\n",
       "    </tr>\n",
       "    <tr>\n",
       "      <th>2</th>\n",
       "      <td>Honda City 2017-2020 EXi</td>\n",
       "      <td>2006</td>\n",
       "      <td>158000</td>\n",
       "      <td>140000</td>\n",
       "      <td>Petrol</td>\n",
       "      <td>Individual</td>\n",
       "      <td>Manual</td>\n",
       "      <td>Third Owner</td>\n",
       "      <td>17.7 kmpl</td>\n",
       "      <td>1497 CC</td>\n",
       "      <td>78 bhp</td>\n",
       "      <td>12.7@ 2,700(kgm@ rpm)</td>\n",
       "      <td>5.0</td>\n",
       "    </tr>\n",
       "    <tr>\n",
       "      <th>3</th>\n",
       "      <td>Hyundai i20 Sportz Diesel</td>\n",
       "      <td>2010</td>\n",
       "      <td>225000</td>\n",
       "      <td>127000</td>\n",
       "      <td>Diesel</td>\n",
       "      <td>Individual</td>\n",
       "      <td>Manual</td>\n",
       "      <td>First Owner</td>\n",
       "      <td>23.0 kmpl</td>\n",
       "      <td>1396 CC</td>\n",
       "      <td>90 bhp</td>\n",
       "      <td>22.4 kgm at 1750-2750rpm</td>\n",
       "      <td>5.0</td>\n",
       "    </tr>\n",
       "    <tr>\n",
       "      <th>4</th>\n",
       "      <td>Maruti Swift VXI BSIII</td>\n",
       "      <td>2007</td>\n",
       "      <td>130000</td>\n",
       "      <td>120000</td>\n",
       "      <td>Petrol</td>\n",
       "      <td>Individual</td>\n",
       "      <td>Manual</td>\n",
       "      <td>First Owner</td>\n",
       "      <td>16.1 kmpl</td>\n",
       "      <td>1298 CC</td>\n",
       "      <td>88.2 bhp</td>\n",
       "      <td>11.5@ 4,500(kgm@ rpm)</td>\n",
       "      <td>5.0</td>\n",
       "    </tr>\n",
       "  </tbody>\n",
       "</table>\n",
       "</div>"
      ],
      "text/plain": [
       "                           name  year  selling_price  km_driven    fuel  \\\n",
       "0        Maruti Swift Dzire VDI  2014         450000     145500  Diesel   \n",
       "1  Skoda Rapid 1.5 TDI Ambition  2014         370000     120000  Diesel   \n",
       "2      Honda City 2017-2020 EXi  2006         158000     140000  Petrol   \n",
       "3     Hyundai i20 Sportz Diesel  2010         225000     127000  Diesel   \n",
       "4        Maruti Swift VXI BSIII  2007         130000     120000  Petrol   \n",
       "\n",
       "  seller_type transmission         owner     mileage   engine   max_power  \\\n",
       "0  Individual       Manual   First Owner   23.4 kmpl  1248 CC      74 bhp   \n",
       "1  Individual       Manual  Second Owner  21.14 kmpl  1498 CC  103.52 bhp   \n",
       "2  Individual       Manual   Third Owner   17.7 kmpl  1497 CC      78 bhp   \n",
       "3  Individual       Manual   First Owner   23.0 kmpl  1396 CC      90 bhp   \n",
       "4  Individual       Manual   First Owner   16.1 kmpl  1298 CC    88.2 bhp   \n",
       "\n",
       "                     torque  seats  \n",
       "0            190Nm@ 2000rpm    5.0  \n",
       "1       250Nm@ 1500-2500rpm    5.0  \n",
       "2     12.7@ 2,700(kgm@ rpm)    5.0  \n",
       "3  22.4 kgm at 1750-2750rpm    5.0  \n",
       "4     11.5@ 4,500(kgm@ rpm)    5.0  "
      ]
     },
     "execution_count": 78,
     "metadata": {},
     "output_type": "execute_result"
    }
   ],
   "source": [
    "# Import Dataset\n",
    "df = pd.read_csv(\"Car details v3.csv\")\n",
    "df.head()"
   ]
  },
  {
   "cell_type": "code",
   "execution_count": 79,
   "metadata": {},
   "outputs": [
    {
     "name": "stdout",
     "output_type": "stream",
     "text": [
      "Number of Rows: 8128\n",
      "Number of Columns: 13\n"
     ]
    }
   ],
   "source": [
    "# Checking size of dataset\n",
    "print(\"Number of Rows:\",df.shape[0])\n",
    "print(\"Number of Columns:\",df.shape[1])"
   ]
  },
  {
   "cell_type": "markdown",
   "metadata": {
    "id": "ceK3TaUByxlE"
   },
   "source": [
    "## Identifying Missing Data and Outliers."
   ]
  },
  {
   "cell_type": "code",
   "execution_count": 80,
   "metadata": {
    "colab": {
     "base_uri": "https://localhost:8080/"
    },
    "executionInfo": {
     "elapsed": 3719,
     "status": "ok",
     "timestamp": 1620554737798,
     "user": {
      "displayName": "Manoj Kumar",
      "photoUrl": "",
      "userId": "09539423896492791031"
     },
     "user_tz": -330
    },
    "id": "kGCbtM7mzWwj",
    "outputId": "0b764cc4-0a16-4a10-82c0-7a1ed3d092e5"
   },
   "outputs": [
    {
     "data": {
      "text/plain": [
       "name              object\n",
       "year               int64\n",
       "selling_price      int64\n",
       "km_driven          int64\n",
       "fuel              object\n",
       "seller_type       object\n",
       "transmission      object\n",
       "owner             object\n",
       "mileage           object\n",
       "engine            object\n",
       "max_power         object\n",
       "torque            object\n",
       "seats            float64\n",
       "dtype: object"
      ]
     },
     "execution_count": 80,
     "metadata": {},
     "output_type": "execute_result"
    }
   ],
   "source": [
    "# Checking Datatypes of each column\n",
    "df.dtypes"
   ]
  },
  {
   "cell_type": "code",
   "execution_count": 81,
   "metadata": {
    "colab": {
     "base_uri": "https://localhost:8080/"
    },
    "executionInfo": {
     "elapsed": 3714,
     "status": "ok",
     "timestamp": 1620554737799,
     "user": {
      "displayName": "Manoj Kumar",
      "photoUrl": "",
      "userId": "09539423896492791031"
     },
     "user_tz": -330
    },
    "id": "t-6mEQAczuQh",
    "outputId": "3ae222eb-6f8e-4b54-85a3-c7aeb826e865"
   },
   "outputs": [
    {
     "data": {
      "text/plain": [
       "array(['Diesel', 'Petrol', 'LPG', 'CNG'], dtype=object)"
      ]
     },
     "execution_count": 81,
     "metadata": {},
     "output_type": "execute_result"
    }
   ],
   "source": [
    "# Checking if there are any outliers in \"fuel\" column\n",
    "df[\"fuel\"].unique()"
   ]
  },
  {
   "cell_type": "code",
   "execution_count": 82,
   "metadata": {},
   "outputs": [
    {
     "data": {
      "text/plain": [
       "array(['Individual', 'Dealer', 'Trustmark Dealer'], dtype=object)"
      ]
     },
     "execution_count": 82,
     "metadata": {},
     "output_type": "execute_result"
    }
   ],
   "source": [
    "# Checking if there are any outliers in \"seller_type\" column\n",
    "df[\"seller_type\"].unique()"
   ]
  },
  {
   "cell_type": "code",
   "execution_count": 83,
   "metadata": {},
   "outputs": [
    {
     "data": {
      "text/plain": [
       "array(['Manual', 'Automatic'], dtype=object)"
      ]
     },
     "execution_count": 83,
     "metadata": {},
     "output_type": "execute_result"
    }
   ],
   "source": [
    "# Checking if there are any outliers in \"transmission\" column\n",
    "df[\"transmission\"].unique()"
   ]
  },
  {
   "cell_type": "code",
   "execution_count": 84,
   "metadata": {},
   "outputs": [
    {
     "data": {
      "text/plain": [
       "array(['First Owner', 'Second Owner', 'Third Owner',\n",
       "       'Fourth & Above Owner', 'Test Drive Car'], dtype=object)"
      ]
     },
     "execution_count": 84,
     "metadata": {},
     "output_type": "execute_result"
    }
   ],
   "source": [
    "# Checking if there are any outliers in \"owner\" column\n",
    "df[\"owner\"].unique()"
   ]
  },
  {
   "cell_type": "code",
   "execution_count": 85,
   "metadata": {
    "scrolled": true
   },
   "outputs": [
    {
     "data": {
      "text/plain": [
       "array(['0.0 kmpl', '10.0 kmpl', '10.1 kmpl', '10.5 kmpl', '10.71 kmpl',\n",
       "       '10.75 kmpl', '10.8 kmpl', '10.9 km/kg', '10.9 kmpl', '10.91 kmpl',\n",
       "       '10.93 kmpl', '11.0 kmpl', '11.07 kmpl', '11.1 kmpl', '11.18 kmpl',\n",
       "       '11.2 kmpl', '11.3 kmpl', '11.36 kmpl', '11.4 kmpl', '11.45 kmpl',\n",
       "       '11.5 kmpl', '11.57 kmpl', '11.68 kmpl', '11.7 kmpl', '11.72 kmpl',\n",
       "       '11.74 kmpl', '11.79 kmpl', '11.8 kmpl', '11.88 km/kg',\n",
       "       '11.9 kmpl', '11.96 kmpl', '12.0 kmpl', '12.05 kmpl', '12.07 kmpl',\n",
       "       '12.08 kmpl', '12.1 kmpl', '12.12 kmpl', '12.2 kmpl', '12.3 kmpl',\n",
       "       '12.4 kmpl', '12.5 kmpl', '12.55 kmpl', '12.6 kmpl', '12.62 kmpl',\n",
       "       '12.7 kmpl', '12.8 kmpl', '12.83 kmpl', '12.85 kmpl', '12.9 kmpl',\n",
       "       '12.99 kmpl', '13.0 kmpl', '13.01 kmpl', '13.1 kmpl', '13.2 km/kg',\n",
       "       '13.2 kmpl', '13.22 kmpl', '13.24 kmpl', '13.38 kmpl', '13.4 kmpl',\n",
       "       '13.44 kmpl', '13.45 km/kg', '13.49 kmpl', '13.5 kmpl',\n",
       "       '13.55 kmpl', '13.58 kmpl', '13.6 kmpl', '13.68 kmpl', '13.7 kmpl',\n",
       "       '13.73 kmpl', '13.8 kmpl', '13.87 kmpl', '13.9 kmpl', '13.93 kmpl',\n",
       "       '13.96 kmpl', '14.0 kmpl', '14.02 kmpl', '14.07 kmpl',\n",
       "       '14.09 kmpl', '14.1 kmpl', '14.2 kmpl', '14.21 kmpl', '14.23 kmpl',\n",
       "       '14.24 kmpl', '14.28 kmpl', '14.3 kmpl', '14.4 km/kg', '14.4 kmpl',\n",
       "       '14.49 kmpl', '14.5 kmpl', '14.53 kmpl', '14.6 kmpl', '14.62 kmpl',\n",
       "       '14.66 kmpl', '14.67 kmpl', '14.7 kmpl', '14.74 kmpl', '14.8 kmpl',\n",
       "       '14.81 kmpl', '14.84 kmpl', '14.9 kmpl', '14.94 kmpl',\n",
       "       '14.95 kmpl', '14.99 kmpl', '15.0 kmpl', '15.04 kmpl',\n",
       "       '15.05 kmpl', '15.1 km/kg', '15.1 kmpl', '15.11 kmpl',\n",
       "       '15.17 kmpl', '15.2 kmpl', '15.26 kmpl', '15.29 kmpl', '15.3 kmpl',\n",
       "       '15.37 kmpl', '15.4 kmpl', '15.41 kmpl', '15.42 kmpl', '15.5 kmpl',\n",
       "       '15.6 kmpl', '15.63 kmpl', '15.64 kmpl', '15.7 kmpl', '15.71 kmpl',\n",
       "       '15.73 kmpl', '15.74 kmpl', '15.8 kmpl', '15.85 kmpl', '15.9 kmpl',\n",
       "       '15.96 kmpl', '16.0 km/kg', '16.0 kmpl', '16.02 kmpl',\n",
       "       '16.05 kmpl', '16.07 kmpl', '16.09 kmpl', '16.1 kmpl', '16.2 kmpl',\n",
       "       '16.25 kmpl', '16.3 kmpl', '16.34 kmpl', '16.36 kmpl',\n",
       "       '16.38 kmpl', '16.4 kmpl', '16.47 kmpl', '16.5 kmpl', '16.51 kmpl',\n",
       "       '16.52 kmpl', '16.55 kmpl', '16.6 km/kg', '16.6 kmpl', '16.7 kmpl',\n",
       "       '16.73 kmpl', '16.78 kmpl', '16.8 kmpl', '16.84 kmpl', '16.9 kmpl',\n",
       "       '16.95 kmpl', '16.96 kmpl', '17.0 kmpl', '17.01 kmpl',\n",
       "       '17.05 kmpl', '17.09 kmpl', '17.1 kmpl', '17.11 kmpl',\n",
       "       '17.19 kmpl', '17.2 kmpl', '17.21 kmpl', '17.3 km/kg', '17.3 kmpl',\n",
       "       '17.36 kmpl', '17.4 kmpl', '17.42 kmpl', '17.43 kmpl',\n",
       "       '17.45 kmpl', '17.5 kmpl', '17.57 kmpl', '17.6 kmpl', '17.67 kmpl',\n",
       "       '17.68 kmpl', '17.7 kmpl', '17.71 kmpl', '17.8 km/kg', '17.8 kmpl',\n",
       "       '17.88 kmpl', '17.9 kmpl', '17.92 kmpl', '17.97 kmpl', '18.0 kmpl',\n",
       "       '18.06 kmpl', '18.1 kmpl', '18.12 kmpl', '18.15 kmpl',\n",
       "       '18.16 kmpl', '18.2 kmpl', '18.24 kmpl', '18.25 kmpl', '18.3 kmpl',\n",
       "       '18.4 kmpl', '18.44 kmpl', '18.48 kmpl', '18.49 kmpl', '18.5 kmpl',\n",
       "       '18.53 kmpl', '18.6 kmpl', '18.7 kmpl', '18.76 kmpl', '18.78 kmpl',\n",
       "       '18.8 kmpl', '18.88 kmpl', '18.9 kmpl', '19.0 km/kg', '19.0 kmpl',\n",
       "       '19.01 kmpl', '19.02 kmpl', '19.08 kmpl', '19.09 kmpl',\n",
       "       '19.1 kmpl', '19.12 kmpl', '19.16 kmpl', '19.2 km/kg', '19.2 kmpl',\n",
       "       '19.3 kmpl', '19.33 kmpl', '19.34 kmpl', '19.4 kmpl', '19.44 kmpl',\n",
       "       '19.49 kmpl', '19.5 kmpl', '19.56 kmpl', '19.59 kmpl', '19.6 kmpl',\n",
       "       '19.61 kmpl', '19.62 kmpl', '19.64 kmpl', '19.67 kmpl',\n",
       "       '19.68 kmpl', '19.69 kmpl', '19.7 kmpl', '19.72 kmpl',\n",
       "       '19.81 kmpl', '19.83 kmpl', '19.87 kmpl', '19.98 kmpl',\n",
       "       '20.0 kmpl', '20.07 kmpl', '20.14 kmpl', '20.2 kmpl', '20.28 kmpl',\n",
       "       '20.3 kmpl', '20.34 kmpl', '20.36 kmpl', '20.37 kmpl',\n",
       "       '20.38 kmpl', '20.4 kmpl', '20.45 kmpl', '20.46 kmpl', '20.5 kmpl',\n",
       "       '20.51 kmpl', '20.52 kmpl', '20.54 kmpl', '20.6 kmpl',\n",
       "       '20.62 kmpl', '20.63 kmpl', '20.65 kmpl', '20.7 kmpl',\n",
       "       '20.71 kmpl', '20.73 kmpl', '20.77 kmpl', '20.8 kmpl',\n",
       "       '20.85 kmpl', '20.86 kmpl', '20.88 km/kg', '20.89 kmpl',\n",
       "       '20.92 kmpl', '21.0 kmpl', '21.01 kmpl', '21.02 kmpl',\n",
       "       '21.03 kmpl', '21.04 kmpl', '21.1 km/kg', '21.1 kmpl',\n",
       "       '21.12 kmpl', '21.13 kmpl', '21.14 kmpl', '21.19 kmpl',\n",
       "       '21.2 kmpl', '21.21 kmpl', '21.27 kmpl', '21.38 kmpl',\n",
       "       '21.4 km/kg', '21.4 kmpl', '21.43 kmpl', '21.49 kmpl', '21.5 kmpl',\n",
       "       '21.56 kmpl', '21.63 kmpl', '21.64 kmpl', '21.66 kmpl',\n",
       "       '21.7 kmpl', '21.72 kmpl', '21.73 kmpl', '21.76 kmpl',\n",
       "       '21.79 kmpl', '21.8 kmpl', '21.9 kmpl', '21.94 km/kg', '22.0 kmpl',\n",
       "       '22.05 kmpl', '22.07 kmpl', '22.1 kmpl', '22.15 kmpl',\n",
       "       '22.27 kmpl', '22.3 kmpl', '22.32 kmpl', '22.37 kmpl',\n",
       "       '22.48 kmpl', '22.5 kmpl', '22.54 kmpl', '22.69 kmpl', '22.7 kmpl',\n",
       "       '22.71 kmpl', '22.74 kmpl', '22.77 kmpl', '22.8 km/kg',\n",
       "       '22.9 kmpl', '22.95 kmpl', '23.0 kmpl', '23.01 kmpl', '23.03 kmpl',\n",
       "       '23.08 kmpl', '23.1 kmpl', '23.2 kmpl', '23.26 kmpl', '23.3 kmpl',\n",
       "       '23.4 kmpl', '23.5 kmpl', '23.57 kmpl', '23.59 kmpl', '23.65 kmpl',\n",
       "       '23.7 km/kg', '23.8 kmpl', '23.84 kmpl', '23.87 kmpl', '23.9 kmpl',\n",
       "       '23.95 kmpl', '24.0 kmpl', '24.04 kmpl', '24.2 kmpl', '24.29 kmpl',\n",
       "       '24.3 kmpl', '24.4 kmpl', '24.5 kmpl', '24.52 kmpl', '24.7 kmpl',\n",
       "       '24.8 kmpl', '25.0 kmpl', '25.01 kmpl', '25.1 kmpl', '25.17 kmpl',\n",
       "       '25.2 kmpl', '25.32 kmpl', '25.4 kmpl', '25.44 kmpl', '25.47 kmpl',\n",
       "       '25.5 kmpl', '25.6 kmpl', '25.8 kmpl', '25.83 kmpl', '26.0 kmpl',\n",
       "       '26.1 kmpl', '26.2 km/kg', '26.21 kmpl', '26.3 km/kg',\n",
       "       '26.59 kmpl', '26.6 km/kg', '26.8 kmpl', '26.83 km/kg',\n",
       "       '27.28 kmpl', '27.3 kmpl', '27.39 kmpl', '27.4 kmpl', '27.62 kmpl',\n",
       "       '28.09 kmpl', '28.4 kmpl', '30.46 km/kg', '32.26 km/kg',\n",
       "       '32.52 km/kg', '33.0 km/kg', '33.44 km/kg', '42.0 kmpl',\n",
       "       '9.0 kmpl', '9.5 kmpl', nan], dtype=object)"
      ]
     },
     "execution_count": 85,
     "metadata": {},
     "output_type": "execute_result"
    }
   ],
   "source": [
    "# Checking if there are any outliers in \"mileage\" column\n",
    "df[\"mileage\"].sort_values().unique()"
   ]
  },
  {
   "cell_type": "markdown",
   "metadata": {},
   "source": [
    "\"Mileage\" column has \"0.0 kmpl\". So we will make it as NAN."
   ]
  },
  {
   "cell_type": "code",
   "execution_count": 86,
   "metadata": {},
   "outputs": [],
   "source": [
    "# Replacing \"0.0 kmpl\" with Nan.\n",
    "df[\"mileage\"] = df[\"mileage\"].replace({\"0.0 kmpl\" : np.nan})"
   ]
  },
  {
   "cell_type": "code",
   "execution_count": 87,
   "metadata": {},
   "outputs": [
    {
     "data": {
      "text/plain": [
       "array(['1047 CC', '1061 CC', '1086 CC', '1120 CC', '1150 CC', '1172 CC',\n",
       "       '1186 CC', '1193 CC', '1194 CC', '1196 CC', '1197 CC', '1198 CC',\n",
       "       '1199 CC', '1248 CC', '1298 CC', '1299 CC', '1339 CC', '1341 CC',\n",
       "       '1343 CC', '1364 CC', '1368 CC', '1373 CC', '1388 CC', '1390 CC',\n",
       "       '1396 CC', '1399 CC', '1405 CC', '1422 CC', '1451 CC', '1461 CC',\n",
       "       '1462 CC', '1489 CC', '1493 CC', '1495 CC', '1496 CC', '1497 CC',\n",
       "       '1498 CC', '1499 CC', '1527 CC', '1582 CC', '1586 CC', '1590 CC',\n",
       "       '1591 CC', '1595 CC', '1596 CC', '1597 CC', '1598 CC', '1599 CC',\n",
       "       '1781 CC', '1794 CC', '1795 CC', '1796 CC', '1797 CC', '1798 CC',\n",
       "       '1799 CC', '1896 CC', '1948 CC', '1950 CC', '1956 CC', '1968 CC',\n",
       "       '1969 CC', '1984 CC', '1991 CC', '1994 CC', '1995 CC', '1997 CC',\n",
       "       '1998 CC', '1999 CC', '2092 CC', '2143 CC', '2148 CC', '2179 CC',\n",
       "       '2197 CC', '2198 CC', '2199 CC', '2200 CC', '2231 CC', '2354 CC',\n",
       "       '2359 CC', '2362 CC', '2393 CC', '2446 CC', '2477 CC', '2487 CC',\n",
       "       '2489 CC', '2494 CC', '2496 CC', '2497 CC', '2498 CC', '2499 CC',\n",
       "       '2523 CC', '2596 CC', '2609 CC', '2650 CC', '2694 CC', '2696 CC',\n",
       "       '2755 CC', '2776 CC', '2835 CC', '2953 CC', '2956 CC', '2967 CC',\n",
       "       '2982 CC', '2987 CC', '2993 CC', '2997 CC', '2999 CC', '3198 CC',\n",
       "       '3498 CC', '3604 CC', '624 CC', '793 CC', '796 CC', '799 CC',\n",
       "       '814 CC', '909 CC', '936 CC', '993 CC', '995 CC', '998 CC',\n",
       "       '999 CC', nan], dtype=object)"
      ]
     },
     "execution_count": 87,
     "metadata": {},
     "output_type": "execute_result"
    }
   ],
   "source": [
    "# Checking if there are any outliers in \"engine\" column\n",
    "df[\"engine\"].sort_values().unique()"
   ]
  },
  {
   "cell_type": "code",
   "execution_count": 88,
   "metadata": {
    "scrolled": true
   },
   "outputs": [
    {
     "data": {
      "text/plain": [
       "array([' bhp', '0', '100 bhp', '100.5 bhp', '100.57 bhp', '100.6 bhp',\n",
       "       '101 bhp', '102 bhp', '102.5 bhp', '103 bhp', '103.2 bhp',\n",
       "       '103.25 bhp', '103.26 bhp', '103.3 bhp', '103.5 bhp', '103.52 bhp',\n",
       "       '103.6 bhp', '104 bhp', '104.5 bhp', '104.55 bhp', '104.68 bhp',\n",
       "       '105 bhp', '105.3 bhp', '105.5 bhp', '106 bhp', '108.45 bhp',\n",
       "       '108.495 bhp', '108.5 bhp', '108.6 bhp', '108.62 bhp', '110 bhp',\n",
       "       '110.4 bhp', '110.5 bhp', '112 bhp', '112.2 bhp', '113.4 bhp',\n",
       "       '113.42 bhp', '115 bhp', '116.3 bhp', '116.4 bhp', '116.6 bhp',\n",
       "       '116.9 bhp', '117.3 bhp', '117.6 bhp', '118 bhp', '118.3 bhp',\n",
       "       '118.35 bhp', '120 bhp', '120.69 bhp', '120.7 bhp', '121 bhp',\n",
       "       '121.3 bhp', '121.31 bhp', '121.36 bhp', '121.4 bhp', '122.4 bhp',\n",
       "       '123.37 bhp', '123.7 bhp', '125 bhp', '126.2 bhp', '126.24 bhp',\n",
       "       '126.3 bhp', '126.32 bhp', '127 bhp', '130 bhp', '132 bhp',\n",
       "       '134 bhp', '134.10 bhp', '135.1 bhp', '136 bhp', '138 bhp',\n",
       "       '138.03 bhp', '138.08 bhp', '138.1 bhp', '139.01 bhp',\n",
       "       '139.46 bhp', '140 bhp', '141 bhp', '141.1 bhp', '142 bhp',\n",
       "       '143 bhp', '144 bhp', '147.5 bhp', '147.51 bhp', '147.8 bhp',\n",
       "       '147.9 bhp', '147.94 bhp', '148 bhp', '148.31 bhp', '149.5 bhp',\n",
       "       '150 bhp', '152 bhp', '152.87 bhp', '153.86 bhp', '155 bhp',\n",
       "       '156 bhp', '157.7 bhp', '157.75 bhp', '158 bhp', '158.8 bhp',\n",
       "       '160 bhp', '160.77 bhp', '161 bhp', '162 bhp', '163.2 bhp',\n",
       "       '163.7 bhp', '164.7 bhp', '165 bhp', '167.6 bhp', '167.62 bhp',\n",
       "       '167.67 bhp', '168.5 bhp', '168.7 bhp', '169 bhp', '170 bhp',\n",
       "       '170.30 bhp', '170.63 bhp', '171 bhp', '171.5 bhp', '174.33 bhp',\n",
       "       '174.5 bhp', '174.57 bhp', '175 bhp', '175.56 bhp', '177 bhp',\n",
       "       '177.46 bhp', '177.5 bhp', '177.6 bhp', '178 bhp', '179.5 bhp',\n",
       "       '181 bhp', '181.04 bhp', '183 bhp', '184 bhp', '186 bhp',\n",
       "       '187.4 bhp', '187.7 bhp', '187.74 bhp', '188 bhp', '189 bhp',\n",
       "       '189.3 bhp', '190 bhp', '194 bhp', '194.3 bhp', '194.4 bhp',\n",
       "       '197 bhp', '197.2 bhp', '198.25 bhp', '198.5 bhp', '201.1 bhp',\n",
       "       '203 bhp', '203.2 bhp', '204 bhp', '214.56 bhp', '218 bhp',\n",
       "       '224 bhp', '235 bhp', '241 bhp', '241.4 bhp', '254.79 bhp',\n",
       "       '254.8 bhp', '258 bhp', '261.4 bhp', '265 bhp', '270.9 bhp',\n",
       "       '272 bhp', '280 bhp', '282 bhp', '32.8 bhp', '34.2 bhp', '35 bhp',\n",
       "       '35.5 bhp', '37 bhp', '37.48 bhp', '37.5 bhp', '38 bhp',\n",
       "       '38.4 bhp', '40.3 bhp', '400 bhp', '45 bhp', '46.3 bhp', '47 bhp',\n",
       "       '47.3 bhp', '48.21 bhp', '52 bhp', '52.8 bhp', '53 bhp',\n",
       "       '53.26 bhp', '53.3 bhp', '53.5 bhp', '53.64 bhp', '55.2 bhp',\n",
       "       '55.23 bhp', '56.3 bhp', '57 bhp', '57.5 bhp', '57.6 bhp',\n",
       "       '58 bhp', '58.16 bhp', '58.2 bhp', '58.3 bhp', '58.33 bhp',\n",
       "       '60 bhp', '60.2 bhp', '61.7 bhp', '62 bhp', '62.1 bhp', '63 bhp',\n",
       "       '63.1 bhp', '63.12 bhp', '64 bhp', '64.08 bhp', '64.1 bhp',\n",
       "       '64.4 bhp', '64.9 bhp', '65 bhp', '65.3 bhp', '66 bhp', '66.1 bhp',\n",
       "       '66.6 bhp', '67 bhp', '67.04 bhp', '67.05 bhp', '67.06 bhp',\n",
       "       '67.1 bhp', '68 bhp', '68.05 bhp', '68.07 bhp', '68.1 bhp',\n",
       "       '68.4 bhp', '69 bhp', '69.01 bhp', '70 bhp', '71 bhp', '71.01 bhp',\n",
       "       '72 bhp', '72.4 bhp', '73 bhp', '73.74 bhp', '73.75 bhp',\n",
       "       '73.8 bhp', '73.9 bhp', '73.94 bhp', '73.97 bhp', '74 bhp',\n",
       "       '74.02 bhp', '74.9 bhp', '74.96 bhp', '75 bhp', '76 bhp',\n",
       "       '76.8 bhp', '76.9 bhp', '77 bhp', '78 bhp', '78.8 bhp', '78.9 bhp',\n",
       "       '79.4 bhp', '80 bhp', '80.8 bhp', '80.84 bhp', '80.9 bhp',\n",
       "       '81.80 bhp', '81.83 bhp', '81.86 bhp', '82 bhp', '82.4 bhp',\n",
       "       '82.5 bhp', '82.85 bhp', '82.9 bhp', '83 bhp', '83.1 bhp',\n",
       "       '83.11 bhp', '83.14 bhp', '83.8 bhp', '83.81 bhp', '83.83 bhp',\n",
       "       '84 bhp', '84.48 bhp', '84.8 bhp', '85 bhp', '85.8 bhp',\n",
       "       '85.80 bhp', '86 bhp', '86.7 bhp', '86.79 bhp', '86.8 bhp',\n",
       "       '87.2 bhp', '88 bhp', '88.2 bhp', '88.5 bhp', '88.50 bhp',\n",
       "       '88.7 bhp', '88.73 bhp', '88.76 bhp', '88.8 bhp', '89.75 bhp',\n",
       "       '89.84 bhp', '90 bhp', '91.1 bhp', '91.2 bhp', '91.7 bhp',\n",
       "       '91.72 bhp', '92 bhp', '92.7 bhp', '93.7 bhp', '93.87 bhp',\n",
       "       '94 bhp', '94.68 bhp', '94.93 bhp', '95 bhp', '97.7 bhp',\n",
       "       '97.9 bhp', '98.59 bhp', '98.6 bhp', '98.63 bhp', '98.79 bhp',\n",
       "       '98.82 bhp', '98.96 bhp', '98.97 bhp', '99 bhp', '99.23 bhp',\n",
       "       '99.6 bhp', nan], dtype=object)"
      ]
     },
     "execution_count": 88,
     "metadata": {},
     "output_type": "execute_result"
    }
   ],
   "source": [
    "# Checking if there are any outliers in \"max_power\" column\n",
    "df[\"max_power\"].sort_values().unique()"
   ]
  },
  {
   "cell_type": "markdown",
   "metadata": {},
   "source": [
    "\"max_power\" column has \" bhp\" and \"0\" as outliers. we will replace it with NAN."
   ]
  },
  {
   "cell_type": "code",
   "execution_count": 89,
   "metadata": {},
   "outputs": [],
   "source": [
    "# Replacing \" bhp\" and \"0\" with Nan.\n",
    "df[\"max_power\"] = df[\"max_power\"].replace({\" bhp\" : np.nan, \"0\" : np.nan})"
   ]
  },
  {
   "cell_type": "code",
   "execution_count": 90,
   "metadata": {},
   "outputs": [
    {
     "data": {
      "text/plain": [
       "array(['10.2@ 2,600(kgm@ rpm)', '10.4@ 3,200(kgm@ rpm)',\n",
       "       '10.7@ 2,500(kgm@ rpm)', '10.7@ 2,600(kgm@ rpm)', '100Nm@ 2700rpm',\n",
       "       '101Nm@ 3000rpm', '102Nm@ 2600rpm', '102Nm@ 4000rpm',\n",
       "       '103Nm@ 4500rpm', '104Nm@ 3100rpm', '104Nm@ 4000rpm',\n",
       "       '104Nm@ 4400rpm', '106.5Nm@ 4400rpm', '106Nm@ 2200rpm',\n",
       "       '108.5Nm@ 5000rpm', '108Nm@ 4400rpm', '109Nm@ 4500rpm',\n",
       "       '11.2@ 4,400(kgm@ rpm)', '11.3kgm@ 4700rpm',\n",
       "       '11.4 kgm at 4,000 rpm', '11.4@ 4,000(kgm@ rpm)',\n",
       "       '11.5@ 4,500(kgm@ rpm)', '11.8@ 3,200(kgm@ rpm)',\n",
       "       '110(11.2)@ 4800', '110@ 3,000(kgm@ rpm)', '110Nm@ 3000-4300rpm',\n",
       "       '110Nm@ 3000rpm', '110Nm@ 3750rpm', '110Nm@ 4000rpm',\n",
       "       '110Nm@ 4400rpm', '110Nm@ 4500rpm', '110Nm@ 4800rpm',\n",
       "       '111.7Nm@ 4000rpm', '111.8Nm@ 4000rpm', '112Nm@ 4000rpm',\n",
       "       '113.75Nm@ 4000rpm', '113.75nm@ 4000rpm', '113.7Nm@ 4000rpm',\n",
       "       '113.8Nm@ 4000rpm', '113Nm@ 3300rpm', '113Nm@ 4,500rpm',\n",
       "       '113Nm@ 4200rpm', '113Nm@ 4400rpm', '113Nm@ 4500rpm',\n",
       "       '113Nm@ 5000rpm', '113nm@ 4400rpm', '114.73Nm@ 4000rpm',\n",
       "       '114.73nm@ 4000rpm', '114.7Nm@ 4000rpm', '114Nm@ 3500rpm',\n",
       "       '114Nm@ 4000rpm', '115@ 2,500(kgm@ rpm)', '115@ 2500(kgm@ rpm)',\n",
       "       '115Nm@ 3200rpm', '115Nm@ 3500-3600rpm', '115Nm@ 4000rpm',\n",
       "       '115Nm@ 4500rpm', '116Nm@ 4750rpm', '117nm@ 4000rpm',\n",
       "       '119Nm@ 4250rpm', '11@ 3,000(kgm@ rpm)', '12.4@ 2,600(kgm@ rpm)',\n",
       "       '12.5@ 2,500(kgm@ rpm)', '12.5@ 3,000(kgm@ rpm)',\n",
       "       '12.5@ 3,500(kgm@ rpm)', '12.5kgm@ 3500rpm',\n",
       "       '12.7@ 2,700(kgm@ rpm)', '120Nm@ 4250rpm', '121Nm@ 2800rpm',\n",
       "       '123Nm@ 1000-2500rpm', '124.5Nm@ 3500rpm', '124.6Nm@ 3500rpm',\n",
       "       '124Nm@ 3500rpm', '125Nm@ 2000rpm', '127Nm@ 3500rpm',\n",
       "       '128Nm@ 3100rpm', '12@ 2500(kgm@ rpm)', '12@ 3,500(kgm@ rpm)',\n",
       "       '13.1kgm@ 4600rpm', '13.5@ 2,500(kgm@ rpm)',\n",
       "       '13.5@ 2500(kgm@ rpm)', '13.5@ 4,800(kgm@ rpm)',\n",
       "       '13.9 kgm at 4200 rpm', '130@ 2500(kgm@ rpm)', '130Nm@ 3000rpm',\n",
       "       '130Nm@ 4000rpm', '131Nm@ 4400rpm', '132.3Nm@ 4000rpm',\n",
       "       '132Nm@ 3000rpm', '134Nm@ 4000rpm', '135 Nm at 2500  rpm ',\n",
       "       '135 Nm at 2500 rpm', '135.3Nm@ 5000rpm', '135.4Nm@ 2500',\n",
       "       '135.4Nm@ 2500rpm', '135Nm@ 2500rpm', '136.3Nm@ 4200rpm',\n",
       "       '136Nm@ 4250rpm', '138Nm@ 4400rpm', '138nm@ 4400rpm',\n",
       "       '13@ 2,500(kgm@ rpm)', '14.3@ 1,800-3,000(kgm@ rpm)',\n",
       "       '14.9 KGM at 3000 RPM', '14.9@ 3,000(kgm@ rpm)',\n",
       "       '14.9@ 3,400(kgm@ rpm)', '140Nm@ 1500-4000rpm',\n",
       "       '140Nm@ 1800-3000rpm', '140Nm@ 4200rpm', '140Nm@ 4400rpm',\n",
       "       '142.5Nm@ 1750rpm', '142Nm@ 4000rpm', '144.15nm@ 4500rpm',\n",
       "       '145@ 4,100(kgm@ rpm)', '145Nm@ 3750rpm', '145Nm@ 4100rpm',\n",
       "       '145Nm@ 4600rpm', '146Nm at 4800 rpm', '146Nm@ 3400rpm',\n",
       "       '146Nm@ 4800rpm', '148Nm@ 3500rpm', '148Nm@ 4000rpm',\n",
       "       '149Nm@ 4500rpm', '150Nm@ 1700-4500rpm', '150Nm@ 1750rpm',\n",
       "       '150Nm@ 4500rpm', '151NM@ 4850rpm', '151Nm@ 2400rpm',\n",
       "       '151Nm@ 4850rpm', '153Nm@ 3750-3800rpm', '153Nm@ 3800rpm',\n",
       "       '154.9Nm@ 4200rpm', '155 Nm at 1600-2800 rpm',\n",
       "       '159.8Nm@ 1500-2750rpm', '15@ 3,800(kgm@ rpm)',\n",
       "       '16.1@ 4,200(kgm@ rpm)', '16.3@ 2,000(kgm@ rpm)',\n",
       "       '16.6@ 4,500(kgm@ rpm)', '160Nm@ 1500-2750rpm', '160Nm@ 1750rpm',\n",
       "       '160Nm@ 2000rpm', '16@ 2,000(kgm@ rpm)', '17.5@ 4,300(kgm@ rpm)',\n",
       "       '170Nm@ 1400-4500rpm', '170Nm@ 1750-4000rpm',\n",
       "       '170Nm@ 1800-2400rpm', '170Nm@ 4200rpm', '171.6Nm@ 1500-4000rpm',\n",
       "       '171Nm@ 1800rpm', '172.5Nm@ 1750rpm', '172Nm@ 4300rpm',\n",
       "       '173Nm@ 4000rpm', '174Nm@ 4300rpm', '175Nm@ 1500-4100rpm',\n",
       "       '175nm@ 1500-4100rpm', '175nm@ 1750-4000rpm', '176Nm@ 1500rpm',\n",
       "       '177.5Nm@ 4700rpm', '180 Nm at 1440-1500rpm', '180 Nm at 2000rpm',\n",
       "       '180.4Nm@ 1750-2500rpm', '180Nm@ 1440-1500rpm', '180Nm@ 2000rpm',\n",
       "       '182.5Nm@ 1500-1800rpm', '185Nm@ 1750-2750rpm', '187Nm@ 2500rpm',\n",
       "       '18@ 1,600-2,200(kgm@ rpm)', '190 Nm at 1750  rpm ',\n",
       "       '190 Nm at 1750 rpm', '190 Nm at 1750 rpm ', '190 Nm at 2000rpm',\n",
       "       '190.24nm@ 1750-2250rpm', '190.25nm@ 1750-2250rpm',\n",
       "       '190@ 21,800(kgm@ rpm)', '190Nm@ 1750-2250rpm',\n",
       "       '190Nm@ 1750-3000rpm', '190Nm@ 1750rpm', '190Nm@ 2000-3000',\n",
       "       '190Nm@ 2000-3000rpm', '190Nm@ 2000rpm', '190Nm@ 3700rpm',\n",
       "       '190Nm@ 4200rpm', '190Nm@ 4300rpm', '195Nm@ 1400-2200rpm',\n",
       "       '195Nm@ 1440-2200rpm', '196Nm@ 5000rpm', '197Nm@ 1750rpm',\n",
       "       '19@ 1,800(kgm@ rpm)', '20.4@ 1400-3400(kgm@ rpm)',\n",
       "       '200Nm@ 1200-3600rpm', '200Nm@ 1250-4000rpm',\n",
       "       '200Nm@ 1400-2200rpm', '200Nm@ 1400-3400rpm',\n",
       "       '200Nm@ 1750-3000rpm', '200Nm@ 1750rpm', '200Nm@ 1900rpm',\n",
       "       '200Nm@ 2000-3500rpm', '200Nm@ 2000rpm', '202Nm@ 3600-5200rpm',\n",
       "       '204Nm@ 2000-2750rpm', '205Nm@ 1750-3250rpm', '205Nm@ 1750rpm',\n",
       "       '205Nm@ 1800-2800rpm', '209Nm@ 2000rpm', '20@ 3,750(kgm@ rpm)',\n",
       "       '20@ 4,700(kgm@ rpm)', '21.4@ 1,750-4,600(kgm@ rpm)',\n",
       "       '21.4@ 1,900(kgm@ rpm)', '210 / 1900', '210nm@ 1600-2200rpm',\n",
       "       '213Nm@ 4500rpm', '215Nm@ 1750-2500rpm', '215Nm@ 1750-3000',\n",
       "       '215Nm@ 1750-3000rpm', '215Nm@ 3600rpm', '215nm@ 1750-2500rpm',\n",
       "       '218Nm@ 1400-2600rpm', '218Nm@ 4200rpm', '219.66NM@ 1500-2750rpm',\n",
       "       '219.66nm@ 1500-2750rpm', '219.6Nm@ 1500-2750rpm',\n",
       "       '219.6Nm@ 1750-2750rpm', '219.7Nm@ 1500-2750rpm',\n",
       "       '219.7Nm@ 1750-2750rpm', '219.9Nm@ 1750-2750rpm',\n",
       "       '22.4 kgm at 1750-2750rpm', '22.9@ 1,950-4,700(kgm@ rpm)',\n",
       "       '220Nm at 1400-2600 rpm', '220Nm@ 1500-2750rpm', '222Nm@ 4300rpm',\n",
       "       '223Nm@ 1600-2200rpm', '224Nm@ 4000rpm', '224nm@ 1500-2750rpm',\n",
       "       '225Nm@ 1500-2500rpm', '226Nm@ 4400rpm', '228Nm@ 4400rpm',\n",
       "       '23.6@ 4,250(kgm@ rpm)', '230Nm@ 1500-2250rpm',\n",
       "       '230Nm@ 1500-2500rpm', '230Nm@ 1800-2000rpm',\n",
       "       '24 KGM at 1900-2750 RPM', '24.5@ 3,500-4,500(kgm@ rpm)',\n",
       "       '240Nm@ 1600-2800rpm', '240Nm@ 1750rpm', '240Nm@ 1850rpm',\n",
       "       '240Nm@ 2000rpm', '245Nm@ 1750rpm', '245Nm@ 4000rpm',\n",
       "       '245Nm@ 5000rpm', '247Nm@ 1800-2000rpm', '248Nm@ 2250rpm',\n",
       "       '24@ 1,900-2,750(kgm@ rpm)', '25.5@ 1,500-3,000(kgm@ rpm)',\n",
       "       '25.5@ 1,900(kgm@ rpm)', '250 Nm at 1,500-3,000 rpm',\n",
       "       '250 Nm at 2750 rpm', '250.06nm@ 1500-2750rpm',\n",
       "       '250@ 1250-5000rpm', '250Nm@ 1000-2000rpm', '250Nm@ 1250-5000rpm',\n",
       "       '250Nm@ 1250-5300rpm', '250Nm@ 1500-2500rpm',\n",
       "       '250Nm@ 1500-3000rpm', '250Nm@ 1500-4500rpm',\n",
       "       '250Nm@ 1500~4500rpm', '250Nm@ 1600-2000rpm',\n",
       "       '250Nm@ 1600-3600rpm', '250Nm@ 1750-2500rpm', '250Nm@ 4250rpm',\n",
       "       '250nm@ 1500-2750rpm', '250nm@ 1500-3000rpm',\n",
       "       '259.87NM@ 1500-3000rpm', '259.87Nm@ 1900-2750rpm',\n",
       "       '259.87nm@ 1500-3000rpm', '259.88Nm@ 1900-2750rpm',\n",
       "       '259.8Nm@ 1900-2750rpm', '259.9Nm@ 1900-2750rpm',\n",
       "       '25@ 1,800-2,800(kgm@ rpm)', '260 Nm at 1800-2200 rpm',\n",
       "       '260Nm@ 1500-2750rpm', '260Nm@ 1800-2200rpm', '263.7Nm@ 2500rpm',\n",
       "       '277.5Nm@ 1700-2200rpm', '28.3@ 1,700-2,200(kgm@ rpm)',\n",
       "       '280Nm@ 1350-4600rpm', '280Nm@ 1800-2800rpm',\n",
       "       '280Nm@ 2400-2800rpm', '285Nm@ 2400-4000rpm',\n",
       "       '290Nm@ 1800-2800rpm', '292Nm@ 2000rpm', '300Nm@ 1200-1400rpm',\n",
       "       '300Nm@ 1200-4000rpm', '300Nm@ 1500-2500rpm',\n",
       "       '300Nm@ 1600-3000rpm', '300Nm@ 1600-4000rpm',\n",
       "       '300Nm@ 1750-2500rpm', '300Nm@ 2000rpm', '305Nm@ 2000rpm',\n",
       "       '32.1kgm@ 2000rpm', '320Nm@ 1400-4100rpm', '320Nm@ 1500-2800rpm',\n",
       "       '320Nm@ 1500-3000rpm', '320Nm@ 1600-2800rpm',\n",
       "       '320Nm@ 1700-2700rpm', '320Nm@ 1750-2500rpm',\n",
       "       '320Nm@ 1750-2700rpm', '320Nm@ 1750-3000rpm',\n",
       "       '320Nm@ 1800-2800rpm', '320Nm@ 2000rpm', '321Nm@ 1600-2400rpm',\n",
       "       '327Nm@ 2600rpm', '33.7@ 1,800(kgm@ rpm)', '330Nm@ 1600-2800rpm',\n",
       "       '330Nm@ 1800rpm', '333Nm@ 1600-3200rpm',\n",
       "       '33@ 2,000-2,680(kgm@ rpm)', '340Nm@ 1800-3250rpm',\n",
       "       '340nm@ 1750-3000rpm', '343Nm@ 1400-2800rpm',\n",
       "       '343Nm@ 1400-3400rpm', '343Nm@ 1600-2800rpm', '347Nm@ 4300rpm',\n",
       "       '35.7@ 1,750-3,000(kgm@ rpm)', '350Nm@ 1500-2750rpm',\n",
       "       '350Nm@ 1500-3500rpm', '350Nm@ 1750-2500rpm',\n",
       "       '350nm@ 1800-2600rpm', '355Nm@ 4500rpm',\n",
       "       '36.6@ 1,750-2,500(kgm@ rpm)', '360Nm@ 1200-3400rpm',\n",
       "       '360Nm@ 1400-2600rpm', '360Nm@ 1400-3200rpm',\n",
       "       '360Nm@ 1750-2800rpm', '360Nm@ 2000rpm', '380NM@ 1800-2800rpm',\n",
       "       '380Nm(38.7kgm)@ 2500rpm', '380Nm@ 1750-2500rpm',\n",
       "       '380Nm@ 1750-2750rpm', '380Nm@ 1750-3000rpm', '380Nm@ 1750rpm',\n",
       "       '380Nm@ 2000rpm', '380Nm@ 2500rpm', '382nm@ 1750-2250rpm',\n",
       "       '385Nm@ 1600-2500rpm', '4.8kgm@ 3000rpm', '400 Nm /2000 rpm',\n",
       "       '400Nm', '400Nm@ 1400-2800rpm', '400Nm@ 175-2750rpm',\n",
       "       '400Nm@ 1750-2500rpm', '400Nm@ 1750-2750rpm',\n",
       "       '400Nm@ 1750-3000rpm', '400Nm@ 2000-2500rpm',\n",
       "       '400nm@ 1750-2500rpm', '400nm@ 1750-3000rpm', '400nm@ 2800rpm',\n",
       "       '402Nm@ 1600-3000rpm', '410Nm@ 1600-2800rpm',\n",
       "       '420.7Nm@ 1800-2500rpm', '420Nm@ 1400-2600rpm', '420Nm@ 2000rpm',\n",
       "       '424Nm@ 2000rpm', '42@ 2,000(kgm@ rpm)', '430Nm@ 1750-2500rpm',\n",
       "       '436.39Nm@ 1800-2500rpm', '436.4Nm@ 1800-2500rpm',\n",
       "       '450Nm@ 1600-2400rpm', '450Nm@ 1750-2500rpm', '450Nm@ 2000rpm',\n",
       "       '46.5@ 1,400-2,800(kgm@ rpm)', '470Nm@ 1750-2500rpm', '480Nm',\n",
       "       '48@ 3,000+/-500(NM@ rpm)', '48Nm@ 3000rpm', '490Nm@ 1600rpm',\n",
       "       '5.7@ 2,500(kgm@ rpm)', '500Nm@ 1600-1800rpm', '500Nm@ 2000rpm',\n",
       "       '510@ 1600-2400', '510Nm@ 1600-2800rpm',\n",
       "       '51@ 1,750-3,000(kgm@ rpm)', '51Nm@ 4000+/-500rpm',\n",
       "       '51Nm@ 4000rpm', '53@ 2,000-2,750(kgm@ rpm)', '540Nm@ 2000rpm',\n",
       "       '550Nm@ 1750-2750rpm', '560Nm@ 1500rpm', '57Nm@ 2500rpm',\n",
       "       '580Nm@ 1400-3250rpm', '59Nm@ 2500rpm', '6.1@ 3,000(kgm@ rpm)',\n",
       "       '6.1kgm@ 3000rpm', '600Nm@ 2000rpm', '60Nm@ 3500rpm',\n",
       "       '619Nm@ 1600-2400rpm', '620Nm@ 1500-2500rpm',\n",
       "       '620Nm@ 1600-2400rpm', '620Nm@ 2000-2500rpm', '62Nm@ 2500rpm',\n",
       "       '62Nm@ 3000rpm', '640Nm@ 1740rpm', '69Nm@ 3500rpm',\n",
       "       '6@ 2,500(kgm@ rpm)', '7.8@ 4,500(kgm@ rpm)', '71Nm@ 3500rpm',\n",
       "       '72.9Nm@ 2250rpm', '72Nm@ 4386rpm', '72Nm@ 4388rpm',\n",
       "       '74.5Nm@ 4000rpm', '77Nm@ 3500rpm', '789Nm@ 2250rpm',\n",
       "       '78Nm@ 3500rpm', '78Nm@ 4500rpm', '8.5@ 2,500(kgm@ rpm)',\n",
       "       '8.6@ 3,500(kgm@ rpm)', '83Nm@ 3000rpm', '84Nm@ 3500rpm',\n",
       "       '85Nm@ 2500rpm', '85Nm@ 3000rpm', '85Nm@ 3500rpm',\n",
       "       '88.4Nm@ 4200rpm', '9.2@ 4,200(kgm@ rpm)', '9.8@ 3,000(kgm@ rpm)',\n",
       "       '90.3Nm@ 4200rpm', '90Nm@ 2650rpm', '90Nm@ 3500rpm',\n",
       "       '90nm@ 3500rpm', '91Nm@ 4250rpm', '94.14Nm@ 3500rpm',\n",
       "       '95Nm@ 3000-4300rpm', '96  Nm at 3000  rpm ', '96 Nm at 3000 rpm',\n",
       "       '96.1Nm@ 3000rpm', '96Nm@ 2500rpm', '96Nm@ 3000rpm',\n",
       "       '96Nm@ 3500rpm', '98Nm@ 1600-3000rpm', '99.04Nm@ 4500rpm',\n",
       "       '99.07Nm@ 4500rpm', '99.1Nm@ 4500rpm', '99.8Nm@ 2700rpm',\n",
       "       '99Nm@ 4500rpm', nan], dtype=object)"
      ]
     },
     "execution_count": 90,
     "metadata": {},
     "output_type": "execute_result"
    }
   ],
   "source": [
    "# Checking if there are any outliers in \"max_power\" column\n",
    "df[\"torque\"].sort_values().unique()"
   ]
  },
  {
   "cell_type": "code",
   "execution_count": 91,
   "metadata": {
    "colab": {
     "base_uri": "https://localhost:8080/"
    },
    "executionInfo": {
     "elapsed": 3711,
     "status": "ok",
     "timestamp": 1620554737801,
     "user": {
      "displayName": "Manoj Kumar",
      "photoUrl": "",
      "userId": "09539423896492791031"
     },
     "user_tz": -330
    },
    "id": "Bec91yPgz-Ny",
    "outputId": "47a4b363-0441-43c7-9ea1-86f2752de748"
   },
   "outputs": [
    {
     "data": {
      "text/plain": [
       "name               0\n",
       "year               0\n",
       "selling_price      0\n",
       "km_driven          0\n",
       "fuel               0\n",
       "seller_type        0\n",
       "transmission       0\n",
       "owner              0\n",
       "mileage          238\n",
       "engine           221\n",
       "max_power        222\n",
       "torque           222\n",
       "seats            221\n",
       "dtype: int64"
      ]
     },
     "execution_count": 91,
     "metadata": {},
     "output_type": "execute_result"
    }
   ],
   "source": [
    "# Cheching for null values\n",
    "df.isnull().sum()"
   ]
  },
  {
   "cell_type": "markdown",
   "metadata": {
    "id": "4SxlCHIN1i86"
   },
   "source": [
    "We have null values in mileage, engine, max_power, torque, seats columns"
   ]
  },
  {
   "cell_type": "markdown",
   "metadata": {
    "id": "jJfyxPRV12Mj"
   },
   "source": [
    "## Data Preprocessing"
   ]
  },
  {
   "cell_type": "code",
   "execution_count": 92,
   "metadata": {
    "colab": {
     "base_uri": "https://localhost:8080/",
     "height": 195
    },
    "executionInfo": {
     "elapsed": 3706,
     "status": "ok",
     "timestamp": 1620554737803,
     "user": {
      "displayName": "Manoj Kumar",
      "photoUrl": "",
      "userId": "09539423896492791031"
     },
     "user_tz": -330
    },
    "id": "a02FAp2WOo4a",
    "outputId": "61bcc9ae-3c00-47e2-81b5-5372d2b54ca8"
   },
   "outputs": [
    {
     "data": {
      "text/html": [
       "<div>\n",
       "<style scoped>\n",
       "    .dataframe tbody tr th:only-of-type {\n",
       "        vertical-align: middle;\n",
       "    }\n",
       "\n",
       "    .dataframe tbody tr th {\n",
       "        vertical-align: top;\n",
       "    }\n",
       "\n",
       "    .dataframe thead th {\n",
       "        text-align: right;\n",
       "    }\n",
       "</style>\n",
       "<table border=\"1\" class=\"dataframe\">\n",
       "  <thead>\n",
       "    <tr style=\"text-align: right;\">\n",
       "      <th></th>\n",
       "      <th>name</th>\n",
       "      <th>year</th>\n",
       "      <th>selling_price</th>\n",
       "      <th>km_driven</th>\n",
       "      <th>fuel</th>\n",
       "      <th>seller_type</th>\n",
       "      <th>transmission</th>\n",
       "      <th>owner</th>\n",
       "      <th>mileage</th>\n",
       "      <th>engine</th>\n",
       "      <th>max_power</th>\n",
       "      <th>torque</th>\n",
       "      <th>seats</th>\n",
       "    </tr>\n",
       "  </thead>\n",
       "  <tbody>\n",
       "    <tr>\n",
       "      <th>0</th>\n",
       "      <td>Maruti Swift Dzire VDI</td>\n",
       "      <td>2014</td>\n",
       "      <td>450000</td>\n",
       "      <td>145500</td>\n",
       "      <td>Diesel</td>\n",
       "      <td>Individual</td>\n",
       "      <td>Manual</td>\n",
       "      <td>First Owner</td>\n",
       "      <td>23.4 kmpl</td>\n",
       "      <td>1248 CC</td>\n",
       "      <td>74 bhp</td>\n",
       "      <td>190Nm@ 2000rpm</td>\n",
       "      <td>5.0</td>\n",
       "    </tr>\n",
       "    <tr>\n",
       "      <th>1</th>\n",
       "      <td>Skoda Rapid 1.5 TDI Ambition</td>\n",
       "      <td>2014</td>\n",
       "      <td>370000</td>\n",
       "      <td>120000</td>\n",
       "      <td>Diesel</td>\n",
       "      <td>Individual</td>\n",
       "      <td>Manual</td>\n",
       "      <td>Second Owner</td>\n",
       "      <td>21.14 kmpl</td>\n",
       "      <td>1498 CC</td>\n",
       "      <td>103.52 bhp</td>\n",
       "      <td>250Nm@ 1500-2500rpm</td>\n",
       "      <td>5.0</td>\n",
       "    </tr>\n",
       "    <tr>\n",
       "      <th>2</th>\n",
       "      <td>Honda City 2017-2020 EXi</td>\n",
       "      <td>2006</td>\n",
       "      <td>158000</td>\n",
       "      <td>140000</td>\n",
       "      <td>Petrol</td>\n",
       "      <td>Individual</td>\n",
       "      <td>Manual</td>\n",
       "      <td>Third Owner</td>\n",
       "      <td>17.7 kmpl</td>\n",
       "      <td>1497 CC</td>\n",
       "      <td>78 bhp</td>\n",
       "      <td>12.7@ 2,700(kgm@ rpm)</td>\n",
       "      <td>5.0</td>\n",
       "    </tr>\n",
       "    <tr>\n",
       "      <th>3</th>\n",
       "      <td>Hyundai i20 Sportz Diesel</td>\n",
       "      <td>2010</td>\n",
       "      <td>225000</td>\n",
       "      <td>127000</td>\n",
       "      <td>Diesel</td>\n",
       "      <td>Individual</td>\n",
       "      <td>Manual</td>\n",
       "      <td>First Owner</td>\n",
       "      <td>23.0 kmpl</td>\n",
       "      <td>1396 CC</td>\n",
       "      <td>90 bhp</td>\n",
       "      <td>22.4 kgm at 1750-2750rpm</td>\n",
       "      <td>5.0</td>\n",
       "    </tr>\n",
       "    <tr>\n",
       "      <th>4</th>\n",
       "      <td>Maruti Swift VXI BSIII</td>\n",
       "      <td>2007</td>\n",
       "      <td>130000</td>\n",
       "      <td>120000</td>\n",
       "      <td>Petrol</td>\n",
       "      <td>Individual</td>\n",
       "      <td>Manual</td>\n",
       "      <td>First Owner</td>\n",
       "      <td>16.1 kmpl</td>\n",
       "      <td>1298 CC</td>\n",
       "      <td>88.2 bhp</td>\n",
       "      <td>11.5@ 4,500(kgm@ rpm)</td>\n",
       "      <td>5.0</td>\n",
       "    </tr>\n",
       "  </tbody>\n",
       "</table>\n",
       "</div>"
      ],
      "text/plain": [
       "                           name  year  selling_price  km_driven    fuel  \\\n",
       "0        Maruti Swift Dzire VDI  2014         450000     145500  Diesel   \n",
       "1  Skoda Rapid 1.5 TDI Ambition  2014         370000     120000  Diesel   \n",
       "2      Honda City 2017-2020 EXi  2006         158000     140000  Petrol   \n",
       "3     Hyundai i20 Sportz Diesel  2010         225000     127000  Diesel   \n",
       "4        Maruti Swift VXI BSIII  2007         130000     120000  Petrol   \n",
       "\n",
       "  seller_type transmission         owner     mileage   engine   max_power  \\\n",
       "0  Individual       Manual   First Owner   23.4 kmpl  1248 CC      74 bhp   \n",
       "1  Individual       Manual  Second Owner  21.14 kmpl  1498 CC  103.52 bhp   \n",
       "2  Individual       Manual   Third Owner   17.7 kmpl  1497 CC      78 bhp   \n",
       "3  Individual       Manual   First Owner   23.0 kmpl  1396 CC      90 bhp   \n",
       "4  Individual       Manual   First Owner   16.1 kmpl  1298 CC    88.2 bhp   \n",
       "\n",
       "                     torque  seats  \n",
       "0            190Nm@ 2000rpm    5.0  \n",
       "1       250Nm@ 1500-2500rpm    5.0  \n",
       "2     12.7@ 2,700(kgm@ rpm)    5.0  \n",
       "3  22.4 kgm at 1750-2750rpm    5.0  \n",
       "4     11.5@ 4,500(kgm@ rpm)    5.0  "
      ]
     },
     "execution_count": 92,
     "metadata": {},
     "output_type": "execute_result"
    }
   ],
   "source": [
    "df.head()"
   ]
  },
  {
   "cell_type": "code",
   "execution_count": 93,
   "metadata": {},
   "outputs": [],
   "source": [
    "# Filling NaN vales with word \"missing\"\n",
    "df = df.fillna(value = \"missing\")"
   ]
  },
  {
   "cell_type": "code",
   "execution_count": 94,
   "metadata": {
    "colab": {
     "base_uri": "https://localhost:8080/"
    },
    "executionInfo": {
     "elapsed": 3700,
     "status": "ok",
     "timestamp": 1620554737805,
     "user": {
      "displayName": "Manoj Kumar",
      "photoUrl": "",
      "userId": "09539423896492791031"
     },
     "user_tz": -330
    },
    "id": "r-tUC0svOr3j",
    "outputId": "1c468424-1616-40d2-9a5f-d59536fb4fbd"
   },
   "outputs": [
    {
     "data": {
      "text/plain": [
       "['Maruti',\n",
       " 'Skoda',\n",
       " 'Honda',\n",
       " 'Hyundai',\n",
       " 'Maruti',\n",
       " 'Hyundai',\n",
       " 'Maruti',\n",
       " 'Maruti',\n",
       " 'Toyota',\n",
       " 'Ford',\n",
       " 'Renault',\n",
       " 'Maruti',\n",
       " 'Maruti',\n",
       " 'Maruti',\n",
       " 'Maruti',\n",
       " 'Mahindra',\n",
       " 'Maruti',\n",
       " 'Hyundai',\n",
       " 'Maruti',\n",
       " 'Hyundai',\n",
       " 'Mahindra',\n",
       " 'Honda',\n",
       " 'Maruti',\n",
       " 'Maruti',\n",
       " 'Tata',\n",
       " 'Maruti',\n",
       " 'Maruti',\n",
       " 'Chevrolet',\n",
       " 'Maruti',\n",
       " 'Maruti',\n",
       " 'Maruti',\n",
       " 'Fiat',\n",
       " 'Maruti',\n",
       " 'Hyundai',\n",
       " 'Maruti',\n",
       " 'Maruti',\n",
       " 'Maruti',\n",
       " 'Hyundai',\n",
       " 'Datsun',\n",
       " 'Tata',\n",
       " 'Maruti',\n",
       " 'Jeep',\n",
       " 'Honda',\n",
       " 'Honda',\n",
       " 'Maruti',\n",
       " 'Maruti',\n",
       " 'Maruti',\n",
       " 'Toyota',\n",
       " 'Toyota',\n",
       " 'Mercedes-Benz',\n",
       " 'Honda',\n",
       " 'Mitsubishi',\n",
       " 'Honda',\n",
       " 'Maruti',\n",
       " 'Honda',\n",
       " 'Toyota',\n",
       " 'Toyota',\n",
       " 'Audi',\n",
       " 'Toyota',\n",
       " 'Audi',\n",
       " 'Mercedes-Benz',\n",
       " 'Tata',\n",
       " 'Hyundai',\n",
       " 'Hyundai',\n",
       " 'Maruti',\n",
       " 'Ford',\n",
       " 'Maruti',\n",
       " 'Volkswagen',\n",
       " 'Honda',\n",
       " 'Maruti',\n",
       " 'Volkswagen',\n",
       " 'Maruti',\n",
       " 'Maruti',\n",
       " 'Hyundai',\n",
       " 'Maruti',\n",
       " 'Toyota',\n",
       " 'Maruti',\n",
       " 'Maruti',\n",
       " 'Tata',\n",
       " 'Volkswagen',\n",
       " 'Toyota',\n",
       " 'Ford',\n",
       " 'BMW',\n",
       " 'Maruti',\n",
       " 'Datsun',\n",
       " 'Maruti',\n",
       " 'Maruti',\n",
       " 'Maruti',\n",
       " 'Hyundai',\n",
       " 'Maruti',\n",
       " 'Maruti',\n",
       " 'Volkswagen',\n",
       " 'Hyundai',\n",
       " 'Volkswagen',\n",
       " 'Maruti',\n",
       " 'Hyundai',\n",
       " 'Maruti',\n",
       " 'Hyundai',\n",
       " 'Maruti',\n",
       " 'Hyundai',\n",
       " 'Maruti',\n",
       " 'Tata',\n",
       " 'Maruti',\n",
       " 'Maruti',\n",
       " 'Maruti',\n",
       " 'Mahindra',\n",
       " 'Ford',\n",
       " 'Hyundai',\n",
       " 'Volkswagen',\n",
       " 'Tata',\n",
       " 'Mahindra',\n",
       " 'Tata',\n",
       " 'Hyundai',\n",
       " 'Hyundai',\n",
       " 'Toyota',\n",
       " 'Maruti',\n",
       " 'Maruti',\n",
       " 'Maruti',\n",
       " 'Maruti',\n",
       " 'Maruti',\n",
       " 'Nissan',\n",
       " 'Hyundai',\n",
       " 'Ford',\n",
       " 'Maruti',\n",
       " 'Renault',\n",
       " 'Maruti',\n",
       " 'Maruti',\n",
       " 'Maruti',\n",
       " 'Hyundai',\n",
       " 'Maruti',\n",
       " 'Honda',\n",
       " 'Audi',\n",
       " 'Lexus',\n",
       " 'Jaguar',\n",
       " 'Jeep',\n",
       " 'Land',\n",
       " 'Mercedes-Benz',\n",
       " 'BMW',\n",
       " 'BMW',\n",
       " 'BMW',\n",
       " 'Skoda',\n",
       " 'Mercedes-Benz',\n",
       " 'MG',\n",
       " 'Honda',\n",
       " 'Toyota',\n",
       " 'Volvo',\n",
       " 'Audi',\n",
       " 'Maruti',\n",
       " 'Mercedes-Benz',\n",
       " 'BMW',\n",
       " 'Hyundai',\n",
       " 'Jaguar',\n",
       " 'Tata',\n",
       " 'Volkswagen',\n",
       " 'Hyundai',\n",
       " 'Skoda',\n",
       " 'Mercedes-Benz',\n",
       " 'Maruti',\n",
       " 'Mercedes-Benz',\n",
       " 'Honda',\n",
       " 'Toyota',\n",
       " 'Maruti',\n",
       " 'Maruti',\n",
       " 'Toyota',\n",
       " 'Tata',\n",
       " 'BMW',\n",
       " 'Toyota',\n",
       " 'BMW',\n",
       " 'Toyota',\n",
       " 'Maruti',\n",
       " 'Volvo',\n",
       " 'Volkswagen',\n",
       " 'Ford',\n",
       " 'Ford',\n",
       " 'Maruti',\n",
       " 'Maruti',\n",
       " 'Hyundai',\n",
       " 'Maruti',\n",
       " 'Maruti',\n",
       " 'Hyundai',\n",
       " 'Volkswagen',\n",
       " 'Hyundai',\n",
       " 'Maruti',\n",
       " 'Hyundai',\n",
       " 'Honda',\n",
       " 'Toyota',\n",
       " 'Daewoo',\n",
       " 'Toyota',\n",
       " 'Mahindra',\n",
       " 'Tata',\n",
       " 'Honda',\n",
       " 'Maruti',\n",
       " 'Maruti',\n",
       " 'Hyundai',\n",
       " 'Maruti',\n",
       " 'Hyundai',\n",
       " 'Hyundai',\n",
       " 'Maruti',\n",
       " 'Tata',\n",
       " 'Maruti',\n",
       " 'Toyota',\n",
       " 'Honda',\n",
       " 'Honda',\n",
       " 'Maruti',\n",
       " 'Maruti',\n",
       " 'Hyundai',\n",
       " 'Maruti',\n",
       " 'Maruti',\n",
       " 'Maruti',\n",
       " 'Maruti',\n",
       " 'Maruti',\n",
       " 'Maruti',\n",
       " 'Tata',\n",
       " 'Hyundai',\n",
       " 'Maruti',\n",
       " 'Maruti',\n",
       " 'Toyota',\n",
       " 'Honda',\n",
       " 'Maruti',\n",
       " 'Tata',\n",
       " 'Maruti',\n",
       " 'Renault',\n",
       " 'Datsun',\n",
       " 'Maruti',\n",
       " 'Hyundai',\n",
       " 'Maruti',\n",
       " 'Hyundai',\n",
       " 'Tata',\n",
       " 'Maruti',\n",
       " 'Nissan',\n",
       " 'Ford',\n",
       " 'Nissan',\n",
       " 'Maruti',\n",
       " 'Mahindra',\n",
       " 'Mahindra',\n",
       " 'Maruti',\n",
       " 'Hyundai',\n",
       " 'Renault',\n",
       " 'Maruti',\n",
       " 'Mahindra',\n",
       " 'Maruti',\n",
       " 'Hyundai',\n",
       " 'Hyundai',\n",
       " 'Mahindra',\n",
       " 'Toyota',\n",
       " 'Maruti',\n",
       " 'Honda',\n",
       " 'Hyundai',\n",
       " 'Maruti',\n",
       " 'Maruti',\n",
       " 'Hyundai',\n",
       " 'Hyundai',\n",
       " 'Tata',\n",
       " 'Maruti',\n",
       " 'Tata',\n",
       " 'Hyundai',\n",
       " 'Maruti',\n",
       " 'Tata',\n",
       " 'Mahindra',\n",
       " 'Hyundai',\n",
       " 'Maruti',\n",
       " 'Maruti',\n",
       " 'Honda',\n",
       " 'Maruti',\n",
       " 'Hyundai',\n",
       " 'Toyota',\n",
       " 'Tata',\n",
       " 'Nissan',\n",
       " 'Hyundai',\n",
       " 'Maruti',\n",
       " 'Toyota',\n",
       " 'Mahindra',\n",
       " 'Maruti',\n",
       " 'Maruti',\n",
       " 'Datsun',\n",
       " 'Hyundai',\n",
       " 'Mahindra',\n",
       " 'Tata',\n",
       " 'Tata',\n",
       " 'Tata',\n",
       " 'Hyundai',\n",
       " 'Honda',\n",
       " 'Hyundai',\n",
       " 'Tata',\n",
       " 'Maruti',\n",
       " 'Tata',\n",
       " 'Mahindra',\n",
       " 'Mahindra',\n",
       " 'Mercedes-Benz',\n",
       " 'Maruti',\n",
       " 'Hyundai',\n",
       " 'Hyundai',\n",
       " 'Hyundai',\n",
       " 'Maruti',\n",
       " 'Hyundai',\n",
       " 'Maruti',\n",
       " 'Maruti',\n",
       " 'Mahindra',\n",
       " 'Hyundai',\n",
       " 'Hyundai',\n",
       " 'Maruti',\n",
       " 'Hyundai',\n",
       " 'Maruti',\n",
       " 'Maruti',\n",
       " 'Maruti',\n",
       " 'Hyundai',\n",
       " 'Maruti',\n",
       " 'Maruti',\n",
       " 'Chevrolet',\n",
       " 'Tata',\n",
       " 'Maruti',\n",
       " 'Honda',\n",
       " 'Honda',\n",
       " 'Maruti',\n",
       " 'Nissan',\n",
       " 'Honda',\n",
       " 'Mahindra',\n",
       " 'Renault',\n",
       " 'Toyota',\n",
       " 'Maruti',\n",
       " 'Hyundai',\n",
       " 'Tata',\n",
       " 'Hyundai',\n",
       " 'Maruti',\n",
       " 'Maruti',\n",
       " 'Maruti',\n",
       " 'Maruti',\n",
       " 'Hyundai',\n",
       " 'Maruti',\n",
       " 'Maruti',\n",
       " 'Toyota',\n",
       " 'Maruti',\n",
       " 'Nissan',\n",
       " 'Maruti',\n",
       " 'Hyundai',\n",
       " 'Maruti',\n",
       " 'Hyundai',\n",
       " 'Maruti',\n",
       " 'Maruti',\n",
       " 'Maruti',\n",
       " 'Maruti',\n",
       " 'Maruti',\n",
       " 'Nissan',\n",
       " 'Maruti',\n",
       " 'Ford',\n",
       " 'Mahindra',\n",
       " 'Hyundai',\n",
       " 'Maruti',\n",
       " 'Datsun',\n",
       " 'Hyundai',\n",
       " 'Toyota',\n",
       " 'Renault',\n",
       " 'Honda',\n",
       " 'Volkswagen',\n",
       " 'Nissan',\n",
       " 'Toyota',\n",
       " 'Hyundai',\n",
       " 'Renault',\n",
       " 'Mahindra',\n",
       " 'Toyota',\n",
       " 'Tata',\n",
       " 'Hyundai',\n",
       " 'Mercedes-Benz',\n",
       " 'Tata',\n",
       " 'Nissan',\n",
       " 'Maruti',\n",
       " 'Maruti',\n",
       " 'Hyundai',\n",
       " 'Renault',\n",
       " 'Volkswagen',\n",
       " 'Jaguar',\n",
       " 'Lexus',\n",
       " 'Jaguar',\n",
       " 'Tata',\n",
       " 'Volvo',\n",
       " 'Toyota',\n",
       " 'Maruti',\n",
       " 'Maruti',\n",
       " 'Honda',\n",
       " 'Toyota',\n",
       " 'Maruti',\n",
       " 'Toyota',\n",
       " 'Maruti',\n",
       " 'Hyundai',\n",
       " 'BMW',\n",
       " 'BMW',\n",
       " 'Honda',\n",
       " 'Skoda',\n",
       " 'Volvo',\n",
       " 'Hyundai',\n",
       " 'Toyota',\n",
       " 'Honda',\n",
       " 'Maruti',\n",
       " 'Hyundai',\n",
       " 'Toyota',\n",
       " 'Maruti',\n",
       " 'Hyundai',\n",
       " 'Hyundai',\n",
       " 'Maruti',\n",
       " 'Honda',\n",
       " 'Maruti',\n",
       " 'Tata',\n",
       " 'Maruti',\n",
       " 'Maruti',\n",
       " 'Mahindra',\n",
       " 'Maruti',\n",
       " 'Hyundai',\n",
       " 'Tata',\n",
       " 'Maruti',\n",
       " 'Jaguar',\n",
       " 'Lexus',\n",
       " 'Jaguar',\n",
       " 'Tata',\n",
       " 'Volvo',\n",
       " 'Toyota',\n",
       " 'Maruti',\n",
       " 'Maruti',\n",
       " 'Honda',\n",
       " 'Toyota',\n",
       " 'Maruti',\n",
       " 'Toyota',\n",
       " 'Maruti',\n",
       " 'Hyundai',\n",
       " 'BMW',\n",
       " 'BMW',\n",
       " 'Honda',\n",
       " 'Skoda',\n",
       " 'Volvo',\n",
       " 'Honda',\n",
       " 'Hyundai',\n",
       " 'Maruti',\n",
       " 'Hyundai',\n",
       " 'Toyota',\n",
       " 'Toyota',\n",
       " 'Maruti',\n",
       " 'Toyota',\n",
       " 'Nissan',\n",
       " 'Maruti',\n",
       " 'Maruti',\n",
       " 'Volkswagen',\n",
       " 'Mahindra',\n",
       " 'Maruti',\n",
       " 'Maruti',\n",
       " 'Hyundai',\n",
       " 'Maruti',\n",
       " 'Maruti',\n",
       " 'Ford',\n",
       " 'Tata',\n",
       " 'Ford',\n",
       " 'Maruti',\n",
       " 'Hyundai',\n",
       " 'Maruti',\n",
       " 'Tata',\n",
       " 'Ford',\n",
       " 'Hyundai',\n",
       " 'Hyundai',\n",
       " 'Honda',\n",
       " 'Mahindra',\n",
       " 'Nissan',\n",
       " 'Maruti',\n",
       " 'Datsun',\n",
       " 'Toyota',\n",
       " 'Hyundai',\n",
       " 'Toyota',\n",
       " 'Maruti',\n",
       " 'Renault',\n",
       " 'Chevrolet',\n",
       " 'Maruti',\n",
       " 'Toyota',\n",
       " 'Maruti',\n",
       " 'Toyota',\n",
       " 'Chevrolet',\n",
       " 'Tata',\n",
       " 'Nissan',\n",
       " 'Hyundai',\n",
       " 'Mahindra',\n",
       " 'Maruti',\n",
       " 'Ford',\n",
       " 'Tata',\n",
       " 'Hyundai',\n",
       " 'Maruti',\n",
       " 'Maruti',\n",
       " 'Hyundai',\n",
       " 'Maruti',\n",
       " 'Maruti',\n",
       " 'Hyundai',\n",
       " 'Maruti',\n",
       " 'Mahindra',\n",
       " 'Kia',\n",
       " 'Hyundai',\n",
       " 'Honda',\n",
       " 'Maruti',\n",
       " 'Maruti',\n",
       " 'Maruti',\n",
       " 'Volkswagen',\n",
       " 'Chevrolet',\n",
       " 'Toyota',\n",
       " 'Hyundai',\n",
       " 'Maruti',\n",
       " 'Honda',\n",
       " 'Maruti',\n",
       " 'Maruti',\n",
       " 'Maruti',\n",
       " 'Chevrolet',\n",
       " 'Tata',\n",
       " 'Chevrolet',\n",
       " 'Tata',\n",
       " 'Ford',\n",
       " 'Tata',\n",
       " 'Maruti',\n",
       " 'Maruti',\n",
       " 'Datsun',\n",
       " 'Maruti',\n",
       " 'Maruti',\n",
       " 'Tata',\n",
       " 'Mahindra',\n",
       " 'Maruti',\n",
       " 'Hyundai',\n",
       " 'Hyundai',\n",
       " 'Maruti',\n",
       " 'Maruti',\n",
       " 'Maruti',\n",
       " 'Chevrolet',\n",
       " 'Tata',\n",
       " 'Chevrolet',\n",
       " 'Maruti',\n",
       " 'Jeep',\n",
       " 'Honda',\n",
       " 'Volkswagen',\n",
       " 'Maruti',\n",
       " 'Hyundai',\n",
       " 'Tata',\n",
       " 'Maruti',\n",
       " 'Hyundai',\n",
       " 'Hyundai',\n",
       " 'Maruti',\n",
       " 'Hyundai',\n",
       " 'Maruti',\n",
       " 'Chevrolet',\n",
       " 'Maruti',\n",
       " 'Tata',\n",
       " 'Ford',\n",
       " 'Maruti',\n",
       " 'Toyota',\n",
       " 'Mahindra',\n",
       " 'Maruti',\n",
       " 'Maruti',\n",
       " 'Maruti',\n",
       " 'Tata',\n",
       " 'Maruti',\n",
       " 'Toyota',\n",
       " 'Hyundai',\n",
       " 'Maruti',\n",
       " 'Hyundai',\n",
       " 'Hyundai',\n",
       " 'Honda',\n",
       " 'Honda',\n",
       " 'Hyundai',\n",
       " 'Nissan',\n",
       " 'Ford',\n",
       " 'Hyundai',\n",
       " 'Datsun',\n",
       " 'Ford',\n",
       " 'Hyundai',\n",
       " 'Ford',\n",
       " 'Nissan',\n",
       " 'Hyundai',\n",
       " 'Maruti',\n",
       " 'Hyundai',\n",
       " 'Jeep',\n",
       " 'Maruti',\n",
       " 'Tata',\n",
       " 'Maruti',\n",
       " 'Skoda',\n",
       " 'Hyundai',\n",
       " 'Maruti',\n",
       " 'Maruti',\n",
       " 'Mahindra',\n",
       " 'Renault',\n",
       " 'Mahindra',\n",
       " 'Maruti',\n",
       " 'Ford',\n",
       " 'Hyundai',\n",
       " 'Maruti',\n",
       " 'Mahindra',\n",
       " 'Maruti',\n",
       " 'Hyundai',\n",
       " 'Toyota',\n",
       " 'Mitsubishi',\n",
       " 'Chevrolet',\n",
       " 'Volkswagen',\n",
       " 'Toyota',\n",
       " 'Hyundai',\n",
       " 'Renault',\n",
       " 'Maruti',\n",
       " 'Toyota',\n",
       " 'Maruti',\n",
       " 'Hyundai',\n",
       " 'Honda',\n",
       " 'Maruti',\n",
       " 'Toyota',\n",
       " 'Ford',\n",
       " 'Hyundai',\n",
       " 'Tata',\n",
       " 'Tata',\n",
       " 'Tata',\n",
       " 'Hyundai',\n",
       " 'Tata',\n",
       " 'Renault',\n",
       " 'Mahindra',\n",
       " 'Mahindra',\n",
       " 'Maruti',\n",
       " 'Maruti',\n",
       " 'Maruti',\n",
       " 'Tata',\n",
       " 'Ford',\n",
       " 'Maruti',\n",
       " 'Maruti',\n",
       " 'Hyundai',\n",
       " 'Tata',\n",
       " 'Maruti',\n",
       " 'Maruti',\n",
       " 'Tata',\n",
       " 'Maruti',\n",
       " 'Hyundai',\n",
       " 'Renault',\n",
       " 'Maruti',\n",
       " 'Mahindra',\n",
       " 'Honda',\n",
       " 'Maruti',\n",
       " 'Maruti',\n",
       " 'Hyundai',\n",
       " 'Mahindra',\n",
       " 'Maruti',\n",
       " 'Hyundai',\n",
       " 'Ford',\n",
       " 'Maruti',\n",
       " 'Mahindra',\n",
       " 'Hyundai',\n",
       " 'Tata',\n",
       " 'Mahindra',\n",
       " 'Mahindra',\n",
       " 'Mahindra',\n",
       " 'Maruti',\n",
       " 'Tata',\n",
       " 'Maruti',\n",
       " 'Jaguar',\n",
       " 'Lexus',\n",
       " 'Jaguar',\n",
       " 'Tata',\n",
       " 'Volvo',\n",
       " 'Toyota',\n",
       " 'Maruti',\n",
       " 'Maruti',\n",
       " 'Honda',\n",
       " 'Toyota',\n",
       " 'Maruti',\n",
       " 'Toyota',\n",
       " 'Maruti',\n",
       " 'Hyundai',\n",
       " 'BMW',\n",
       " 'BMW',\n",
       " 'Honda',\n",
       " 'Skoda',\n",
       " 'Volvo',\n",
       " 'Mahindra',\n",
       " 'Maruti',\n",
       " 'Hyundai',\n",
       " 'Mahindra',\n",
       " 'Fiat',\n",
       " 'Maruti',\n",
       " 'Hyundai',\n",
       " 'Maruti',\n",
       " 'Mahindra',\n",
       " 'Tata',\n",
       " 'Hyundai',\n",
       " 'Mahindra',\n",
       " 'Maruti',\n",
       " 'Maruti',\n",
       " 'Ford',\n",
       " 'Toyota',\n",
       " 'Mercedes-Benz',\n",
       " 'Toyota',\n",
       " 'Mahindra',\n",
       " 'Volkswagen',\n",
       " 'Ford',\n",
       " 'Mahindra',\n",
       " 'Hyundai',\n",
       " 'Hyundai',\n",
       " 'Hyundai',\n",
       " 'Nissan',\n",
       " 'Hyundai',\n",
       " 'Maruti',\n",
       " 'Hyundai',\n",
       " 'Mahindra',\n",
       " 'Maruti',\n",
       " 'Tata',\n",
       " 'Mahindra',\n",
       " 'Maruti',\n",
       " 'Maruti',\n",
       " 'Renault',\n",
       " 'Mahindra',\n",
       " 'Maruti',\n",
       " 'Mahindra',\n",
       " 'Mahindra',\n",
       " 'Hyundai',\n",
       " 'Maruti',\n",
       " 'Maruti',\n",
       " 'Hyundai',\n",
       " 'Tata',\n",
       " 'Mahindra',\n",
       " 'Chevrolet',\n",
       " 'Hyundai',\n",
       " 'Hyundai',\n",
       " 'Mahindra',\n",
       " 'Mahindra',\n",
       " 'Honda',\n",
       " 'Datsun',\n",
       " 'Mahindra',\n",
       " 'Hyundai',\n",
       " 'Maruti',\n",
       " 'Hyundai',\n",
       " 'Mahindra',\n",
       " 'Tata',\n",
       " 'Mahindra',\n",
       " 'Toyota',\n",
       " 'Mahindra',\n",
       " 'Mahindra',\n",
       " 'Nissan',\n",
       " 'Tata',\n",
       " 'Hyundai',\n",
       " 'Hyundai',\n",
       " 'Ford',\n",
       " 'Skoda',\n",
       " 'Mahindra',\n",
       " 'Mahindra',\n",
       " 'Toyota',\n",
       " 'Hyundai',\n",
       " 'Renault',\n",
       " 'Volkswagen',\n",
       " 'Chevrolet',\n",
       " 'Maruti',\n",
       " 'Mahindra',\n",
       " 'Maruti',\n",
       " 'Mahindra',\n",
       " 'Tata',\n",
       " 'Hyundai',\n",
       " 'Maruti',\n",
       " 'Tata',\n",
       " 'Maruti',\n",
       " 'Maruti',\n",
       " 'Mahindra',\n",
       " 'Toyota',\n",
       " 'Tata',\n",
       " 'Ford',\n",
       " 'Mahindra',\n",
       " 'Hyundai',\n",
       " 'Hyundai',\n",
       " 'Hyundai',\n",
       " 'Maruti',\n",
       " 'Tata',\n",
       " 'Maruti',\n",
       " 'Volkswagen',\n",
       " 'Hyundai',\n",
       " 'Mahindra',\n",
       " 'Mahindra',\n",
       " 'Fiat',\n",
       " 'Hyundai',\n",
       " 'Maruti',\n",
       " 'Hyundai',\n",
       " 'Mahindra',\n",
       " 'Honda',\n",
       " 'Mahindra',\n",
       " 'Maruti',\n",
       " 'Hyundai',\n",
       " 'Mahindra',\n",
       " 'Skoda',\n",
       " 'Tata',\n",
       " 'Ford',\n",
       " 'Hyundai',\n",
       " 'Ford',\n",
       " 'Mahindra',\n",
       " 'Chevrolet',\n",
       " 'Mahindra',\n",
       " 'Mahindra',\n",
       " 'Hyundai',\n",
       " 'Datsun',\n",
       " 'Mahindra',\n",
       " 'Maruti',\n",
       " 'Tata',\n",
       " 'Ford',\n",
       " 'Maruti',\n",
       " 'Honda',\n",
       " 'Mahindra',\n",
       " 'Maruti',\n",
       " 'Chevrolet',\n",
       " 'Maruti',\n",
       " 'Datsun',\n",
       " 'Maruti',\n",
       " 'Renault',\n",
       " 'Chevrolet',\n",
       " 'Maruti',\n",
       " 'Maruti',\n",
       " 'Hyundai',\n",
       " 'Renault',\n",
       " 'Honda',\n",
       " 'Tata',\n",
       " 'Maruti',\n",
       " 'Maruti',\n",
       " 'Honda',\n",
       " 'Maruti',\n",
       " 'Tata',\n",
       " 'Maruti',\n",
       " 'Hyundai',\n",
       " 'Maruti',\n",
       " 'Tata',\n",
       " 'Mahindra',\n",
       " 'Maruti',\n",
       " 'Maruti',\n",
       " 'Honda',\n",
       " 'Toyota',\n",
       " 'Hyundai',\n",
       " 'Maruti',\n",
       " 'Maruti',\n",
       " 'Hyundai',\n",
       " 'Maruti',\n",
       " 'Hyundai',\n",
       " 'Maruti',\n",
       " 'Hyundai',\n",
       " 'Mahindra',\n",
       " 'Maruti',\n",
       " 'Hyundai',\n",
       " 'Maruti',\n",
       " 'Maruti',\n",
       " 'Ford',\n",
       " 'Mahindra',\n",
       " 'Maruti',\n",
       " 'Maruti',\n",
       " 'Tata',\n",
       " 'Maruti',\n",
       " 'Tata',\n",
       " 'Maruti',\n",
       " 'Tata',\n",
       " 'Hyundai',\n",
       " 'Hyundai',\n",
       " 'Ford',\n",
       " 'Mahindra',\n",
       " 'Hyundai',\n",
       " 'Maruti',\n",
       " 'Tata',\n",
       " 'Maruti',\n",
       " 'Mahindra',\n",
       " 'Hyundai',\n",
       " 'Hyundai',\n",
       " 'Maruti',\n",
       " 'Maruti',\n",
       " 'Tata',\n",
       " 'Renault',\n",
       " 'Chevrolet',\n",
       " 'Maruti',\n",
       " 'Hyundai',\n",
       " 'Renault',\n",
       " 'Maruti',\n",
       " 'Hyundai',\n",
       " 'Tata',\n",
       " 'Maruti',\n",
       " 'Maruti',\n",
       " 'Renault',\n",
       " 'Hyundai',\n",
       " 'Maruti',\n",
       " 'Maruti',\n",
       " 'Toyota',\n",
       " 'Hyundai',\n",
       " 'Hyundai',\n",
       " 'Tata',\n",
       " 'Mahindra',\n",
       " 'Tata',\n",
       " 'Mahindra',\n",
       " 'Tata',\n",
       " 'Ford',\n",
       " 'Maruti',\n",
       " 'Renault',\n",
       " 'Chevrolet',\n",
       " 'Mahindra',\n",
       " 'Renault',\n",
       " 'Chevrolet',\n",
       " 'Mahindra',\n",
       " 'Tata',\n",
       " 'Hyundai',\n",
       " 'Ford',\n",
       " 'Mahindra',\n",
       " 'Mahindra',\n",
       " 'Skoda',\n",
       " 'Ford',\n",
       " 'Mahindra',\n",
       " 'Tata',\n",
       " 'Honda',\n",
       " 'Honda',\n",
       " 'Hyundai',\n",
       " 'Maruti',\n",
       " 'Hyundai',\n",
       " 'Maruti',\n",
       " 'Ford',\n",
       " 'Toyota',\n",
       " 'Toyota',\n",
       " 'Hyundai',\n",
       " 'Audi',\n",
       " 'Toyota',\n",
       " 'Hyundai',\n",
       " 'Hyundai',\n",
       " 'Hyundai',\n",
       " 'Tata',\n",
       " 'Tata',\n",
       " 'Hyundai',\n",
       " 'Hyundai',\n",
       " 'Maruti',\n",
       " 'Datsun',\n",
       " 'Maruti',\n",
       " 'Mahindra',\n",
       " 'Hyundai',\n",
       " 'Maruti',\n",
       " 'Renault',\n",
       " 'Maruti',\n",
       " 'Hyundai',\n",
       " 'Mahindra',\n",
       " 'Mahindra',\n",
       " 'Toyota',\n",
       " 'Tata',\n",
       " 'Honda',\n",
       " 'Hyundai',\n",
       " 'Maruti',\n",
       " 'Maruti',\n",
       " 'Maruti',\n",
       " 'Chevrolet',\n",
       " 'Hyundai',\n",
       " 'Maruti',\n",
       " 'Maruti',\n",
       " 'Tata',\n",
       " 'Maruti',\n",
       " 'Hyundai',\n",
       " 'Hyundai',\n",
       " 'Tata',\n",
       " 'Maruti',\n",
       " 'Maruti',\n",
       " 'Hyundai',\n",
       " 'Maruti',\n",
       " 'Maruti',\n",
       " 'Chevrolet',\n",
       " 'Tata',\n",
       " 'Ford',\n",
       " 'Hyundai',\n",
       " 'Maruti',\n",
       " 'Maruti',\n",
       " 'Renault',\n",
       " 'Renault',\n",
       " 'Maruti',\n",
       " 'Maruti',\n",
       " 'Maruti',\n",
       " 'Maruti',\n",
       " 'Mahindra',\n",
       " 'Toyota',\n",
       " 'Hyundai',\n",
       " 'Mahindra',\n",
       " 'Toyota',\n",
       " 'Toyota',\n",
       " 'Maruti',\n",
       " 'Maruti',\n",
       " 'Maruti',\n",
       " 'Volkswagen',\n",
       " 'Maruti',\n",
       " 'Toyota',\n",
       " 'Mahindra',\n",
       " 'Honda',\n",
       " 'Hyundai',\n",
       " 'Chevrolet',\n",
       " 'Hyundai',\n",
       " 'Maruti',\n",
       " 'Hyundai',\n",
       " 'Hyundai',\n",
       " 'Volkswagen',\n",
       " 'Tata',\n",
       " 'Maruti',\n",
       " 'Maruti',\n",
       " 'Tata',\n",
       " 'Hyundai',\n",
       " 'Mahindra',\n",
       " 'Chevrolet',\n",
       " 'Maruti',\n",
       " 'Hyundai',\n",
       " 'Chevrolet',\n",
       " 'Maruti',\n",
       " 'Mahindra',\n",
       " 'Mahindra',\n",
       " 'Tata',\n",
       " 'Mahindra',\n",
       " 'Maruti',\n",
       " 'Tata',\n",
       " 'Tata',\n",
       " 'Maruti',\n",
       " 'Maruti',\n",
       " ...]"
      ]
     },
     "execution_count": 94,
     "metadata": {},
     "output_type": "execute_result"
    }
   ],
   "source": [
    "# Taking all car brands by splitting name column into list and taking 1st element in the list.\n",
    "car_brands = []\n",
    "for i in df[\"name\"]:\n",
    "    car_brands.append(i.split()[0]) # [\"Maruti\", \"Swift\", \"Dzire\", \"VDI\"] ==> \"Maruti\".\n",
    "car_brands                          # Appending extracted car brand to car_brand list."
   ]
  },
  {
   "cell_type": "code",
   "execution_count": 95,
   "metadata": {
    "executionInfo": {
     "elapsed": 3696,
     "status": "ok",
     "timestamp": 1620554737806,
     "user": {
      "displayName": "Manoj Kumar",
      "photoUrl": "",
      "userId": "09539423896492791031"
     },
     "user_tz": -330
    },
    "id": "J9G4AG6FPEKo"
   },
   "outputs": [],
   "source": [
    "# Inserting column called \"car_brand\" beside \"name\" column.\n",
    "df.insert(1, \"car_brand\", car_brands)"
   ]
  },
  {
   "cell_type": "code",
   "execution_count": 96,
   "metadata": {
    "colab": {
     "base_uri": "https://localhost:8080/",
     "height": 195
    },
    "executionInfo": {
     "elapsed": 3693,
     "status": "ok",
     "timestamp": 1620554737807,
     "user": {
      "displayName": "Manoj Kumar",
      "photoUrl": "",
      "userId": "09539423896492791031"
     },
     "user_tz": -330
    },
    "id": "MSYfnnR6QlE3",
    "outputId": "5a7a43fd-4f11-4ffe-973f-ebc304e445eb"
   },
   "outputs": [
    {
     "data": {
      "text/html": [
       "<div>\n",
       "<style scoped>\n",
       "    .dataframe tbody tr th:only-of-type {\n",
       "        vertical-align: middle;\n",
       "    }\n",
       "\n",
       "    .dataframe tbody tr th {\n",
       "        vertical-align: top;\n",
       "    }\n",
       "\n",
       "    .dataframe thead th {\n",
       "        text-align: right;\n",
       "    }\n",
       "</style>\n",
       "<table border=\"1\" class=\"dataframe\">\n",
       "  <thead>\n",
       "    <tr style=\"text-align: right;\">\n",
       "      <th></th>\n",
       "      <th>name</th>\n",
       "      <th>car_brand</th>\n",
       "      <th>year</th>\n",
       "      <th>selling_price</th>\n",
       "      <th>km_driven</th>\n",
       "      <th>fuel</th>\n",
       "      <th>seller_type</th>\n",
       "      <th>transmission</th>\n",
       "      <th>owner</th>\n",
       "      <th>mileage</th>\n",
       "      <th>engine</th>\n",
       "      <th>max_power</th>\n",
       "      <th>torque</th>\n",
       "      <th>seats</th>\n",
       "    </tr>\n",
       "  </thead>\n",
       "  <tbody>\n",
       "    <tr>\n",
       "      <th>0</th>\n",
       "      <td>Maruti Swift Dzire VDI</td>\n",
       "      <td>Maruti</td>\n",
       "      <td>2014</td>\n",
       "      <td>450000</td>\n",
       "      <td>145500</td>\n",
       "      <td>Diesel</td>\n",
       "      <td>Individual</td>\n",
       "      <td>Manual</td>\n",
       "      <td>First Owner</td>\n",
       "      <td>23.4 kmpl</td>\n",
       "      <td>1248 CC</td>\n",
       "      <td>74 bhp</td>\n",
       "      <td>190Nm@ 2000rpm</td>\n",
       "      <td>5</td>\n",
       "    </tr>\n",
       "    <tr>\n",
       "      <th>1</th>\n",
       "      <td>Skoda Rapid 1.5 TDI Ambition</td>\n",
       "      <td>Skoda</td>\n",
       "      <td>2014</td>\n",
       "      <td>370000</td>\n",
       "      <td>120000</td>\n",
       "      <td>Diesel</td>\n",
       "      <td>Individual</td>\n",
       "      <td>Manual</td>\n",
       "      <td>Second Owner</td>\n",
       "      <td>21.14 kmpl</td>\n",
       "      <td>1498 CC</td>\n",
       "      <td>103.52 bhp</td>\n",
       "      <td>250Nm@ 1500-2500rpm</td>\n",
       "      <td>5</td>\n",
       "    </tr>\n",
       "    <tr>\n",
       "      <th>2</th>\n",
       "      <td>Honda City 2017-2020 EXi</td>\n",
       "      <td>Honda</td>\n",
       "      <td>2006</td>\n",
       "      <td>158000</td>\n",
       "      <td>140000</td>\n",
       "      <td>Petrol</td>\n",
       "      <td>Individual</td>\n",
       "      <td>Manual</td>\n",
       "      <td>Third Owner</td>\n",
       "      <td>17.7 kmpl</td>\n",
       "      <td>1497 CC</td>\n",
       "      <td>78 bhp</td>\n",
       "      <td>12.7@ 2,700(kgm@ rpm)</td>\n",
       "      <td>5</td>\n",
       "    </tr>\n",
       "    <tr>\n",
       "      <th>3</th>\n",
       "      <td>Hyundai i20 Sportz Diesel</td>\n",
       "      <td>Hyundai</td>\n",
       "      <td>2010</td>\n",
       "      <td>225000</td>\n",
       "      <td>127000</td>\n",
       "      <td>Diesel</td>\n",
       "      <td>Individual</td>\n",
       "      <td>Manual</td>\n",
       "      <td>First Owner</td>\n",
       "      <td>23.0 kmpl</td>\n",
       "      <td>1396 CC</td>\n",
       "      <td>90 bhp</td>\n",
       "      <td>22.4 kgm at 1750-2750rpm</td>\n",
       "      <td>5</td>\n",
       "    </tr>\n",
       "    <tr>\n",
       "      <th>4</th>\n",
       "      <td>Maruti Swift VXI BSIII</td>\n",
       "      <td>Maruti</td>\n",
       "      <td>2007</td>\n",
       "      <td>130000</td>\n",
       "      <td>120000</td>\n",
       "      <td>Petrol</td>\n",
       "      <td>Individual</td>\n",
       "      <td>Manual</td>\n",
       "      <td>First Owner</td>\n",
       "      <td>16.1 kmpl</td>\n",
       "      <td>1298 CC</td>\n",
       "      <td>88.2 bhp</td>\n",
       "      <td>11.5@ 4,500(kgm@ rpm)</td>\n",
       "      <td>5</td>\n",
       "    </tr>\n",
       "  </tbody>\n",
       "</table>\n",
       "</div>"
      ],
      "text/plain": [
       "                           name car_brand  year  selling_price  km_driven  \\\n",
       "0        Maruti Swift Dzire VDI    Maruti  2014         450000     145500   \n",
       "1  Skoda Rapid 1.5 TDI Ambition     Skoda  2014         370000     120000   \n",
       "2      Honda City 2017-2020 EXi     Honda  2006         158000     140000   \n",
       "3     Hyundai i20 Sportz Diesel   Hyundai  2010         225000     127000   \n",
       "4        Maruti Swift VXI BSIII    Maruti  2007         130000     120000   \n",
       "\n",
       "     fuel seller_type transmission         owner     mileage   engine  \\\n",
       "0  Diesel  Individual       Manual   First Owner   23.4 kmpl  1248 CC   \n",
       "1  Diesel  Individual       Manual  Second Owner  21.14 kmpl  1498 CC   \n",
       "2  Petrol  Individual       Manual   Third Owner   17.7 kmpl  1497 CC   \n",
       "3  Diesel  Individual       Manual   First Owner   23.0 kmpl  1396 CC   \n",
       "4  Petrol  Individual       Manual   First Owner   16.1 kmpl  1298 CC   \n",
       "\n",
       "    max_power                    torque seats  \n",
       "0      74 bhp            190Nm@ 2000rpm     5  \n",
       "1  103.52 bhp       250Nm@ 1500-2500rpm     5  \n",
       "2      78 bhp     12.7@ 2,700(kgm@ rpm)     5  \n",
       "3      90 bhp  22.4 kgm at 1750-2750rpm     5  \n",
       "4    88.2 bhp     11.5@ 4,500(kgm@ rpm)     5  "
      ]
     },
     "execution_count": 96,
     "metadata": {},
     "output_type": "execute_result"
    }
   ],
   "source": [
    "df.head()"
   ]
  },
  {
   "cell_type": "code",
   "execution_count": 97,
   "metadata": {},
   "outputs": [
    {
     "data": {
      "text/plain": [
       "Maruti           2448\n",
       "Hyundai          1415\n",
       "Mahindra          772\n",
       "Tata              734\n",
       "Toyota            488\n",
       "Honda             467\n",
       "Ford              397\n",
       "Chevrolet         230\n",
       "Renault           228\n",
       "Volkswagen        186\n",
       "BMW               120\n",
       "Skoda             105\n",
       "Nissan             81\n",
       "Jaguar             71\n",
       "Volvo              67\n",
       "Datsun             65\n",
       "Mercedes-Benz      54\n",
       "Fiat               47\n",
       "Audi               40\n",
       "Lexus              34\n",
       "Jeep               31\n",
       "Mitsubishi         14\n",
       "Land                6\n",
       "Force               6\n",
       "Isuzu               5\n",
       "Kia                 4\n",
       "Ambassador          4\n",
       "Daewoo              3\n",
       "MG                  3\n",
       "Opel                1\n",
       "Peugeot             1\n",
       "Ashok               1\n",
       "Name: car_brand, dtype: int64"
      ]
     },
     "execution_count": 97,
     "metadata": {},
     "output_type": "execute_result"
    }
   ],
   "source": [
    "df[\"car_brand\"].value_counts()"
   ]
  },
  {
   "cell_type": "code",
   "execution_count": 98,
   "metadata": {
    "colab": {
     "base_uri": "https://localhost:8080/",
     "height": 195
    },
    "executionInfo": {
     "elapsed": 3683,
     "status": "ok",
     "timestamp": 1620554737807,
     "user": {
      "displayName": "Manoj Kumar",
      "photoUrl": "",
      "userId": "09539423896492791031"
     },
     "user_tz": -330
    },
    "id": "UYiBJ1TFQpAi",
    "outputId": "b44d3c6d-d7f9-458a-cc5f-c17d8671a75b"
   },
   "outputs": [
    {
     "data": {
      "text/html": [
       "<div>\n",
       "<style scoped>\n",
       "    .dataframe tbody tr th:only-of-type {\n",
       "        vertical-align: middle;\n",
       "    }\n",
       "\n",
       "    .dataframe tbody tr th {\n",
       "        vertical-align: top;\n",
       "    }\n",
       "\n",
       "    .dataframe thead th {\n",
       "        text-align: right;\n",
       "    }\n",
       "</style>\n",
       "<table border=\"1\" class=\"dataframe\">\n",
       "  <thead>\n",
       "    <tr style=\"text-align: right;\">\n",
       "      <th></th>\n",
       "      <th>car_brand</th>\n",
       "      <th>year</th>\n",
       "      <th>selling_price</th>\n",
       "      <th>km_driven</th>\n",
       "      <th>fuel</th>\n",
       "      <th>seller_type</th>\n",
       "      <th>transmission</th>\n",
       "      <th>owner</th>\n",
       "      <th>mileage</th>\n",
       "      <th>engine</th>\n",
       "      <th>max_power</th>\n",
       "      <th>torque</th>\n",
       "      <th>seats</th>\n",
       "    </tr>\n",
       "  </thead>\n",
       "  <tbody>\n",
       "    <tr>\n",
       "      <th>0</th>\n",
       "      <td>Maruti</td>\n",
       "      <td>2014</td>\n",
       "      <td>450000</td>\n",
       "      <td>145500</td>\n",
       "      <td>Diesel</td>\n",
       "      <td>Individual</td>\n",
       "      <td>Manual</td>\n",
       "      <td>First Owner</td>\n",
       "      <td>23.4 kmpl</td>\n",
       "      <td>1248 CC</td>\n",
       "      <td>74 bhp</td>\n",
       "      <td>190Nm@ 2000rpm</td>\n",
       "      <td>5</td>\n",
       "    </tr>\n",
       "    <tr>\n",
       "      <th>1</th>\n",
       "      <td>Skoda</td>\n",
       "      <td>2014</td>\n",
       "      <td>370000</td>\n",
       "      <td>120000</td>\n",
       "      <td>Diesel</td>\n",
       "      <td>Individual</td>\n",
       "      <td>Manual</td>\n",
       "      <td>Second Owner</td>\n",
       "      <td>21.14 kmpl</td>\n",
       "      <td>1498 CC</td>\n",
       "      <td>103.52 bhp</td>\n",
       "      <td>250Nm@ 1500-2500rpm</td>\n",
       "      <td>5</td>\n",
       "    </tr>\n",
       "    <tr>\n",
       "      <th>2</th>\n",
       "      <td>Honda</td>\n",
       "      <td>2006</td>\n",
       "      <td>158000</td>\n",
       "      <td>140000</td>\n",
       "      <td>Petrol</td>\n",
       "      <td>Individual</td>\n",
       "      <td>Manual</td>\n",
       "      <td>Third Owner</td>\n",
       "      <td>17.7 kmpl</td>\n",
       "      <td>1497 CC</td>\n",
       "      <td>78 bhp</td>\n",
       "      <td>12.7@ 2,700(kgm@ rpm)</td>\n",
       "      <td>5</td>\n",
       "    </tr>\n",
       "    <tr>\n",
       "      <th>3</th>\n",
       "      <td>Hyundai</td>\n",
       "      <td>2010</td>\n",
       "      <td>225000</td>\n",
       "      <td>127000</td>\n",
       "      <td>Diesel</td>\n",
       "      <td>Individual</td>\n",
       "      <td>Manual</td>\n",
       "      <td>First Owner</td>\n",
       "      <td>23.0 kmpl</td>\n",
       "      <td>1396 CC</td>\n",
       "      <td>90 bhp</td>\n",
       "      <td>22.4 kgm at 1750-2750rpm</td>\n",
       "      <td>5</td>\n",
       "    </tr>\n",
       "    <tr>\n",
       "      <th>4</th>\n",
       "      <td>Maruti</td>\n",
       "      <td>2007</td>\n",
       "      <td>130000</td>\n",
       "      <td>120000</td>\n",
       "      <td>Petrol</td>\n",
       "      <td>Individual</td>\n",
       "      <td>Manual</td>\n",
       "      <td>First Owner</td>\n",
       "      <td>16.1 kmpl</td>\n",
       "      <td>1298 CC</td>\n",
       "      <td>88.2 bhp</td>\n",
       "      <td>11.5@ 4,500(kgm@ rpm)</td>\n",
       "      <td>5</td>\n",
       "    </tr>\n",
       "  </tbody>\n",
       "</table>\n",
       "</div>"
      ],
      "text/plain": [
       "  car_brand  year  selling_price  km_driven    fuel seller_type transmission  \\\n",
       "0    Maruti  2014         450000     145500  Diesel  Individual       Manual   \n",
       "1     Skoda  2014         370000     120000  Diesel  Individual       Manual   \n",
       "2     Honda  2006         158000     140000  Petrol  Individual       Manual   \n",
       "3   Hyundai  2010         225000     127000  Diesel  Individual       Manual   \n",
       "4    Maruti  2007         130000     120000  Petrol  Individual       Manual   \n",
       "\n",
       "          owner     mileage   engine   max_power                    torque  \\\n",
       "0   First Owner   23.4 kmpl  1248 CC      74 bhp            190Nm@ 2000rpm   \n",
       "1  Second Owner  21.14 kmpl  1498 CC  103.52 bhp       250Nm@ 1500-2500rpm   \n",
       "2   Third Owner   17.7 kmpl  1497 CC      78 bhp     12.7@ 2,700(kgm@ rpm)   \n",
       "3   First Owner   23.0 kmpl  1396 CC      90 bhp  22.4 kgm at 1750-2750rpm   \n",
       "4   First Owner   16.1 kmpl  1298 CC    88.2 bhp     11.5@ 4,500(kgm@ rpm)   \n",
       "\n",
       "  seats  \n",
       "0     5  \n",
       "1     5  \n",
       "2     5  \n",
       "3     5  \n",
       "4     5  "
      ]
     },
     "execution_count": 98,
     "metadata": {},
     "output_type": "execute_result"
    }
   ],
   "source": [
    "# Dropping the \"name\" column as we extracted car brand from name.\n",
    "df = df.drop(columns = [\"name\"])\n",
    "df.head()"
   ]
  },
  {
   "cell_type": "code",
   "execution_count": 99,
   "metadata": {
    "executionInfo": {
     "elapsed": 3676,
     "status": "ok",
     "timestamp": 1620554737808,
     "user": {
      "displayName": "Manoj Kumar",
      "photoUrl": "",
      "userId": "09539423896492791031"
     },
     "user_tz": -330
    },
    "id": "VPDxjTQrQ8qW"
   },
   "outputs": [],
   "source": [
    "# Adding \"no_years\" column by substracting year from current year.\n",
    "df.insert(2, \"no_year\", 2021 - df[\"year\"])"
   ]
  },
  {
   "cell_type": "code",
   "execution_count": 100,
   "metadata": {
    "colab": {
     "base_uri": "https://localhost:8080/",
     "height": 195
    },
    "executionInfo": {
     "elapsed": 4195,
     "status": "ok",
     "timestamp": 1620554738332,
     "user": {
      "displayName": "Manoj Kumar",
      "photoUrl": "",
      "userId": "09539423896492791031"
     },
     "user_tz": -330
    },
    "id": "FXFLgn4sRhW3",
    "outputId": "4775d2e5-a4b2-4049-a190-edc9975d5ed2"
   },
   "outputs": [
    {
     "data": {
      "text/html": [
       "<div>\n",
       "<style scoped>\n",
       "    .dataframe tbody tr th:only-of-type {\n",
       "        vertical-align: middle;\n",
       "    }\n",
       "\n",
       "    .dataframe tbody tr th {\n",
       "        vertical-align: top;\n",
       "    }\n",
       "\n",
       "    .dataframe thead th {\n",
       "        text-align: right;\n",
       "    }\n",
       "</style>\n",
       "<table border=\"1\" class=\"dataframe\">\n",
       "  <thead>\n",
       "    <tr style=\"text-align: right;\">\n",
       "      <th></th>\n",
       "      <th>car_brand</th>\n",
       "      <th>year</th>\n",
       "      <th>no_year</th>\n",
       "      <th>selling_price</th>\n",
       "      <th>km_driven</th>\n",
       "      <th>fuel</th>\n",
       "      <th>seller_type</th>\n",
       "      <th>transmission</th>\n",
       "      <th>owner</th>\n",
       "      <th>mileage</th>\n",
       "      <th>engine</th>\n",
       "      <th>max_power</th>\n",
       "      <th>torque</th>\n",
       "      <th>seats</th>\n",
       "    </tr>\n",
       "  </thead>\n",
       "  <tbody>\n",
       "    <tr>\n",
       "      <th>0</th>\n",
       "      <td>Maruti</td>\n",
       "      <td>2014</td>\n",
       "      <td>7</td>\n",
       "      <td>450000</td>\n",
       "      <td>145500</td>\n",
       "      <td>Diesel</td>\n",
       "      <td>Individual</td>\n",
       "      <td>Manual</td>\n",
       "      <td>First Owner</td>\n",
       "      <td>23.4 kmpl</td>\n",
       "      <td>1248 CC</td>\n",
       "      <td>74 bhp</td>\n",
       "      <td>190Nm@ 2000rpm</td>\n",
       "      <td>5</td>\n",
       "    </tr>\n",
       "    <tr>\n",
       "      <th>1</th>\n",
       "      <td>Skoda</td>\n",
       "      <td>2014</td>\n",
       "      <td>7</td>\n",
       "      <td>370000</td>\n",
       "      <td>120000</td>\n",
       "      <td>Diesel</td>\n",
       "      <td>Individual</td>\n",
       "      <td>Manual</td>\n",
       "      <td>Second Owner</td>\n",
       "      <td>21.14 kmpl</td>\n",
       "      <td>1498 CC</td>\n",
       "      <td>103.52 bhp</td>\n",
       "      <td>250Nm@ 1500-2500rpm</td>\n",
       "      <td>5</td>\n",
       "    </tr>\n",
       "    <tr>\n",
       "      <th>2</th>\n",
       "      <td>Honda</td>\n",
       "      <td>2006</td>\n",
       "      <td>15</td>\n",
       "      <td>158000</td>\n",
       "      <td>140000</td>\n",
       "      <td>Petrol</td>\n",
       "      <td>Individual</td>\n",
       "      <td>Manual</td>\n",
       "      <td>Third Owner</td>\n",
       "      <td>17.7 kmpl</td>\n",
       "      <td>1497 CC</td>\n",
       "      <td>78 bhp</td>\n",
       "      <td>12.7@ 2,700(kgm@ rpm)</td>\n",
       "      <td>5</td>\n",
       "    </tr>\n",
       "    <tr>\n",
       "      <th>3</th>\n",
       "      <td>Hyundai</td>\n",
       "      <td>2010</td>\n",
       "      <td>11</td>\n",
       "      <td>225000</td>\n",
       "      <td>127000</td>\n",
       "      <td>Diesel</td>\n",
       "      <td>Individual</td>\n",
       "      <td>Manual</td>\n",
       "      <td>First Owner</td>\n",
       "      <td>23.0 kmpl</td>\n",
       "      <td>1396 CC</td>\n",
       "      <td>90 bhp</td>\n",
       "      <td>22.4 kgm at 1750-2750rpm</td>\n",
       "      <td>5</td>\n",
       "    </tr>\n",
       "    <tr>\n",
       "      <th>4</th>\n",
       "      <td>Maruti</td>\n",
       "      <td>2007</td>\n",
       "      <td>14</td>\n",
       "      <td>130000</td>\n",
       "      <td>120000</td>\n",
       "      <td>Petrol</td>\n",
       "      <td>Individual</td>\n",
       "      <td>Manual</td>\n",
       "      <td>First Owner</td>\n",
       "      <td>16.1 kmpl</td>\n",
       "      <td>1298 CC</td>\n",
       "      <td>88.2 bhp</td>\n",
       "      <td>11.5@ 4,500(kgm@ rpm)</td>\n",
       "      <td>5</td>\n",
       "    </tr>\n",
       "  </tbody>\n",
       "</table>\n",
       "</div>"
      ],
      "text/plain": [
       "  car_brand  year  no_year  selling_price  km_driven    fuel seller_type  \\\n",
       "0    Maruti  2014        7         450000     145500  Diesel  Individual   \n",
       "1     Skoda  2014        7         370000     120000  Diesel  Individual   \n",
       "2     Honda  2006       15         158000     140000  Petrol  Individual   \n",
       "3   Hyundai  2010       11         225000     127000  Diesel  Individual   \n",
       "4    Maruti  2007       14         130000     120000  Petrol  Individual   \n",
       "\n",
       "  transmission         owner     mileage   engine   max_power  \\\n",
       "0       Manual   First Owner   23.4 kmpl  1248 CC      74 bhp   \n",
       "1       Manual  Second Owner  21.14 kmpl  1498 CC  103.52 bhp   \n",
       "2       Manual   Third Owner   17.7 kmpl  1497 CC      78 bhp   \n",
       "3       Manual   First Owner   23.0 kmpl  1396 CC      90 bhp   \n",
       "4       Manual   First Owner   16.1 kmpl  1298 CC    88.2 bhp   \n",
       "\n",
       "                     torque seats  \n",
       "0            190Nm@ 2000rpm     5  \n",
       "1       250Nm@ 1500-2500rpm     5  \n",
       "2     12.7@ 2,700(kgm@ rpm)     5  \n",
       "3  22.4 kgm at 1750-2750rpm     5  \n",
       "4     11.5@ 4,500(kgm@ rpm)     5  "
      ]
     },
     "execution_count": 100,
     "metadata": {},
     "output_type": "execute_result"
    }
   ],
   "source": [
    "df.head()"
   ]
  },
  {
   "cell_type": "code",
   "execution_count": 101,
   "metadata": {
    "colab": {
     "base_uri": "https://localhost:8080/",
     "height": 195
    },
    "executionInfo": {
     "elapsed": 4188,
     "status": "ok",
     "timestamp": 1620554738334,
     "user": {
      "displayName": "Manoj Kumar",
      "photoUrl": "",
      "userId": "09539423896492791031"
     },
     "user_tz": -330
    },
    "id": "CMn5_UqdRi8B",
    "outputId": "256b4169-c0b9-4a14-ec46-12517765d026"
   },
   "outputs": [
    {
     "data": {
      "text/html": [
       "<div>\n",
       "<style scoped>\n",
       "    .dataframe tbody tr th:only-of-type {\n",
       "        vertical-align: middle;\n",
       "    }\n",
       "\n",
       "    .dataframe tbody tr th {\n",
       "        vertical-align: top;\n",
       "    }\n",
       "\n",
       "    .dataframe thead th {\n",
       "        text-align: right;\n",
       "    }\n",
       "</style>\n",
       "<table border=\"1\" class=\"dataframe\">\n",
       "  <thead>\n",
       "    <tr style=\"text-align: right;\">\n",
       "      <th></th>\n",
       "      <th>car_brand</th>\n",
       "      <th>no_year</th>\n",
       "      <th>selling_price</th>\n",
       "      <th>km_driven</th>\n",
       "      <th>fuel</th>\n",
       "      <th>seller_type</th>\n",
       "      <th>transmission</th>\n",
       "      <th>owner</th>\n",
       "      <th>mileage</th>\n",
       "      <th>engine</th>\n",
       "      <th>max_power</th>\n",
       "      <th>torque</th>\n",
       "      <th>seats</th>\n",
       "    </tr>\n",
       "  </thead>\n",
       "  <tbody>\n",
       "    <tr>\n",
       "      <th>0</th>\n",
       "      <td>Maruti</td>\n",
       "      <td>7</td>\n",
       "      <td>450000</td>\n",
       "      <td>145500</td>\n",
       "      <td>Diesel</td>\n",
       "      <td>Individual</td>\n",
       "      <td>Manual</td>\n",
       "      <td>First Owner</td>\n",
       "      <td>23.4 kmpl</td>\n",
       "      <td>1248 CC</td>\n",
       "      <td>74 bhp</td>\n",
       "      <td>190Nm@ 2000rpm</td>\n",
       "      <td>5</td>\n",
       "    </tr>\n",
       "    <tr>\n",
       "      <th>1</th>\n",
       "      <td>Skoda</td>\n",
       "      <td>7</td>\n",
       "      <td>370000</td>\n",
       "      <td>120000</td>\n",
       "      <td>Diesel</td>\n",
       "      <td>Individual</td>\n",
       "      <td>Manual</td>\n",
       "      <td>Second Owner</td>\n",
       "      <td>21.14 kmpl</td>\n",
       "      <td>1498 CC</td>\n",
       "      <td>103.52 bhp</td>\n",
       "      <td>250Nm@ 1500-2500rpm</td>\n",
       "      <td>5</td>\n",
       "    </tr>\n",
       "    <tr>\n",
       "      <th>2</th>\n",
       "      <td>Honda</td>\n",
       "      <td>15</td>\n",
       "      <td>158000</td>\n",
       "      <td>140000</td>\n",
       "      <td>Petrol</td>\n",
       "      <td>Individual</td>\n",
       "      <td>Manual</td>\n",
       "      <td>Third Owner</td>\n",
       "      <td>17.7 kmpl</td>\n",
       "      <td>1497 CC</td>\n",
       "      <td>78 bhp</td>\n",
       "      <td>12.7@ 2,700(kgm@ rpm)</td>\n",
       "      <td>5</td>\n",
       "    </tr>\n",
       "    <tr>\n",
       "      <th>3</th>\n",
       "      <td>Hyundai</td>\n",
       "      <td>11</td>\n",
       "      <td>225000</td>\n",
       "      <td>127000</td>\n",
       "      <td>Diesel</td>\n",
       "      <td>Individual</td>\n",
       "      <td>Manual</td>\n",
       "      <td>First Owner</td>\n",
       "      <td>23.0 kmpl</td>\n",
       "      <td>1396 CC</td>\n",
       "      <td>90 bhp</td>\n",
       "      <td>22.4 kgm at 1750-2750rpm</td>\n",
       "      <td>5</td>\n",
       "    </tr>\n",
       "    <tr>\n",
       "      <th>4</th>\n",
       "      <td>Maruti</td>\n",
       "      <td>14</td>\n",
       "      <td>130000</td>\n",
       "      <td>120000</td>\n",
       "      <td>Petrol</td>\n",
       "      <td>Individual</td>\n",
       "      <td>Manual</td>\n",
       "      <td>First Owner</td>\n",
       "      <td>16.1 kmpl</td>\n",
       "      <td>1298 CC</td>\n",
       "      <td>88.2 bhp</td>\n",
       "      <td>11.5@ 4,500(kgm@ rpm)</td>\n",
       "      <td>5</td>\n",
       "    </tr>\n",
       "  </tbody>\n",
       "</table>\n",
       "</div>"
      ],
      "text/plain": [
       "  car_brand  no_year  selling_price  km_driven    fuel seller_type  \\\n",
       "0    Maruti        7         450000     145500  Diesel  Individual   \n",
       "1     Skoda        7         370000     120000  Diesel  Individual   \n",
       "2     Honda       15         158000     140000  Petrol  Individual   \n",
       "3   Hyundai       11         225000     127000  Diesel  Individual   \n",
       "4    Maruti       14         130000     120000  Petrol  Individual   \n",
       "\n",
       "  transmission         owner     mileage   engine   max_power  \\\n",
       "0       Manual   First Owner   23.4 kmpl  1248 CC      74 bhp   \n",
       "1       Manual  Second Owner  21.14 kmpl  1498 CC  103.52 bhp   \n",
       "2       Manual   Third Owner   17.7 kmpl  1497 CC      78 bhp   \n",
       "3       Manual   First Owner   23.0 kmpl  1396 CC      90 bhp   \n",
       "4       Manual   First Owner   16.1 kmpl  1298 CC    88.2 bhp   \n",
       "\n",
       "                     torque seats  \n",
       "0            190Nm@ 2000rpm     5  \n",
       "1       250Nm@ 1500-2500rpm     5  \n",
       "2     12.7@ 2,700(kgm@ rpm)     5  \n",
       "3  22.4 kgm at 1750-2750rpm     5  \n",
       "4     11.5@ 4,500(kgm@ rpm)     5  "
      ]
     },
     "execution_count": 101,
     "metadata": {},
     "output_type": "execute_result"
    }
   ],
   "source": [
    "# Dropping \"year\" column\n",
    "df = df.drop(columns = [\"year\"])\n",
    "df.head()"
   ]
  },
  {
   "cell_type": "code",
   "execution_count": 102,
   "metadata": {
    "colab": {
     "base_uri": "https://localhost:8080/"
    },
    "executionInfo": {
     "elapsed": 1021,
     "status": "ok",
     "timestamp": 1620558305413,
     "user": {
      "displayName": "Manoj Kumar",
      "photoUrl": "",
      "userId": "09539423896492791031"
     },
     "user_tz": -330
    },
    "id": "5XgCPGOMx4xp",
    "outputId": "6530dd13-44c3-44dd-d720-60b900f0f992"
   },
   "outputs": [
    {
     "name": "stdout",
     "output_type": "stream",
     "text": [
      "['23.4', '21.14', '17.7', '23.0', '16.1']\n"
     ]
    }
   ],
   "source": [
    "# Using Regular expression to extract numbers from the mileage column and taking them in a list \"mileage_kmpl\"\n",
    "mileage_kmpl = []\n",
    "for i in df[\"mileage\"]:\n",
    "    if i == \"missing\":\n",
    "        mileage_kmpl.append(\"missing\")\n",
    "    else:    \n",
    "        x = re.findall(\"[0-9]+[.][0-9]+\", i)\n",
    "        mileage_kmpl.append(x[0])\n",
    "print(mileage_kmpl[0:5])"
   ]
  },
  {
   "cell_type": "code",
   "execution_count": 103,
   "metadata": {
    "colab": {
     "base_uri": "https://localhost:8080/",
     "height": 195
    },
    "executionInfo": {
     "elapsed": 990,
     "status": "ok",
     "timestamp": 1620558403010,
     "user": {
      "displayName": "Manoj Kumar",
      "photoUrl": "",
      "userId": "09539423896492791031"
     },
     "user_tz": -330
    },
    "id": "jhDWdMhuyNq-",
    "outputId": "4f5e236c-543c-4004-a649-b3cf02fefe2f"
   },
   "outputs": [
    {
     "data": {
      "text/html": [
       "<div>\n",
       "<style scoped>\n",
       "    .dataframe tbody tr th:only-of-type {\n",
       "        vertical-align: middle;\n",
       "    }\n",
       "\n",
       "    .dataframe tbody tr th {\n",
       "        vertical-align: top;\n",
       "    }\n",
       "\n",
       "    .dataframe thead th {\n",
       "        text-align: right;\n",
       "    }\n",
       "</style>\n",
       "<table border=\"1\" class=\"dataframe\">\n",
       "  <thead>\n",
       "    <tr style=\"text-align: right;\">\n",
       "      <th></th>\n",
       "      <th>car_brand</th>\n",
       "      <th>no_year</th>\n",
       "      <th>selling_price</th>\n",
       "      <th>km_driven</th>\n",
       "      <th>fuel</th>\n",
       "      <th>seller_type</th>\n",
       "      <th>transmission</th>\n",
       "      <th>owner</th>\n",
       "      <th>mileage</th>\n",
       "      <th>mileage(kmpl)</th>\n",
       "      <th>engine</th>\n",
       "      <th>max_power</th>\n",
       "      <th>torque</th>\n",
       "      <th>seats</th>\n",
       "    </tr>\n",
       "  </thead>\n",
       "  <tbody>\n",
       "    <tr>\n",
       "      <th>0</th>\n",
       "      <td>Maruti</td>\n",
       "      <td>7</td>\n",
       "      <td>450000</td>\n",
       "      <td>145500</td>\n",
       "      <td>Diesel</td>\n",
       "      <td>Individual</td>\n",
       "      <td>Manual</td>\n",
       "      <td>First Owner</td>\n",
       "      <td>23.4 kmpl</td>\n",
       "      <td>23.4</td>\n",
       "      <td>1248 CC</td>\n",
       "      <td>74 bhp</td>\n",
       "      <td>190Nm@ 2000rpm</td>\n",
       "      <td>5</td>\n",
       "    </tr>\n",
       "    <tr>\n",
       "      <th>1</th>\n",
       "      <td>Skoda</td>\n",
       "      <td>7</td>\n",
       "      <td>370000</td>\n",
       "      <td>120000</td>\n",
       "      <td>Diesel</td>\n",
       "      <td>Individual</td>\n",
       "      <td>Manual</td>\n",
       "      <td>Second Owner</td>\n",
       "      <td>21.14 kmpl</td>\n",
       "      <td>21.14</td>\n",
       "      <td>1498 CC</td>\n",
       "      <td>103.52 bhp</td>\n",
       "      <td>250Nm@ 1500-2500rpm</td>\n",
       "      <td>5</td>\n",
       "    </tr>\n",
       "    <tr>\n",
       "      <th>2</th>\n",
       "      <td>Honda</td>\n",
       "      <td>15</td>\n",
       "      <td>158000</td>\n",
       "      <td>140000</td>\n",
       "      <td>Petrol</td>\n",
       "      <td>Individual</td>\n",
       "      <td>Manual</td>\n",
       "      <td>Third Owner</td>\n",
       "      <td>17.7 kmpl</td>\n",
       "      <td>17.7</td>\n",
       "      <td>1497 CC</td>\n",
       "      <td>78 bhp</td>\n",
       "      <td>12.7@ 2,700(kgm@ rpm)</td>\n",
       "      <td>5</td>\n",
       "    </tr>\n",
       "    <tr>\n",
       "      <th>3</th>\n",
       "      <td>Hyundai</td>\n",
       "      <td>11</td>\n",
       "      <td>225000</td>\n",
       "      <td>127000</td>\n",
       "      <td>Diesel</td>\n",
       "      <td>Individual</td>\n",
       "      <td>Manual</td>\n",
       "      <td>First Owner</td>\n",
       "      <td>23.0 kmpl</td>\n",
       "      <td>23.0</td>\n",
       "      <td>1396 CC</td>\n",
       "      <td>90 bhp</td>\n",
       "      <td>22.4 kgm at 1750-2750rpm</td>\n",
       "      <td>5</td>\n",
       "    </tr>\n",
       "    <tr>\n",
       "      <th>4</th>\n",
       "      <td>Maruti</td>\n",
       "      <td>14</td>\n",
       "      <td>130000</td>\n",
       "      <td>120000</td>\n",
       "      <td>Petrol</td>\n",
       "      <td>Individual</td>\n",
       "      <td>Manual</td>\n",
       "      <td>First Owner</td>\n",
       "      <td>16.1 kmpl</td>\n",
       "      <td>16.1</td>\n",
       "      <td>1298 CC</td>\n",
       "      <td>88.2 bhp</td>\n",
       "      <td>11.5@ 4,500(kgm@ rpm)</td>\n",
       "      <td>5</td>\n",
       "    </tr>\n",
       "  </tbody>\n",
       "</table>\n",
       "</div>"
      ],
      "text/plain": [
       "  car_brand  no_year  selling_price  km_driven    fuel seller_type  \\\n",
       "0    Maruti        7         450000     145500  Diesel  Individual   \n",
       "1     Skoda        7         370000     120000  Diesel  Individual   \n",
       "2     Honda       15         158000     140000  Petrol  Individual   \n",
       "3   Hyundai       11         225000     127000  Diesel  Individual   \n",
       "4    Maruti       14         130000     120000  Petrol  Individual   \n",
       "\n",
       "  transmission         owner     mileage mileage(kmpl)   engine   max_power  \\\n",
       "0       Manual   First Owner   23.4 kmpl          23.4  1248 CC      74 bhp   \n",
       "1       Manual  Second Owner  21.14 kmpl         21.14  1498 CC  103.52 bhp   \n",
       "2       Manual   Third Owner   17.7 kmpl          17.7  1497 CC      78 bhp   \n",
       "3       Manual   First Owner   23.0 kmpl          23.0  1396 CC      90 bhp   \n",
       "4       Manual   First Owner   16.1 kmpl          16.1  1298 CC    88.2 bhp   \n",
       "\n",
       "                     torque seats  \n",
       "0            190Nm@ 2000rpm     5  \n",
       "1       250Nm@ 1500-2500rpm     5  \n",
       "2     12.7@ 2,700(kgm@ rpm)     5  \n",
       "3  22.4 kgm at 1750-2750rpm     5  \n",
       "4     11.5@ 4,500(kgm@ rpm)     5  "
      ]
     },
     "execution_count": 103,
     "metadata": {},
     "output_type": "execute_result"
    }
   ],
   "source": [
    "# Inserting column \"mileage(kmpl)\" beside \"mileage column\".\n",
    "df.insert(9, \"mileage(kmpl)\", mileage_kmpl)\n",
    "df.head()"
   ]
  },
  {
   "cell_type": "code",
   "execution_count": 104,
   "metadata": {
    "colab": {
     "base_uri": "https://localhost:8080/",
     "height": 195
    },
    "executionInfo": {
     "elapsed": 652,
     "status": "ok",
     "timestamp": 1620558498142,
     "user": {
      "displayName": "Manoj Kumar",
      "photoUrl": "",
      "userId": "09539423896492791031"
     },
     "user_tz": -330
    },
    "id": "CwRfC214zs8Y",
    "outputId": "f10127f5-09e0-4ac4-dc59-d00f2560323e"
   },
   "outputs": [
    {
     "data": {
      "text/html": [
       "<div>\n",
       "<style scoped>\n",
       "    .dataframe tbody tr th:only-of-type {\n",
       "        vertical-align: middle;\n",
       "    }\n",
       "\n",
       "    .dataframe tbody tr th {\n",
       "        vertical-align: top;\n",
       "    }\n",
       "\n",
       "    .dataframe thead th {\n",
       "        text-align: right;\n",
       "    }\n",
       "</style>\n",
       "<table border=\"1\" class=\"dataframe\">\n",
       "  <thead>\n",
       "    <tr style=\"text-align: right;\">\n",
       "      <th></th>\n",
       "      <th>car_brand</th>\n",
       "      <th>no_year</th>\n",
       "      <th>selling_price</th>\n",
       "      <th>km_driven</th>\n",
       "      <th>fuel</th>\n",
       "      <th>seller_type</th>\n",
       "      <th>transmission</th>\n",
       "      <th>owner</th>\n",
       "      <th>mileage(kmpl)</th>\n",
       "      <th>engine</th>\n",
       "      <th>max_power</th>\n",
       "      <th>torque</th>\n",
       "      <th>seats</th>\n",
       "    </tr>\n",
       "  </thead>\n",
       "  <tbody>\n",
       "    <tr>\n",
       "      <th>0</th>\n",
       "      <td>Maruti</td>\n",
       "      <td>7</td>\n",
       "      <td>450000</td>\n",
       "      <td>145500</td>\n",
       "      <td>Diesel</td>\n",
       "      <td>Individual</td>\n",
       "      <td>Manual</td>\n",
       "      <td>First Owner</td>\n",
       "      <td>23.4</td>\n",
       "      <td>1248 CC</td>\n",
       "      <td>74 bhp</td>\n",
       "      <td>190Nm@ 2000rpm</td>\n",
       "      <td>5</td>\n",
       "    </tr>\n",
       "    <tr>\n",
       "      <th>1</th>\n",
       "      <td>Skoda</td>\n",
       "      <td>7</td>\n",
       "      <td>370000</td>\n",
       "      <td>120000</td>\n",
       "      <td>Diesel</td>\n",
       "      <td>Individual</td>\n",
       "      <td>Manual</td>\n",
       "      <td>Second Owner</td>\n",
       "      <td>21.14</td>\n",
       "      <td>1498 CC</td>\n",
       "      <td>103.52 bhp</td>\n",
       "      <td>250Nm@ 1500-2500rpm</td>\n",
       "      <td>5</td>\n",
       "    </tr>\n",
       "    <tr>\n",
       "      <th>2</th>\n",
       "      <td>Honda</td>\n",
       "      <td>15</td>\n",
       "      <td>158000</td>\n",
       "      <td>140000</td>\n",
       "      <td>Petrol</td>\n",
       "      <td>Individual</td>\n",
       "      <td>Manual</td>\n",
       "      <td>Third Owner</td>\n",
       "      <td>17.7</td>\n",
       "      <td>1497 CC</td>\n",
       "      <td>78 bhp</td>\n",
       "      <td>12.7@ 2,700(kgm@ rpm)</td>\n",
       "      <td>5</td>\n",
       "    </tr>\n",
       "    <tr>\n",
       "      <th>3</th>\n",
       "      <td>Hyundai</td>\n",
       "      <td>11</td>\n",
       "      <td>225000</td>\n",
       "      <td>127000</td>\n",
       "      <td>Diesel</td>\n",
       "      <td>Individual</td>\n",
       "      <td>Manual</td>\n",
       "      <td>First Owner</td>\n",
       "      <td>23.0</td>\n",
       "      <td>1396 CC</td>\n",
       "      <td>90 bhp</td>\n",
       "      <td>22.4 kgm at 1750-2750rpm</td>\n",
       "      <td>5</td>\n",
       "    </tr>\n",
       "    <tr>\n",
       "      <th>4</th>\n",
       "      <td>Maruti</td>\n",
       "      <td>14</td>\n",
       "      <td>130000</td>\n",
       "      <td>120000</td>\n",
       "      <td>Petrol</td>\n",
       "      <td>Individual</td>\n",
       "      <td>Manual</td>\n",
       "      <td>First Owner</td>\n",
       "      <td>16.1</td>\n",
       "      <td>1298 CC</td>\n",
       "      <td>88.2 bhp</td>\n",
       "      <td>11.5@ 4,500(kgm@ rpm)</td>\n",
       "      <td>5</td>\n",
       "    </tr>\n",
       "  </tbody>\n",
       "</table>\n",
       "</div>"
      ],
      "text/plain": [
       "  car_brand  no_year  selling_price  km_driven    fuel seller_type  \\\n",
       "0    Maruti        7         450000     145500  Diesel  Individual   \n",
       "1     Skoda        7         370000     120000  Diesel  Individual   \n",
       "2     Honda       15         158000     140000  Petrol  Individual   \n",
       "3   Hyundai       11         225000     127000  Diesel  Individual   \n",
       "4    Maruti       14         130000     120000  Petrol  Individual   \n",
       "\n",
       "  transmission         owner mileage(kmpl)   engine   max_power  \\\n",
       "0       Manual   First Owner          23.4  1248 CC      74 bhp   \n",
       "1       Manual  Second Owner         21.14  1498 CC  103.52 bhp   \n",
       "2       Manual   Third Owner          17.7  1497 CC      78 bhp   \n",
       "3       Manual   First Owner          23.0  1396 CC      90 bhp   \n",
       "4       Manual   First Owner          16.1  1298 CC    88.2 bhp   \n",
       "\n",
       "                     torque seats  \n",
       "0            190Nm@ 2000rpm     5  \n",
       "1       250Nm@ 1500-2500rpm     5  \n",
       "2     12.7@ 2,700(kgm@ rpm)     5  \n",
       "3  22.4 kgm at 1750-2750rpm     5  \n",
       "4     11.5@ 4,500(kgm@ rpm)     5  "
      ]
     },
     "execution_count": 104,
     "metadata": {},
     "output_type": "execute_result"
    }
   ],
   "source": [
    "# Dropping \"mileage\" column\n",
    "df = df.drop(columns = [\"mileage\"])\n",
    "df.head()"
   ]
  },
  {
   "cell_type": "code",
   "execution_count": 105,
   "metadata": {
    "colab": {
     "base_uri": "https://localhost:8080/"
    },
    "executionInfo": {
     "elapsed": 843,
     "status": "ok",
     "timestamp": 1620558826463,
     "user": {
      "displayName": "Manoj Kumar",
      "photoUrl": "",
      "userId": "09539423896492791031"
     },
     "user_tz": -330
    },
    "id": "riJfViP-z2KU",
    "outputId": "83f2e564-f476-4943-cb13-173e1053aa68"
   },
   "outputs": [
    {
     "name": "stdout",
     "output_type": "stream",
     "text": [
      "['1248', '1498', '1497', '1396', '1298']\n"
     ]
    }
   ],
   "source": [
    "# Using Regular expression to extract numbers from the \"engine\" column and taking them in a list \"engine_cc\".\n",
    "engine_cc = []\n",
    "for i in df[\"engine\"]:\n",
    "    if i == \"missing\":\n",
    "        engine_cc.append(i)\n",
    "    else:\n",
    "        x = re.findall(\"[0-9]+\", i)\n",
    "        engine_cc.append(x[0])\n",
    "print(engine_cc[0:5])  "
   ]
  },
  {
   "cell_type": "code",
   "execution_count": 106,
   "metadata": {
    "colab": {
     "base_uri": "https://localhost:8080/",
     "height": 195
    },
    "executionInfo": {
     "elapsed": 1087,
     "status": "ok",
     "timestamp": 1620558909567,
     "user": {
      "displayName": "Manoj Kumar",
      "photoUrl": "",
      "userId": "09539423896492791031"
     },
     "user_tz": -330
    },
    "id": "1djWAHp903pH",
    "outputId": "df53c251-7457-453e-8ba3-9413d2a72f06"
   },
   "outputs": [
    {
     "data": {
      "text/html": [
       "<div>\n",
       "<style scoped>\n",
       "    .dataframe tbody tr th:only-of-type {\n",
       "        vertical-align: middle;\n",
       "    }\n",
       "\n",
       "    .dataframe tbody tr th {\n",
       "        vertical-align: top;\n",
       "    }\n",
       "\n",
       "    .dataframe thead th {\n",
       "        text-align: right;\n",
       "    }\n",
       "</style>\n",
       "<table border=\"1\" class=\"dataframe\">\n",
       "  <thead>\n",
       "    <tr style=\"text-align: right;\">\n",
       "      <th></th>\n",
       "      <th>car_brand</th>\n",
       "      <th>no_year</th>\n",
       "      <th>selling_price</th>\n",
       "      <th>km_driven</th>\n",
       "      <th>fuel</th>\n",
       "      <th>seller_type</th>\n",
       "      <th>transmission</th>\n",
       "      <th>owner</th>\n",
       "      <th>mileage(kmpl)</th>\n",
       "      <th>engine</th>\n",
       "      <th>engine(CC)</th>\n",
       "      <th>max_power</th>\n",
       "      <th>torque</th>\n",
       "      <th>seats</th>\n",
       "    </tr>\n",
       "  </thead>\n",
       "  <tbody>\n",
       "    <tr>\n",
       "      <th>0</th>\n",
       "      <td>Maruti</td>\n",
       "      <td>7</td>\n",
       "      <td>450000</td>\n",
       "      <td>145500</td>\n",
       "      <td>Diesel</td>\n",
       "      <td>Individual</td>\n",
       "      <td>Manual</td>\n",
       "      <td>First Owner</td>\n",
       "      <td>23.4</td>\n",
       "      <td>1248 CC</td>\n",
       "      <td>1248</td>\n",
       "      <td>74 bhp</td>\n",
       "      <td>190Nm@ 2000rpm</td>\n",
       "      <td>5</td>\n",
       "    </tr>\n",
       "    <tr>\n",
       "      <th>1</th>\n",
       "      <td>Skoda</td>\n",
       "      <td>7</td>\n",
       "      <td>370000</td>\n",
       "      <td>120000</td>\n",
       "      <td>Diesel</td>\n",
       "      <td>Individual</td>\n",
       "      <td>Manual</td>\n",
       "      <td>Second Owner</td>\n",
       "      <td>21.14</td>\n",
       "      <td>1498 CC</td>\n",
       "      <td>1498</td>\n",
       "      <td>103.52 bhp</td>\n",
       "      <td>250Nm@ 1500-2500rpm</td>\n",
       "      <td>5</td>\n",
       "    </tr>\n",
       "    <tr>\n",
       "      <th>2</th>\n",
       "      <td>Honda</td>\n",
       "      <td>15</td>\n",
       "      <td>158000</td>\n",
       "      <td>140000</td>\n",
       "      <td>Petrol</td>\n",
       "      <td>Individual</td>\n",
       "      <td>Manual</td>\n",
       "      <td>Third Owner</td>\n",
       "      <td>17.7</td>\n",
       "      <td>1497 CC</td>\n",
       "      <td>1497</td>\n",
       "      <td>78 bhp</td>\n",
       "      <td>12.7@ 2,700(kgm@ rpm)</td>\n",
       "      <td>5</td>\n",
       "    </tr>\n",
       "    <tr>\n",
       "      <th>3</th>\n",
       "      <td>Hyundai</td>\n",
       "      <td>11</td>\n",
       "      <td>225000</td>\n",
       "      <td>127000</td>\n",
       "      <td>Diesel</td>\n",
       "      <td>Individual</td>\n",
       "      <td>Manual</td>\n",
       "      <td>First Owner</td>\n",
       "      <td>23.0</td>\n",
       "      <td>1396 CC</td>\n",
       "      <td>1396</td>\n",
       "      <td>90 bhp</td>\n",
       "      <td>22.4 kgm at 1750-2750rpm</td>\n",
       "      <td>5</td>\n",
       "    </tr>\n",
       "    <tr>\n",
       "      <th>4</th>\n",
       "      <td>Maruti</td>\n",
       "      <td>14</td>\n",
       "      <td>130000</td>\n",
       "      <td>120000</td>\n",
       "      <td>Petrol</td>\n",
       "      <td>Individual</td>\n",
       "      <td>Manual</td>\n",
       "      <td>First Owner</td>\n",
       "      <td>16.1</td>\n",
       "      <td>1298 CC</td>\n",
       "      <td>1298</td>\n",
       "      <td>88.2 bhp</td>\n",
       "      <td>11.5@ 4,500(kgm@ rpm)</td>\n",
       "      <td>5</td>\n",
       "    </tr>\n",
       "  </tbody>\n",
       "</table>\n",
       "</div>"
      ],
      "text/plain": [
       "  car_brand  no_year  selling_price  km_driven    fuel seller_type  \\\n",
       "0    Maruti        7         450000     145500  Diesel  Individual   \n",
       "1     Skoda        7         370000     120000  Diesel  Individual   \n",
       "2     Honda       15         158000     140000  Petrol  Individual   \n",
       "3   Hyundai       11         225000     127000  Diesel  Individual   \n",
       "4    Maruti       14         130000     120000  Petrol  Individual   \n",
       "\n",
       "  transmission         owner mileage(kmpl)   engine engine(CC)   max_power  \\\n",
       "0       Manual   First Owner          23.4  1248 CC       1248      74 bhp   \n",
       "1       Manual  Second Owner         21.14  1498 CC       1498  103.52 bhp   \n",
       "2       Manual   Third Owner          17.7  1497 CC       1497      78 bhp   \n",
       "3       Manual   First Owner          23.0  1396 CC       1396      90 bhp   \n",
       "4       Manual   First Owner          16.1  1298 CC       1298    88.2 bhp   \n",
       "\n",
       "                     torque seats  \n",
       "0            190Nm@ 2000rpm     5  \n",
       "1       250Nm@ 1500-2500rpm     5  \n",
       "2     12.7@ 2,700(kgm@ rpm)     5  \n",
       "3  22.4 kgm at 1750-2750rpm     5  \n",
       "4     11.5@ 4,500(kgm@ rpm)     5  "
      ]
     },
     "execution_count": 106,
     "metadata": {},
     "output_type": "execute_result"
    }
   ],
   "source": [
    "# Inserting \"engine(cc) column beside \"engine\" column.\n",
    "df.insert(10, \"engine(CC)\", engine_cc)\n",
    "df.head()"
   ]
  },
  {
   "cell_type": "code",
   "execution_count": 107,
   "metadata": {
    "colab": {
     "base_uri": "https://localhost:8080/",
     "height": 195
    },
    "executionInfo": {
     "elapsed": 1086,
     "status": "ok",
     "timestamp": 1620559036344,
     "user": {
      "displayName": "Manoj Kumar",
      "photoUrl": "",
      "userId": "09539423896492791031"
     },
     "user_tz": -330
    },
    "id": "Fc4RRBYv1PzC",
    "outputId": "1bd636f0-7d17-46ae-f09d-5cdb68999395"
   },
   "outputs": [
    {
     "data": {
      "text/html": [
       "<div>\n",
       "<style scoped>\n",
       "    .dataframe tbody tr th:only-of-type {\n",
       "        vertical-align: middle;\n",
       "    }\n",
       "\n",
       "    .dataframe tbody tr th {\n",
       "        vertical-align: top;\n",
       "    }\n",
       "\n",
       "    .dataframe thead th {\n",
       "        text-align: right;\n",
       "    }\n",
       "</style>\n",
       "<table border=\"1\" class=\"dataframe\">\n",
       "  <thead>\n",
       "    <tr style=\"text-align: right;\">\n",
       "      <th></th>\n",
       "      <th>car_brand</th>\n",
       "      <th>no_year</th>\n",
       "      <th>selling_price</th>\n",
       "      <th>km_driven</th>\n",
       "      <th>fuel</th>\n",
       "      <th>seller_type</th>\n",
       "      <th>transmission</th>\n",
       "      <th>owner</th>\n",
       "      <th>mileage(kmpl)</th>\n",
       "      <th>engine(CC)</th>\n",
       "      <th>max_power</th>\n",
       "      <th>torque</th>\n",
       "      <th>seats</th>\n",
       "    </tr>\n",
       "  </thead>\n",
       "  <tbody>\n",
       "    <tr>\n",
       "      <th>0</th>\n",
       "      <td>Maruti</td>\n",
       "      <td>7</td>\n",
       "      <td>450000</td>\n",
       "      <td>145500</td>\n",
       "      <td>Diesel</td>\n",
       "      <td>Individual</td>\n",
       "      <td>Manual</td>\n",
       "      <td>First Owner</td>\n",
       "      <td>23.4</td>\n",
       "      <td>1248</td>\n",
       "      <td>74 bhp</td>\n",
       "      <td>190Nm@ 2000rpm</td>\n",
       "      <td>5</td>\n",
       "    </tr>\n",
       "    <tr>\n",
       "      <th>1</th>\n",
       "      <td>Skoda</td>\n",
       "      <td>7</td>\n",
       "      <td>370000</td>\n",
       "      <td>120000</td>\n",
       "      <td>Diesel</td>\n",
       "      <td>Individual</td>\n",
       "      <td>Manual</td>\n",
       "      <td>Second Owner</td>\n",
       "      <td>21.14</td>\n",
       "      <td>1498</td>\n",
       "      <td>103.52 bhp</td>\n",
       "      <td>250Nm@ 1500-2500rpm</td>\n",
       "      <td>5</td>\n",
       "    </tr>\n",
       "    <tr>\n",
       "      <th>2</th>\n",
       "      <td>Honda</td>\n",
       "      <td>15</td>\n",
       "      <td>158000</td>\n",
       "      <td>140000</td>\n",
       "      <td>Petrol</td>\n",
       "      <td>Individual</td>\n",
       "      <td>Manual</td>\n",
       "      <td>Third Owner</td>\n",
       "      <td>17.7</td>\n",
       "      <td>1497</td>\n",
       "      <td>78 bhp</td>\n",
       "      <td>12.7@ 2,700(kgm@ rpm)</td>\n",
       "      <td>5</td>\n",
       "    </tr>\n",
       "    <tr>\n",
       "      <th>3</th>\n",
       "      <td>Hyundai</td>\n",
       "      <td>11</td>\n",
       "      <td>225000</td>\n",
       "      <td>127000</td>\n",
       "      <td>Diesel</td>\n",
       "      <td>Individual</td>\n",
       "      <td>Manual</td>\n",
       "      <td>First Owner</td>\n",
       "      <td>23.0</td>\n",
       "      <td>1396</td>\n",
       "      <td>90 bhp</td>\n",
       "      <td>22.4 kgm at 1750-2750rpm</td>\n",
       "      <td>5</td>\n",
       "    </tr>\n",
       "    <tr>\n",
       "      <th>4</th>\n",
       "      <td>Maruti</td>\n",
       "      <td>14</td>\n",
       "      <td>130000</td>\n",
       "      <td>120000</td>\n",
       "      <td>Petrol</td>\n",
       "      <td>Individual</td>\n",
       "      <td>Manual</td>\n",
       "      <td>First Owner</td>\n",
       "      <td>16.1</td>\n",
       "      <td>1298</td>\n",
       "      <td>88.2 bhp</td>\n",
       "      <td>11.5@ 4,500(kgm@ rpm)</td>\n",
       "      <td>5</td>\n",
       "    </tr>\n",
       "  </tbody>\n",
       "</table>\n",
       "</div>"
      ],
      "text/plain": [
       "  car_brand  no_year  selling_price  km_driven    fuel seller_type  \\\n",
       "0    Maruti        7         450000     145500  Diesel  Individual   \n",
       "1     Skoda        7         370000     120000  Diesel  Individual   \n",
       "2     Honda       15         158000     140000  Petrol  Individual   \n",
       "3   Hyundai       11         225000     127000  Diesel  Individual   \n",
       "4    Maruti       14         130000     120000  Petrol  Individual   \n",
       "\n",
       "  transmission         owner mileage(kmpl) engine(CC)   max_power  \\\n",
       "0       Manual   First Owner          23.4       1248      74 bhp   \n",
       "1       Manual  Second Owner         21.14       1498  103.52 bhp   \n",
       "2       Manual   Third Owner          17.7       1497      78 bhp   \n",
       "3       Manual   First Owner          23.0       1396      90 bhp   \n",
       "4       Manual   First Owner          16.1       1298    88.2 bhp   \n",
       "\n",
       "                     torque seats  \n",
       "0            190Nm@ 2000rpm     5  \n",
       "1       250Nm@ 1500-2500rpm     5  \n",
       "2     12.7@ 2,700(kgm@ rpm)     5  \n",
       "3  22.4 kgm at 1750-2750rpm     5  \n",
       "4     11.5@ 4,500(kgm@ rpm)     5  "
      ]
     },
     "execution_count": 107,
     "metadata": {},
     "output_type": "execute_result"
    }
   ],
   "source": [
    "# Dropping \"engine\" column\n",
    "df = df.drop(columns = [\"engine\"])\n",
    "df.head()"
   ]
  },
  {
   "cell_type": "code",
   "execution_count": 108,
   "metadata": {
    "colab": {
     "base_uri": "https://localhost:8080/"
    },
    "executionInfo": {
     "elapsed": 1164,
     "status": "ok",
     "timestamp": 1620559394749,
     "user": {
      "displayName": "Manoj Kumar",
      "photoUrl": "",
      "userId": "09539423896492791031"
     },
     "user_tz": -330
    },
    "id": "4XPyX14K2HtP",
    "outputId": "1e494f56-17e4-499f-ce9c-115a3418e303"
   },
   "outputs": [
    {
     "data": {
      "text/plain": [
       "['74', '103.52', '78', '90', '88.2']"
      ]
     },
     "execution_count": 108,
     "metadata": {},
     "output_type": "execute_result"
    }
   ],
   "source": [
    "# Using Regular expression to extract numbers from the \"max_power\" column and taking them in a list \"max_power_bhp\".\n",
    "max_power_bhp = []\n",
    "for i in df[\"max_power\"]:\n",
    "    if i == \"missing\":\n",
    "        max_power_bhp.append(i)\n",
    "    else:    \n",
    "        x = re.findall(\"[0-9.]+\", i)\n",
    "        max_power_bhp.append(x[0])\n",
    "max_power_bhp[0:5]"
   ]
  },
  {
   "cell_type": "code",
   "execution_count": 109,
   "metadata": {
    "colab": {
     "base_uri": "https://localhost:8080/",
     "height": 195
    },
    "executionInfo": {
     "elapsed": 999,
     "status": "ok",
     "timestamp": 1620559448128,
     "user": {
      "displayName": "Manoj Kumar",
      "photoUrl": "",
      "userId": "09539423896492791031"
     },
     "user_tz": -330
    },
    "id": "sOMjsubU2n5E",
    "outputId": "ebad5a99-ba8b-4d8b-e13a-5439119a50cc"
   },
   "outputs": [
    {
     "data": {
      "text/html": [
       "<div>\n",
       "<style scoped>\n",
       "    .dataframe tbody tr th:only-of-type {\n",
       "        vertical-align: middle;\n",
       "    }\n",
       "\n",
       "    .dataframe tbody tr th {\n",
       "        vertical-align: top;\n",
       "    }\n",
       "\n",
       "    .dataframe thead th {\n",
       "        text-align: right;\n",
       "    }\n",
       "</style>\n",
       "<table border=\"1\" class=\"dataframe\">\n",
       "  <thead>\n",
       "    <tr style=\"text-align: right;\">\n",
       "      <th></th>\n",
       "      <th>car_brand</th>\n",
       "      <th>no_year</th>\n",
       "      <th>selling_price</th>\n",
       "      <th>km_driven</th>\n",
       "      <th>fuel</th>\n",
       "      <th>seller_type</th>\n",
       "      <th>transmission</th>\n",
       "      <th>owner</th>\n",
       "      <th>mileage(kmpl)</th>\n",
       "      <th>engine(CC)</th>\n",
       "      <th>max_power</th>\n",
       "      <th>max_power(BHP)</th>\n",
       "      <th>torque</th>\n",
       "      <th>seats</th>\n",
       "    </tr>\n",
       "  </thead>\n",
       "  <tbody>\n",
       "    <tr>\n",
       "      <th>0</th>\n",
       "      <td>Maruti</td>\n",
       "      <td>7</td>\n",
       "      <td>450000</td>\n",
       "      <td>145500</td>\n",
       "      <td>Diesel</td>\n",
       "      <td>Individual</td>\n",
       "      <td>Manual</td>\n",
       "      <td>First Owner</td>\n",
       "      <td>23.4</td>\n",
       "      <td>1248</td>\n",
       "      <td>74 bhp</td>\n",
       "      <td>74</td>\n",
       "      <td>190Nm@ 2000rpm</td>\n",
       "      <td>5</td>\n",
       "    </tr>\n",
       "    <tr>\n",
       "      <th>1</th>\n",
       "      <td>Skoda</td>\n",
       "      <td>7</td>\n",
       "      <td>370000</td>\n",
       "      <td>120000</td>\n",
       "      <td>Diesel</td>\n",
       "      <td>Individual</td>\n",
       "      <td>Manual</td>\n",
       "      <td>Second Owner</td>\n",
       "      <td>21.14</td>\n",
       "      <td>1498</td>\n",
       "      <td>103.52 bhp</td>\n",
       "      <td>103.52</td>\n",
       "      <td>250Nm@ 1500-2500rpm</td>\n",
       "      <td>5</td>\n",
       "    </tr>\n",
       "    <tr>\n",
       "      <th>2</th>\n",
       "      <td>Honda</td>\n",
       "      <td>15</td>\n",
       "      <td>158000</td>\n",
       "      <td>140000</td>\n",
       "      <td>Petrol</td>\n",
       "      <td>Individual</td>\n",
       "      <td>Manual</td>\n",
       "      <td>Third Owner</td>\n",
       "      <td>17.7</td>\n",
       "      <td>1497</td>\n",
       "      <td>78 bhp</td>\n",
       "      <td>78</td>\n",
       "      <td>12.7@ 2,700(kgm@ rpm)</td>\n",
       "      <td>5</td>\n",
       "    </tr>\n",
       "    <tr>\n",
       "      <th>3</th>\n",
       "      <td>Hyundai</td>\n",
       "      <td>11</td>\n",
       "      <td>225000</td>\n",
       "      <td>127000</td>\n",
       "      <td>Diesel</td>\n",
       "      <td>Individual</td>\n",
       "      <td>Manual</td>\n",
       "      <td>First Owner</td>\n",
       "      <td>23.0</td>\n",
       "      <td>1396</td>\n",
       "      <td>90 bhp</td>\n",
       "      <td>90</td>\n",
       "      <td>22.4 kgm at 1750-2750rpm</td>\n",
       "      <td>5</td>\n",
       "    </tr>\n",
       "    <tr>\n",
       "      <th>4</th>\n",
       "      <td>Maruti</td>\n",
       "      <td>14</td>\n",
       "      <td>130000</td>\n",
       "      <td>120000</td>\n",
       "      <td>Petrol</td>\n",
       "      <td>Individual</td>\n",
       "      <td>Manual</td>\n",
       "      <td>First Owner</td>\n",
       "      <td>16.1</td>\n",
       "      <td>1298</td>\n",
       "      <td>88.2 bhp</td>\n",
       "      <td>88.2</td>\n",
       "      <td>11.5@ 4,500(kgm@ rpm)</td>\n",
       "      <td>5</td>\n",
       "    </tr>\n",
       "  </tbody>\n",
       "</table>\n",
       "</div>"
      ],
      "text/plain": [
       "  car_brand  no_year  selling_price  km_driven    fuel seller_type  \\\n",
       "0    Maruti        7         450000     145500  Diesel  Individual   \n",
       "1     Skoda        7         370000     120000  Diesel  Individual   \n",
       "2     Honda       15         158000     140000  Petrol  Individual   \n",
       "3   Hyundai       11         225000     127000  Diesel  Individual   \n",
       "4    Maruti       14         130000     120000  Petrol  Individual   \n",
       "\n",
       "  transmission         owner mileage(kmpl) engine(CC)   max_power  \\\n",
       "0       Manual   First Owner          23.4       1248      74 bhp   \n",
       "1       Manual  Second Owner         21.14       1498  103.52 bhp   \n",
       "2       Manual   Third Owner          17.7       1497      78 bhp   \n",
       "3       Manual   First Owner          23.0       1396      90 bhp   \n",
       "4       Manual   First Owner          16.1       1298    88.2 bhp   \n",
       "\n",
       "  max_power(BHP)                    torque seats  \n",
       "0             74            190Nm@ 2000rpm     5  \n",
       "1         103.52       250Nm@ 1500-2500rpm     5  \n",
       "2             78     12.7@ 2,700(kgm@ rpm)     5  \n",
       "3             90  22.4 kgm at 1750-2750rpm     5  \n",
       "4           88.2     11.5@ 4,500(kgm@ rpm)     5  "
      ]
     },
     "execution_count": 109,
     "metadata": {},
     "output_type": "execute_result"
    }
   ],
   "source": [
    "# Inserting \"max_power(BHP)\" column beside \"max_power\" column.\n",
    "df.insert(11, \"max_power(BHP)\", max_power_bhp)\n",
    "df.head()"
   ]
  },
  {
   "cell_type": "code",
   "execution_count": 110,
   "metadata": {
    "colab": {
     "base_uri": "https://localhost:8080/",
     "height": 195
    },
    "executionInfo": {
     "elapsed": 826,
     "status": "ok",
     "timestamp": 1620559503691,
     "user": {
      "displayName": "Manoj Kumar",
      "photoUrl": "",
      "userId": "09539423896492791031"
     },
     "user_tz": -330
    },
    "id": "2oMClxmr2t5_",
    "outputId": "3c7a1521-382f-496c-e100-935b142cd3c6"
   },
   "outputs": [
    {
     "data": {
      "text/html": [
       "<div>\n",
       "<style scoped>\n",
       "    .dataframe tbody tr th:only-of-type {\n",
       "        vertical-align: middle;\n",
       "    }\n",
       "\n",
       "    .dataframe tbody tr th {\n",
       "        vertical-align: top;\n",
       "    }\n",
       "\n",
       "    .dataframe thead th {\n",
       "        text-align: right;\n",
       "    }\n",
       "</style>\n",
       "<table border=\"1\" class=\"dataframe\">\n",
       "  <thead>\n",
       "    <tr style=\"text-align: right;\">\n",
       "      <th></th>\n",
       "      <th>car_brand</th>\n",
       "      <th>no_year</th>\n",
       "      <th>selling_price</th>\n",
       "      <th>km_driven</th>\n",
       "      <th>fuel</th>\n",
       "      <th>seller_type</th>\n",
       "      <th>transmission</th>\n",
       "      <th>owner</th>\n",
       "      <th>mileage(kmpl)</th>\n",
       "      <th>engine(CC)</th>\n",
       "      <th>max_power(BHP)</th>\n",
       "      <th>torque</th>\n",
       "      <th>seats</th>\n",
       "    </tr>\n",
       "  </thead>\n",
       "  <tbody>\n",
       "    <tr>\n",
       "      <th>0</th>\n",
       "      <td>Maruti</td>\n",
       "      <td>7</td>\n",
       "      <td>450000</td>\n",
       "      <td>145500</td>\n",
       "      <td>Diesel</td>\n",
       "      <td>Individual</td>\n",
       "      <td>Manual</td>\n",
       "      <td>First Owner</td>\n",
       "      <td>23.4</td>\n",
       "      <td>1248</td>\n",
       "      <td>74</td>\n",
       "      <td>190Nm@ 2000rpm</td>\n",
       "      <td>5</td>\n",
       "    </tr>\n",
       "    <tr>\n",
       "      <th>1</th>\n",
       "      <td>Skoda</td>\n",
       "      <td>7</td>\n",
       "      <td>370000</td>\n",
       "      <td>120000</td>\n",
       "      <td>Diesel</td>\n",
       "      <td>Individual</td>\n",
       "      <td>Manual</td>\n",
       "      <td>Second Owner</td>\n",
       "      <td>21.14</td>\n",
       "      <td>1498</td>\n",
       "      <td>103.52</td>\n",
       "      <td>250Nm@ 1500-2500rpm</td>\n",
       "      <td>5</td>\n",
       "    </tr>\n",
       "    <tr>\n",
       "      <th>2</th>\n",
       "      <td>Honda</td>\n",
       "      <td>15</td>\n",
       "      <td>158000</td>\n",
       "      <td>140000</td>\n",
       "      <td>Petrol</td>\n",
       "      <td>Individual</td>\n",
       "      <td>Manual</td>\n",
       "      <td>Third Owner</td>\n",
       "      <td>17.7</td>\n",
       "      <td>1497</td>\n",
       "      <td>78</td>\n",
       "      <td>12.7@ 2,700(kgm@ rpm)</td>\n",
       "      <td>5</td>\n",
       "    </tr>\n",
       "    <tr>\n",
       "      <th>3</th>\n",
       "      <td>Hyundai</td>\n",
       "      <td>11</td>\n",
       "      <td>225000</td>\n",
       "      <td>127000</td>\n",
       "      <td>Diesel</td>\n",
       "      <td>Individual</td>\n",
       "      <td>Manual</td>\n",
       "      <td>First Owner</td>\n",
       "      <td>23.0</td>\n",
       "      <td>1396</td>\n",
       "      <td>90</td>\n",
       "      <td>22.4 kgm at 1750-2750rpm</td>\n",
       "      <td>5</td>\n",
       "    </tr>\n",
       "    <tr>\n",
       "      <th>4</th>\n",
       "      <td>Maruti</td>\n",
       "      <td>14</td>\n",
       "      <td>130000</td>\n",
       "      <td>120000</td>\n",
       "      <td>Petrol</td>\n",
       "      <td>Individual</td>\n",
       "      <td>Manual</td>\n",
       "      <td>First Owner</td>\n",
       "      <td>16.1</td>\n",
       "      <td>1298</td>\n",
       "      <td>88.2</td>\n",
       "      <td>11.5@ 4,500(kgm@ rpm)</td>\n",
       "      <td>5</td>\n",
       "    </tr>\n",
       "  </tbody>\n",
       "</table>\n",
       "</div>"
      ],
      "text/plain": [
       "  car_brand  no_year  selling_price  km_driven    fuel seller_type  \\\n",
       "0    Maruti        7         450000     145500  Diesel  Individual   \n",
       "1     Skoda        7         370000     120000  Diesel  Individual   \n",
       "2     Honda       15         158000     140000  Petrol  Individual   \n",
       "3   Hyundai       11         225000     127000  Diesel  Individual   \n",
       "4    Maruti       14         130000     120000  Petrol  Individual   \n",
       "\n",
       "  transmission         owner mileage(kmpl) engine(CC) max_power(BHP)  \\\n",
       "0       Manual   First Owner          23.4       1248             74   \n",
       "1       Manual  Second Owner         21.14       1498         103.52   \n",
       "2       Manual   Third Owner          17.7       1497             78   \n",
       "3       Manual   First Owner          23.0       1396             90   \n",
       "4       Manual   First Owner          16.1       1298           88.2   \n",
       "\n",
       "                     torque seats  \n",
       "0            190Nm@ 2000rpm     5  \n",
       "1       250Nm@ 1500-2500rpm     5  \n",
       "2     12.7@ 2,700(kgm@ rpm)     5  \n",
       "3  22.4 kgm at 1750-2750rpm     5  \n",
       "4     11.5@ 4,500(kgm@ rpm)     5  "
      ]
     },
     "execution_count": 110,
     "metadata": {},
     "output_type": "execute_result"
    }
   ],
   "source": [
    "# Dropping \"max_power\" column.\n",
    "df = df.drop(columns = [\"max_power\"])\n",
    "df.head()"
   ]
  },
  {
   "cell_type": "code",
   "execution_count": 111,
   "metadata": {
    "colab": {
     "base_uri": "https://localhost:8080/"
    },
    "executionInfo": {
     "elapsed": 839,
     "status": "ok",
     "timestamp": 1620561423407,
     "user": {
      "displayName": "Manoj Kumar",
      "photoUrl": "",
      "userId": "09539423896492791031"
     },
     "user_tz": -330
    },
    "id": "Evg931-m44xq",
    "outputId": "3dc49abf-fc21-4138-e80c-a0a0f2b7fc5e"
   },
   "outputs": [
    {
     "data": {
      "text/plain": [
       "[190.0, 250.0, 124.46, 219.52, 112.7]"
      ]
     },
     "execution_count": 111,
     "metadata": {},
     "output_type": "execute_result"
    }
   ],
   "source": [
    "# Using Regular expression to extract only torque(Nm) from the \"torque\" column and taking them in a list \"torque_nm\".\n",
    "torque_nm = []\n",
    "for i in df[\"torque\"]:\n",
    "    if i == \"missing\":\n",
    "        torque_nm.append(i)\n",
    "    else:    \n",
    "        if re.search(\"kgm\", i):\n",
    "            x = re.findall(\"[0-9.]+\", i)\n",
    "            torque_nm.append(round(float(x[0]) * 9.8, 2)) # Multiplying with 9.8 to convert kgm to Nm.\n",
    "        else:\n",
    "            y = re.findall(\"[0-9.]+\", i)\n",
    "            torque_nm.append(float(y[0]))\n",
    "torque_nm[0:5]"
   ]
  },
  {
   "cell_type": "code",
   "execution_count": 112,
   "metadata": {
    "colab": {
     "base_uri": "https://localhost:8080/",
     "height": 195
    },
    "executionInfo": {
     "elapsed": 1141,
     "status": "ok",
     "timestamp": 1620561501852,
     "user": {
      "displayName": "Manoj Kumar",
      "photoUrl": "",
      "userId": "09539423896492791031"
     },
     "user_tz": -330
    },
    "id": "DMfhNkZc6Vh1",
    "outputId": "b1eec462-74f2-4a78-cb98-255090b810b6"
   },
   "outputs": [
    {
     "data": {
      "text/html": [
       "<div>\n",
       "<style scoped>\n",
       "    .dataframe tbody tr th:only-of-type {\n",
       "        vertical-align: middle;\n",
       "    }\n",
       "\n",
       "    .dataframe tbody tr th {\n",
       "        vertical-align: top;\n",
       "    }\n",
       "\n",
       "    .dataframe thead th {\n",
       "        text-align: right;\n",
       "    }\n",
       "</style>\n",
       "<table border=\"1\" class=\"dataframe\">\n",
       "  <thead>\n",
       "    <tr style=\"text-align: right;\">\n",
       "      <th></th>\n",
       "      <th>car_brand</th>\n",
       "      <th>no_year</th>\n",
       "      <th>selling_price</th>\n",
       "      <th>km_driven</th>\n",
       "      <th>fuel</th>\n",
       "      <th>seller_type</th>\n",
       "      <th>transmission</th>\n",
       "      <th>owner</th>\n",
       "      <th>mileage(kmpl)</th>\n",
       "      <th>engine(CC)</th>\n",
       "      <th>max_power(BHP)</th>\n",
       "      <th>torque</th>\n",
       "      <th>torque(Nm)</th>\n",
       "      <th>seats</th>\n",
       "    </tr>\n",
       "  </thead>\n",
       "  <tbody>\n",
       "    <tr>\n",
       "      <th>0</th>\n",
       "      <td>Maruti</td>\n",
       "      <td>7</td>\n",
       "      <td>450000</td>\n",
       "      <td>145500</td>\n",
       "      <td>Diesel</td>\n",
       "      <td>Individual</td>\n",
       "      <td>Manual</td>\n",
       "      <td>First Owner</td>\n",
       "      <td>23.4</td>\n",
       "      <td>1248</td>\n",
       "      <td>74</td>\n",
       "      <td>190Nm@ 2000rpm</td>\n",
       "      <td>190</td>\n",
       "      <td>5</td>\n",
       "    </tr>\n",
       "    <tr>\n",
       "      <th>1</th>\n",
       "      <td>Skoda</td>\n",
       "      <td>7</td>\n",
       "      <td>370000</td>\n",
       "      <td>120000</td>\n",
       "      <td>Diesel</td>\n",
       "      <td>Individual</td>\n",
       "      <td>Manual</td>\n",
       "      <td>Second Owner</td>\n",
       "      <td>21.14</td>\n",
       "      <td>1498</td>\n",
       "      <td>103.52</td>\n",
       "      <td>250Nm@ 1500-2500rpm</td>\n",
       "      <td>250</td>\n",
       "      <td>5</td>\n",
       "    </tr>\n",
       "    <tr>\n",
       "      <th>2</th>\n",
       "      <td>Honda</td>\n",
       "      <td>15</td>\n",
       "      <td>158000</td>\n",
       "      <td>140000</td>\n",
       "      <td>Petrol</td>\n",
       "      <td>Individual</td>\n",
       "      <td>Manual</td>\n",
       "      <td>Third Owner</td>\n",
       "      <td>17.7</td>\n",
       "      <td>1497</td>\n",
       "      <td>78</td>\n",
       "      <td>12.7@ 2,700(kgm@ rpm)</td>\n",
       "      <td>124.46</td>\n",
       "      <td>5</td>\n",
       "    </tr>\n",
       "    <tr>\n",
       "      <th>3</th>\n",
       "      <td>Hyundai</td>\n",
       "      <td>11</td>\n",
       "      <td>225000</td>\n",
       "      <td>127000</td>\n",
       "      <td>Diesel</td>\n",
       "      <td>Individual</td>\n",
       "      <td>Manual</td>\n",
       "      <td>First Owner</td>\n",
       "      <td>23.0</td>\n",
       "      <td>1396</td>\n",
       "      <td>90</td>\n",
       "      <td>22.4 kgm at 1750-2750rpm</td>\n",
       "      <td>219.52</td>\n",
       "      <td>5</td>\n",
       "    </tr>\n",
       "    <tr>\n",
       "      <th>4</th>\n",
       "      <td>Maruti</td>\n",
       "      <td>14</td>\n",
       "      <td>130000</td>\n",
       "      <td>120000</td>\n",
       "      <td>Petrol</td>\n",
       "      <td>Individual</td>\n",
       "      <td>Manual</td>\n",
       "      <td>First Owner</td>\n",
       "      <td>16.1</td>\n",
       "      <td>1298</td>\n",
       "      <td>88.2</td>\n",
       "      <td>11.5@ 4,500(kgm@ rpm)</td>\n",
       "      <td>112.7</td>\n",
       "      <td>5</td>\n",
       "    </tr>\n",
       "  </tbody>\n",
       "</table>\n",
       "</div>"
      ],
      "text/plain": [
       "  car_brand  no_year  selling_price  km_driven    fuel seller_type  \\\n",
       "0    Maruti        7         450000     145500  Diesel  Individual   \n",
       "1     Skoda        7         370000     120000  Diesel  Individual   \n",
       "2     Honda       15         158000     140000  Petrol  Individual   \n",
       "3   Hyundai       11         225000     127000  Diesel  Individual   \n",
       "4    Maruti       14         130000     120000  Petrol  Individual   \n",
       "\n",
       "  transmission         owner mileage(kmpl) engine(CC) max_power(BHP)  \\\n",
       "0       Manual   First Owner          23.4       1248             74   \n",
       "1       Manual  Second Owner         21.14       1498         103.52   \n",
       "2       Manual   Third Owner          17.7       1497             78   \n",
       "3       Manual   First Owner          23.0       1396             90   \n",
       "4       Manual   First Owner          16.1       1298           88.2   \n",
       "\n",
       "                     torque torque(Nm) seats  \n",
       "0            190Nm@ 2000rpm        190     5  \n",
       "1       250Nm@ 1500-2500rpm        250     5  \n",
       "2     12.7@ 2,700(kgm@ rpm)     124.46     5  \n",
       "3  22.4 kgm at 1750-2750rpm     219.52     5  \n",
       "4     11.5@ 4,500(kgm@ rpm)      112.7     5  "
      ]
     },
     "execution_count": 112,
     "metadata": {},
     "output_type": "execute_result"
    }
   ],
   "source": [
    "# Insering \"torque(Nm)\" beside torque column.\n",
    "df.insert(12, \"torque(Nm)\", torque_nm)\n",
    "df.head()"
   ]
  },
  {
   "cell_type": "code",
   "execution_count": 113,
   "metadata": {
    "colab": {
     "base_uri": "https://localhost:8080/"
    },
    "executionInfo": {
     "elapsed": 954,
     "status": "ok",
     "timestamp": 1620563481323,
     "user": {
      "displayName": "Manoj Kumar",
      "photoUrl": "",
      "userId": "09539423896492791031"
     },
     "user_tz": -330
    },
    "id": "PFqN3CFf-MHn",
    "outputId": "8cdbeda8-e039-46fd-94e5-29b82b6d2933"
   },
   "outputs": [
    {
     "data": {
      "text/plain": [
       "['2000', '1500', '2,700', '1750', '4,500']"
      ]
     },
     "execution_count": 113,
     "metadata": {},
     "output_type": "execute_result"
    }
   ],
   "source": [
    "# Using Regular expression to extract only lower limit from the \"torque\" column and taking them in a list \"torque_rpm_lower\".\n",
    "torque_rpm_lower = []\n",
    "for i in df[\"torque\"]:\n",
    "    if i == \"missing\":\n",
    "        torque_rpm_lower.append(i)\n",
    "    else:    \n",
    "        x = re.findall(\"[0-9,.]+\", i)\n",
    "        if len(x) == 3:\n",
    "            torque_rpm_lower.append(x[1]) # [430, 1750, 2250] ==> gives index 1 element 1750.\n",
    "        elif len(x) == 2:\n",
    "            torque_rpm_lower.append(x[1]) # [110, 4800] ==> gives index 1 element 4800.\n",
    "        else:\n",
    "            torque_rpm_lower.append(\"missing\") # because of there are some observation in torque column like \"400Nm\" with no RPM.\n",
    "torque_rpm_lower[0:5]     "
   ]
  },
  {
   "cell_type": "code",
   "execution_count": 114,
   "metadata": {
    "colab": {
     "base_uri": "https://localhost:8080/",
     "height": 346
    },
    "executionInfo": {
     "elapsed": 859,
     "status": "ok",
     "timestamp": 1620563617841,
     "user": {
      "displayName": "Manoj Kumar",
      "photoUrl": "",
      "userId": "09539423896492791031"
     },
     "user_tz": -330
    },
    "id": "DYfzLbxfHSeI",
    "outputId": "bc3f05f0-2f01-4fbd-84ae-173f3bfac060"
   },
   "outputs": [
    {
     "data": {
      "text/html": [
       "<div>\n",
       "<style scoped>\n",
       "    .dataframe tbody tr th:only-of-type {\n",
       "        vertical-align: middle;\n",
       "    }\n",
       "\n",
       "    .dataframe tbody tr th {\n",
       "        vertical-align: top;\n",
       "    }\n",
       "\n",
       "    .dataframe thead th {\n",
       "        text-align: right;\n",
       "    }\n",
       "</style>\n",
       "<table border=\"1\" class=\"dataframe\">\n",
       "  <thead>\n",
       "    <tr style=\"text-align: right;\">\n",
       "      <th></th>\n",
       "      <th>car_brand</th>\n",
       "      <th>no_year</th>\n",
       "      <th>selling_price</th>\n",
       "      <th>km_driven</th>\n",
       "      <th>fuel</th>\n",
       "      <th>seller_type</th>\n",
       "      <th>transmission</th>\n",
       "      <th>owner</th>\n",
       "      <th>mileage(kmpl)</th>\n",
       "      <th>engine(CC)</th>\n",
       "      <th>max_power(BHP)</th>\n",
       "      <th>torque</th>\n",
       "      <th>torque(Nm)</th>\n",
       "      <th>torque_lower(rpm)</th>\n",
       "      <th>seats</th>\n",
       "    </tr>\n",
       "  </thead>\n",
       "  <tbody>\n",
       "    <tr>\n",
       "      <th>0</th>\n",
       "      <td>Maruti</td>\n",
       "      <td>7</td>\n",
       "      <td>450000</td>\n",
       "      <td>145500</td>\n",
       "      <td>Diesel</td>\n",
       "      <td>Individual</td>\n",
       "      <td>Manual</td>\n",
       "      <td>First Owner</td>\n",
       "      <td>23.4</td>\n",
       "      <td>1248</td>\n",
       "      <td>74</td>\n",
       "      <td>190Nm@ 2000rpm</td>\n",
       "      <td>190</td>\n",
       "      <td>2000</td>\n",
       "      <td>5</td>\n",
       "    </tr>\n",
       "    <tr>\n",
       "      <th>1</th>\n",
       "      <td>Skoda</td>\n",
       "      <td>7</td>\n",
       "      <td>370000</td>\n",
       "      <td>120000</td>\n",
       "      <td>Diesel</td>\n",
       "      <td>Individual</td>\n",
       "      <td>Manual</td>\n",
       "      <td>Second Owner</td>\n",
       "      <td>21.14</td>\n",
       "      <td>1498</td>\n",
       "      <td>103.52</td>\n",
       "      <td>250Nm@ 1500-2500rpm</td>\n",
       "      <td>250</td>\n",
       "      <td>1500</td>\n",
       "      <td>5</td>\n",
       "    </tr>\n",
       "    <tr>\n",
       "      <th>2</th>\n",
       "      <td>Honda</td>\n",
       "      <td>15</td>\n",
       "      <td>158000</td>\n",
       "      <td>140000</td>\n",
       "      <td>Petrol</td>\n",
       "      <td>Individual</td>\n",
       "      <td>Manual</td>\n",
       "      <td>Third Owner</td>\n",
       "      <td>17.7</td>\n",
       "      <td>1497</td>\n",
       "      <td>78</td>\n",
       "      <td>12.7@ 2,700(kgm@ rpm)</td>\n",
       "      <td>124.46</td>\n",
       "      <td>2,700</td>\n",
       "      <td>5</td>\n",
       "    </tr>\n",
       "    <tr>\n",
       "      <th>3</th>\n",
       "      <td>Hyundai</td>\n",
       "      <td>11</td>\n",
       "      <td>225000</td>\n",
       "      <td>127000</td>\n",
       "      <td>Diesel</td>\n",
       "      <td>Individual</td>\n",
       "      <td>Manual</td>\n",
       "      <td>First Owner</td>\n",
       "      <td>23.0</td>\n",
       "      <td>1396</td>\n",
       "      <td>90</td>\n",
       "      <td>22.4 kgm at 1750-2750rpm</td>\n",
       "      <td>219.52</td>\n",
       "      <td>1750</td>\n",
       "      <td>5</td>\n",
       "    </tr>\n",
       "    <tr>\n",
       "      <th>4</th>\n",
       "      <td>Maruti</td>\n",
       "      <td>14</td>\n",
       "      <td>130000</td>\n",
       "      <td>120000</td>\n",
       "      <td>Petrol</td>\n",
       "      <td>Individual</td>\n",
       "      <td>Manual</td>\n",
       "      <td>First Owner</td>\n",
       "      <td>16.1</td>\n",
       "      <td>1298</td>\n",
       "      <td>88.2</td>\n",
       "      <td>11.5@ 4,500(kgm@ rpm)</td>\n",
       "      <td>112.7</td>\n",
       "      <td>4,500</td>\n",
       "      <td>5</td>\n",
       "    </tr>\n",
       "  </tbody>\n",
       "</table>\n",
       "</div>"
      ],
      "text/plain": [
       "  car_brand  no_year  selling_price  km_driven    fuel seller_type  \\\n",
       "0    Maruti        7         450000     145500  Diesel  Individual   \n",
       "1     Skoda        7         370000     120000  Diesel  Individual   \n",
       "2     Honda       15         158000     140000  Petrol  Individual   \n",
       "3   Hyundai       11         225000     127000  Diesel  Individual   \n",
       "4    Maruti       14         130000     120000  Petrol  Individual   \n",
       "\n",
       "  transmission         owner mileage(kmpl) engine(CC) max_power(BHP)  \\\n",
       "0       Manual   First Owner          23.4       1248             74   \n",
       "1       Manual  Second Owner         21.14       1498         103.52   \n",
       "2       Manual   Third Owner          17.7       1497             78   \n",
       "3       Manual   First Owner          23.0       1396             90   \n",
       "4       Manual   First Owner          16.1       1298           88.2   \n",
       "\n",
       "                     torque torque(Nm) torque_lower(rpm) seats  \n",
       "0            190Nm@ 2000rpm        190              2000     5  \n",
       "1       250Nm@ 1500-2500rpm        250              1500     5  \n",
       "2     12.7@ 2,700(kgm@ rpm)     124.46             2,700     5  \n",
       "3  22.4 kgm at 1750-2750rpm     219.52              1750     5  \n",
       "4     11.5@ 4,500(kgm@ rpm)      112.7             4,500     5  "
      ]
     },
     "execution_count": 114,
     "metadata": {},
     "output_type": "execute_result"
    }
   ],
   "source": [
    "# Inserting \"torque_lower(rpm)\" column beside \"torque\" column\n",
    "df.insert(13, \"torque_lower(rpm)\", torque_rpm_lower)\n",
    "df.head()"
   ]
  },
  {
   "cell_type": "code",
   "execution_count": 115,
   "metadata": {
    "colab": {
     "base_uri": "https://localhost:8080/"
    },
    "executionInfo": {
     "elapsed": 1787,
     "status": "ok",
     "timestamp": 1620563845556,
     "user": {
      "displayName": "Manoj Kumar",
      "photoUrl": "",
      "userId": "09539423896492791031"
     },
     "user_tz": -330
    },
    "id": "6cvi9bGb-NhU",
    "outputId": "93195b9a-a666-4496-f073-23e21f79292b"
   },
   "outputs": [
    {
     "data": {
      "text/plain": [
       "['2000', '2500', '2,700', '2750', '4,500']"
      ]
     },
     "execution_count": 115,
     "metadata": {},
     "output_type": "execute_result"
    }
   ],
   "source": [
    "# Using Regular expression to extract only Upper limit from the \"torque\" column and taking them in a list \"torque_rpm_upper\".\n",
    "torque_rpm_upper = []\n",
    "for i in df[\"torque\"]:\n",
    "    if i == \"missing\":\n",
    "        torque_rpm_upper.append(i)\n",
    "    else:    \n",
    "        x = re.findall(\"[0-9,.]+\", i)\n",
    "        if len(x) == 3:\n",
    "            torque_rpm_upper.append(x[2]) # [430, 1750, 2250] ==> gives index 2 element 2250.\n",
    "        elif len(x) == 2:\n",
    "            torque_rpm_upper.append(x[1]) # [110, 4800] ==> gives index 1 element 4800.\n",
    "        else:\n",
    "            torque_rpm_upper.append(\"missing\")\n",
    "torque_rpm_upper[0:5]"
   ]
  },
  {
   "cell_type": "code",
   "execution_count": 116,
   "metadata": {
    "colab": {
     "base_uri": "https://localhost:8080/",
     "height": 366
    },
    "executionInfo": {
     "elapsed": 1020,
     "status": "ok",
     "timestamp": 1620563898554,
     "user": {
      "displayName": "Manoj Kumar",
      "photoUrl": "",
      "userId": "09539423896492791031"
     },
     "user_tz": -330
    },
    "id": "bjgCtVJ-Dsxj",
    "outputId": "f5d61b3c-826e-4949-e03c-c42d48de80b8"
   },
   "outputs": [
    {
     "data": {
      "text/html": [
       "<div>\n",
       "<style scoped>\n",
       "    .dataframe tbody tr th:only-of-type {\n",
       "        vertical-align: middle;\n",
       "    }\n",
       "\n",
       "    .dataframe tbody tr th {\n",
       "        vertical-align: top;\n",
       "    }\n",
       "\n",
       "    .dataframe thead th {\n",
       "        text-align: right;\n",
       "    }\n",
       "</style>\n",
       "<table border=\"1\" class=\"dataframe\">\n",
       "  <thead>\n",
       "    <tr style=\"text-align: right;\">\n",
       "      <th></th>\n",
       "      <th>car_brand</th>\n",
       "      <th>no_year</th>\n",
       "      <th>selling_price</th>\n",
       "      <th>km_driven</th>\n",
       "      <th>fuel</th>\n",
       "      <th>seller_type</th>\n",
       "      <th>transmission</th>\n",
       "      <th>owner</th>\n",
       "      <th>mileage(kmpl)</th>\n",
       "      <th>engine(CC)</th>\n",
       "      <th>max_power(BHP)</th>\n",
       "      <th>torque</th>\n",
       "      <th>torque(Nm)</th>\n",
       "      <th>torque_lower(rpm)</th>\n",
       "      <th>torque_upper(rpm)</th>\n",
       "      <th>seats</th>\n",
       "    </tr>\n",
       "  </thead>\n",
       "  <tbody>\n",
       "    <tr>\n",
       "      <th>0</th>\n",
       "      <td>Maruti</td>\n",
       "      <td>7</td>\n",
       "      <td>450000</td>\n",
       "      <td>145500</td>\n",
       "      <td>Diesel</td>\n",
       "      <td>Individual</td>\n",
       "      <td>Manual</td>\n",
       "      <td>First Owner</td>\n",
       "      <td>23.4</td>\n",
       "      <td>1248</td>\n",
       "      <td>74</td>\n",
       "      <td>190Nm@ 2000rpm</td>\n",
       "      <td>190</td>\n",
       "      <td>2000</td>\n",
       "      <td>2000</td>\n",
       "      <td>5</td>\n",
       "    </tr>\n",
       "    <tr>\n",
       "      <th>1</th>\n",
       "      <td>Skoda</td>\n",
       "      <td>7</td>\n",
       "      <td>370000</td>\n",
       "      <td>120000</td>\n",
       "      <td>Diesel</td>\n",
       "      <td>Individual</td>\n",
       "      <td>Manual</td>\n",
       "      <td>Second Owner</td>\n",
       "      <td>21.14</td>\n",
       "      <td>1498</td>\n",
       "      <td>103.52</td>\n",
       "      <td>250Nm@ 1500-2500rpm</td>\n",
       "      <td>250</td>\n",
       "      <td>1500</td>\n",
       "      <td>2500</td>\n",
       "      <td>5</td>\n",
       "    </tr>\n",
       "    <tr>\n",
       "      <th>2</th>\n",
       "      <td>Honda</td>\n",
       "      <td>15</td>\n",
       "      <td>158000</td>\n",
       "      <td>140000</td>\n",
       "      <td>Petrol</td>\n",
       "      <td>Individual</td>\n",
       "      <td>Manual</td>\n",
       "      <td>Third Owner</td>\n",
       "      <td>17.7</td>\n",
       "      <td>1497</td>\n",
       "      <td>78</td>\n",
       "      <td>12.7@ 2,700(kgm@ rpm)</td>\n",
       "      <td>124.46</td>\n",
       "      <td>2,700</td>\n",
       "      <td>2,700</td>\n",
       "      <td>5</td>\n",
       "    </tr>\n",
       "    <tr>\n",
       "      <th>3</th>\n",
       "      <td>Hyundai</td>\n",
       "      <td>11</td>\n",
       "      <td>225000</td>\n",
       "      <td>127000</td>\n",
       "      <td>Diesel</td>\n",
       "      <td>Individual</td>\n",
       "      <td>Manual</td>\n",
       "      <td>First Owner</td>\n",
       "      <td>23.0</td>\n",
       "      <td>1396</td>\n",
       "      <td>90</td>\n",
       "      <td>22.4 kgm at 1750-2750rpm</td>\n",
       "      <td>219.52</td>\n",
       "      <td>1750</td>\n",
       "      <td>2750</td>\n",
       "      <td>5</td>\n",
       "    </tr>\n",
       "    <tr>\n",
       "      <th>4</th>\n",
       "      <td>Maruti</td>\n",
       "      <td>14</td>\n",
       "      <td>130000</td>\n",
       "      <td>120000</td>\n",
       "      <td>Petrol</td>\n",
       "      <td>Individual</td>\n",
       "      <td>Manual</td>\n",
       "      <td>First Owner</td>\n",
       "      <td>16.1</td>\n",
       "      <td>1298</td>\n",
       "      <td>88.2</td>\n",
       "      <td>11.5@ 4,500(kgm@ rpm)</td>\n",
       "      <td>112.7</td>\n",
       "      <td>4,500</td>\n",
       "      <td>4,500</td>\n",
       "      <td>5</td>\n",
       "    </tr>\n",
       "  </tbody>\n",
       "</table>\n",
       "</div>"
      ],
      "text/plain": [
       "  car_brand  no_year  selling_price  km_driven    fuel seller_type  \\\n",
       "0    Maruti        7         450000     145500  Diesel  Individual   \n",
       "1     Skoda        7         370000     120000  Diesel  Individual   \n",
       "2     Honda       15         158000     140000  Petrol  Individual   \n",
       "3   Hyundai       11         225000     127000  Diesel  Individual   \n",
       "4    Maruti       14         130000     120000  Petrol  Individual   \n",
       "\n",
       "  transmission         owner mileage(kmpl) engine(CC) max_power(BHP)  \\\n",
       "0       Manual   First Owner          23.4       1248             74   \n",
       "1       Manual  Second Owner         21.14       1498         103.52   \n",
       "2       Manual   Third Owner          17.7       1497             78   \n",
       "3       Manual   First Owner          23.0       1396             90   \n",
       "4       Manual   First Owner          16.1       1298           88.2   \n",
       "\n",
       "                     torque torque(Nm) torque_lower(rpm) torque_upper(rpm)  \\\n",
       "0            190Nm@ 2000rpm        190              2000              2000   \n",
       "1       250Nm@ 1500-2500rpm        250              1500              2500   \n",
       "2     12.7@ 2,700(kgm@ rpm)     124.46             2,700             2,700   \n",
       "3  22.4 kgm at 1750-2750rpm     219.52              1750              2750   \n",
       "4     11.5@ 4,500(kgm@ rpm)      112.7             4,500             4,500   \n",
       "\n",
       "  seats  \n",
       "0     5  \n",
       "1     5  \n",
       "2     5  \n",
       "3     5  \n",
       "4     5  "
      ]
     },
     "execution_count": 116,
     "metadata": {},
     "output_type": "execute_result"
    }
   ],
   "source": [
    "# Inserting \"torque_upper(rpm)\" column beside \"torque\" column\n",
    "df.insert(14, \"torque_upper(rpm)\", torque_rpm_upper)\n",
    "df.head()"
   ]
  },
  {
   "cell_type": "code",
   "execution_count": 117,
   "metadata": {
    "colab": {
     "base_uri": "https://localhost:8080/",
     "height": 299
    },
    "executionInfo": {
     "elapsed": 858,
     "status": "ok",
     "timestamp": 1620563977900,
     "user": {
      "displayName": "Manoj Kumar",
      "photoUrl": "",
      "userId": "09539423896492791031"
     },
     "user_tz": -330
    },
    "id": "HPUwD3UtElWo",
    "outputId": "4219337b-3838-4189-935b-b29a9968bb3e"
   },
   "outputs": [
    {
     "data": {
      "text/html": [
       "<div>\n",
       "<style scoped>\n",
       "    .dataframe tbody tr th:only-of-type {\n",
       "        vertical-align: middle;\n",
       "    }\n",
       "\n",
       "    .dataframe tbody tr th {\n",
       "        vertical-align: top;\n",
       "    }\n",
       "\n",
       "    .dataframe thead th {\n",
       "        text-align: right;\n",
       "    }\n",
       "</style>\n",
       "<table border=\"1\" class=\"dataframe\">\n",
       "  <thead>\n",
       "    <tr style=\"text-align: right;\">\n",
       "      <th></th>\n",
       "      <th>car_brand</th>\n",
       "      <th>no_year</th>\n",
       "      <th>selling_price</th>\n",
       "      <th>km_driven</th>\n",
       "      <th>fuel</th>\n",
       "      <th>seller_type</th>\n",
       "      <th>transmission</th>\n",
       "      <th>owner</th>\n",
       "      <th>mileage(kmpl)</th>\n",
       "      <th>engine(CC)</th>\n",
       "      <th>max_power(BHP)</th>\n",
       "      <th>torque(Nm)</th>\n",
       "      <th>torque_lower(rpm)</th>\n",
       "      <th>torque_upper(rpm)</th>\n",
       "      <th>seats</th>\n",
       "    </tr>\n",
       "  </thead>\n",
       "  <tbody>\n",
       "    <tr>\n",
       "      <th>0</th>\n",
       "      <td>Maruti</td>\n",
       "      <td>7</td>\n",
       "      <td>450000</td>\n",
       "      <td>145500</td>\n",
       "      <td>Diesel</td>\n",
       "      <td>Individual</td>\n",
       "      <td>Manual</td>\n",
       "      <td>First Owner</td>\n",
       "      <td>23.4</td>\n",
       "      <td>1248</td>\n",
       "      <td>74</td>\n",
       "      <td>190</td>\n",
       "      <td>2000</td>\n",
       "      <td>2000</td>\n",
       "      <td>5</td>\n",
       "    </tr>\n",
       "    <tr>\n",
       "      <th>1</th>\n",
       "      <td>Skoda</td>\n",
       "      <td>7</td>\n",
       "      <td>370000</td>\n",
       "      <td>120000</td>\n",
       "      <td>Diesel</td>\n",
       "      <td>Individual</td>\n",
       "      <td>Manual</td>\n",
       "      <td>Second Owner</td>\n",
       "      <td>21.14</td>\n",
       "      <td>1498</td>\n",
       "      <td>103.52</td>\n",
       "      <td>250</td>\n",
       "      <td>1500</td>\n",
       "      <td>2500</td>\n",
       "      <td>5</td>\n",
       "    </tr>\n",
       "    <tr>\n",
       "      <th>2</th>\n",
       "      <td>Honda</td>\n",
       "      <td>15</td>\n",
       "      <td>158000</td>\n",
       "      <td>140000</td>\n",
       "      <td>Petrol</td>\n",
       "      <td>Individual</td>\n",
       "      <td>Manual</td>\n",
       "      <td>Third Owner</td>\n",
       "      <td>17.7</td>\n",
       "      <td>1497</td>\n",
       "      <td>78</td>\n",
       "      <td>124.46</td>\n",
       "      <td>2,700</td>\n",
       "      <td>2,700</td>\n",
       "      <td>5</td>\n",
       "    </tr>\n",
       "    <tr>\n",
       "      <th>3</th>\n",
       "      <td>Hyundai</td>\n",
       "      <td>11</td>\n",
       "      <td>225000</td>\n",
       "      <td>127000</td>\n",
       "      <td>Diesel</td>\n",
       "      <td>Individual</td>\n",
       "      <td>Manual</td>\n",
       "      <td>First Owner</td>\n",
       "      <td>23.0</td>\n",
       "      <td>1396</td>\n",
       "      <td>90</td>\n",
       "      <td>219.52</td>\n",
       "      <td>1750</td>\n",
       "      <td>2750</td>\n",
       "      <td>5</td>\n",
       "    </tr>\n",
       "    <tr>\n",
       "      <th>4</th>\n",
       "      <td>Maruti</td>\n",
       "      <td>14</td>\n",
       "      <td>130000</td>\n",
       "      <td>120000</td>\n",
       "      <td>Petrol</td>\n",
       "      <td>Individual</td>\n",
       "      <td>Manual</td>\n",
       "      <td>First Owner</td>\n",
       "      <td>16.1</td>\n",
       "      <td>1298</td>\n",
       "      <td>88.2</td>\n",
       "      <td>112.7</td>\n",
       "      <td>4,500</td>\n",
       "      <td>4,500</td>\n",
       "      <td>5</td>\n",
       "    </tr>\n",
       "  </tbody>\n",
       "</table>\n",
       "</div>"
      ],
      "text/plain": [
       "  car_brand  no_year  selling_price  km_driven    fuel seller_type  \\\n",
       "0    Maruti        7         450000     145500  Diesel  Individual   \n",
       "1     Skoda        7         370000     120000  Diesel  Individual   \n",
       "2     Honda       15         158000     140000  Petrol  Individual   \n",
       "3   Hyundai       11         225000     127000  Diesel  Individual   \n",
       "4    Maruti       14         130000     120000  Petrol  Individual   \n",
       "\n",
       "  transmission         owner mileage(kmpl) engine(CC) max_power(BHP)  \\\n",
       "0       Manual   First Owner          23.4       1248             74   \n",
       "1       Manual  Second Owner         21.14       1498         103.52   \n",
       "2       Manual   Third Owner          17.7       1497             78   \n",
       "3       Manual   First Owner          23.0       1396             90   \n",
       "4       Manual   First Owner          16.1       1298           88.2   \n",
       "\n",
       "  torque(Nm) torque_lower(rpm) torque_upper(rpm) seats  \n",
       "0        190              2000              2000     5  \n",
       "1        250              1500              2500     5  \n",
       "2     124.46             2,700             2,700     5  \n",
       "3     219.52              1750              2750     5  \n",
       "4      112.7             4,500             4,500     5  "
      ]
     },
     "execution_count": 117,
     "metadata": {},
     "output_type": "execute_result"
    }
   ],
   "source": [
    "# Dropping \"torque\" Column.\n",
    "df = df.drop(columns = [\"torque\"])\n",
    "df.head()"
   ]
  },
  {
   "cell_type": "code",
   "execution_count": 118,
   "metadata": {},
   "outputs": [
    {
     "data": {
      "text/plain": [
       "car_brand              0\n",
       "no_year                0\n",
       "selling_price          0\n",
       "km_driven              0\n",
       "fuel                   0\n",
       "seller_type            0\n",
       "transmission           0\n",
       "owner                  0\n",
       "mileage(kmpl)        238\n",
       "engine(CC)           221\n",
       "max_power(BHP)       222\n",
       "torque(Nm)           222\n",
       "torque_lower(rpm)    256\n",
       "torque_upper(rpm)    256\n",
       "seats                221\n",
       "dtype: int64"
      ]
     },
     "execution_count": 118,
     "metadata": {},
     "output_type": "execute_result"
    }
   ],
   "source": [
    "# Converting word \"missing\" to Nan.\n",
    "df = df.replace({\"missing\" : np.nan})\n",
    "df.isnull().sum()"
   ]
  },
  {
   "cell_type": "code",
   "execution_count": 119,
   "metadata": {
    "colab": {
     "base_uri": "https://localhost:8080/"
    },
    "executionInfo": {
     "elapsed": 1397,
     "status": "ok",
     "timestamp": 1620564044216,
     "user": {
      "displayName": "Manoj Kumar",
      "photoUrl": "",
      "userId": "09539423896492791031"
     },
     "user_tz": -330
    },
    "id": "vzAjLjaHI4hd",
    "outputId": "c165f361-776f-435b-a962-9badfde5af24"
   },
   "outputs": [
    {
     "data": {
      "text/plain": [
       "car_brand             object\n",
       "no_year                int64\n",
       "selling_price          int64\n",
       "km_driven              int64\n",
       "fuel                  object\n",
       "seller_type           object\n",
       "transmission          object\n",
       "owner                 object\n",
       "mileage(kmpl)         object\n",
       "engine(CC)            object\n",
       "max_power(BHP)        object\n",
       "torque(Nm)           float64\n",
       "torque_lower(rpm)     object\n",
       "torque_upper(rpm)     object\n",
       "seats                float64\n",
       "dtype: object"
      ]
     },
     "execution_count": 119,
     "metadata": {},
     "output_type": "execute_result"
    }
   ],
   "source": [
    "# Viewing datatypes after extracting the required numbers.\n",
    "df.dtypes"
   ]
  },
  {
   "cell_type": "code",
   "execution_count": 120,
   "metadata": {
    "colab": {
     "base_uri": "https://localhost:8080/",
     "height": 299
    },
    "executionInfo": {
     "elapsed": 874,
     "status": "ok",
     "timestamp": 1620564146653,
     "user": {
      "displayName": "Manoj Kumar",
      "photoUrl": "",
      "userId": "09539423896492791031"
     },
     "user_tz": -330
    },
    "id": "LnWGNUETJOO_",
    "outputId": "bf4e08a7-6f09-42c0-d4e1-732754e51e80"
   },
   "outputs": [
    {
     "data": {
      "text/plain": [
       "dtype('float64')"
      ]
     },
     "execution_count": 120,
     "metadata": {},
     "output_type": "execute_result"
    }
   ],
   "source": [
    "# Converting \"mileage(kmpl)\" column to numeric column\n",
    "df[\"mileage(kmpl)\"] = pd.to_numeric(df[\"mileage(kmpl)\"])\n",
    "df[\"mileage(kmpl)\"].dtype"
   ]
  },
  {
   "cell_type": "code",
   "execution_count": 121,
   "metadata": {
    "colab": {
     "base_uri": "https://localhost:8080/",
     "height": 299
    },
    "executionInfo": {
     "elapsed": 838,
     "status": "ok",
     "timestamp": 1620564305770,
     "user": {
      "displayName": "Manoj Kumar",
      "photoUrl": "",
      "userId": "09539423896492791031"
     },
     "user_tz": -330
    },
    "id": "HZdUI9h2JYfG",
    "outputId": "25623f50-ede6-491f-b07b-35f15a409385"
   },
   "outputs": [
    {
     "data": {
      "text/plain": [
       "dtype('float64')"
      ]
     },
     "execution_count": 121,
     "metadata": {},
     "output_type": "execute_result"
    }
   ],
   "source": [
    "# Converting \"engine(CC)\" column to numeric column\n",
    "df[\"engine(CC)\"] = pd.to_numeric(df[\"engine(CC)\"])\n",
    "df[\"engine(CC)\"].dtype"
   ]
  },
  {
   "cell_type": "code",
   "execution_count": 122,
   "metadata": {
    "colab": {
     "base_uri": "https://localhost:8080/",
     "height": 299
    },
    "executionInfo": {
     "elapsed": 847,
     "status": "ok",
     "timestamp": 1620564471589,
     "user": {
      "displayName": "Manoj Kumar",
      "photoUrl": "",
      "userId": "09539423896492791031"
     },
     "user_tz": -330
    },
    "id": "Ln2i6qs5KOP8",
    "outputId": "c00cbb57-d5ba-4c0c-9bd6-4b8ed93a6c98"
   },
   "outputs": [
    {
     "data": {
      "text/plain": [
       "dtype('float64')"
      ]
     },
     "execution_count": 122,
     "metadata": {},
     "output_type": "execute_result"
    }
   ],
   "source": [
    "# Converting \"max_power(BHP)\" column to numeric column\n",
    "df[\"max_power(BHP)\"] = pd.to_numeric(df[\"max_power(BHP)\"])\n",
    "df[\"max_power(BHP)\"].dtype"
   ]
  },
  {
   "cell_type": "code",
   "execution_count": 123,
   "metadata": {
    "colab": {
     "base_uri": "https://localhost:8080/",
     "height": 299
    },
    "executionInfo": {
     "elapsed": 960,
     "status": "ok",
     "timestamp": 1620564518573,
     "user": {
      "displayName": "Manoj Kumar",
      "photoUrl": "",
      "userId": "09539423896492791031"
     },
     "user_tz": -330
    },
    "id": "4mvPx8tiKouv",
    "outputId": "a1cd427d-ac59-40b8-82b2-eff9cc4b2e6f"
   },
   "outputs": [
    {
     "data": {
      "text/plain": [
       "dtype('float64')"
      ]
     },
     "execution_count": 123,
     "metadata": {},
     "output_type": "execute_result"
    }
   ],
   "source": [
    "# Converting \"torque(Nm)\" column to numeric column\n",
    "df[\"torque(Nm)\"] = pd.to_numeric(df[\"torque(Nm)\"])\n",
    "df[\"torque(Nm)\"].dtype"
   ]
  },
  {
   "cell_type": "markdown",
   "metadata": {},
   "source": [
    "we could not convert to numeric because there are \",\"s in column like \"2,700\".\n",
    "<br>so, lets remove that \",\""
   ]
  },
  {
   "cell_type": "code",
   "execution_count": 124,
   "metadata": {
    "colab": {
     "base_uri": "https://localhost:8080/"
    },
    "executionInfo": {
     "elapsed": 846,
     "status": "ok",
     "timestamp": 1620565600192,
     "user": {
      "displayName": "Manoj Kumar",
      "photoUrl": "",
      "userId": "09539423896492791031"
     },
     "user_tz": -330
    },
    "id": "8SqOofTDLIZ_",
    "outputId": "2bf126e2-286c-42cd-a69d-b4546ef4d296"
   },
   "outputs": [],
   "source": [
    "# Removing \",\" and taking in separate list.\n",
    "df[\"torque_lower(rpm)\"] = df[\"torque_lower(rpm)\"].replace(to_replace = \",\", value = \"\", regex = True)\n",
    "df[\"torque_upper(rpm)\"] = df[\"torque_upper(rpm)\"].replace(to_replace = \",\", value = \"\", regex = True)"
   ]
  },
  {
   "cell_type": "code",
   "execution_count": 125,
   "metadata": {},
   "outputs": [
    {
     "data": {
      "text/plain": [
       "dtype('float64')"
      ]
     },
     "execution_count": 125,
     "metadata": {},
     "output_type": "execute_result"
    }
   ],
   "source": [
    "# Converting \"torque_lower(rpm)\" column to numeric column.\n",
    "df[\"torque_lower(rpm)\"] = pd.to_numeric(df[\"torque_lower(rpm)\"])\n",
    "df[\"torque_lower(rpm)\"].dtype"
   ]
  },
  {
   "cell_type": "code",
   "execution_count": 126,
   "metadata": {},
   "outputs": [
    {
     "data": {
      "text/plain": [
       "dtype('float64')"
      ]
     },
     "execution_count": 126,
     "metadata": {},
     "output_type": "execute_result"
    }
   ],
   "source": [
    "# Converting \"torque_upper(rpm)\" column to numeric column.\n",
    "df[\"torque_upper(rpm)\"] = pd.to_numeric(df[\"torque_upper(rpm)\"])\n",
    "df[\"torque_upper(rpm)\"].dtype"
   ]
  },
  {
   "cell_type": "code",
   "execution_count": 127,
   "metadata": {
    "id": "ZZEQSwPpU6ms"
   },
   "outputs": [
    {
     "data": {
      "text/plain": [
       "car_brand             object\n",
       "no_year                int64\n",
       "selling_price          int64\n",
       "km_driven              int64\n",
       "fuel                  object\n",
       "seller_type           object\n",
       "transmission          object\n",
       "owner                 object\n",
       "mileage(kmpl)        float64\n",
       "engine(CC)           float64\n",
       "max_power(BHP)       float64\n",
       "torque(Nm)           float64\n",
       "torque_lower(rpm)    float64\n",
       "torque_upper(rpm)    float64\n",
       "seats                float64\n",
       "dtype: object"
      ]
     },
     "execution_count": 127,
     "metadata": {},
     "output_type": "execute_result"
    }
   ],
   "source": [
    "# Viewing the data types\n",
    "df.dtypes"
   ]
  },
  {
   "cell_type": "markdown",
   "metadata": {},
   "source": [
    "We have formated the data. Lets deal with missing data"
   ]
  },
  {
   "cell_type": "code",
   "execution_count": 128,
   "metadata": {},
   "outputs": [
    {
     "data": {
      "text/plain": [
       "car_brand              0\n",
       "no_year                0\n",
       "selling_price          0\n",
       "km_driven              0\n",
       "fuel                   0\n",
       "seller_type            0\n",
       "transmission           0\n",
       "owner                  0\n",
       "mileage(kmpl)        238\n",
       "engine(CC)           221\n",
       "max_power(BHP)       222\n",
       "torque(Nm)           222\n",
       "torque_lower(rpm)    256\n",
       "torque_upper(rpm)    256\n",
       "seats                221\n",
       "dtype: int64"
      ]
     },
     "execution_count": 128,
     "metadata": {},
     "output_type": "execute_result"
    }
   ],
   "source": [
    "# Checking Null values\n",
    "df.isnull().sum()"
   ]
  },
  {
   "cell_type": "markdown",
   "metadata": {},
   "source": [
    "Iam replacing null values by average mileage of respective car brand."
   ]
  },
  {
   "cell_type": "code",
   "execution_count": 53,
   "metadata": {},
   "outputs": [],
   "source": [
    "df1 = df.copy()\n",
    "df2 = df.copy()"
   ]
  },
  {
   "cell_type": "code",
   "execution_count": 129,
   "metadata": {},
   "outputs": [],
   "source": [
    "# Creating a function for mean imputation.\n",
    "def impute_nan(df,column):\n",
    "    req_carbrands = df[\"car_brand\"].unique()\n",
    "\n",
    "    averages = {}\n",
    "    for car_brand in req_carbrands:\n",
    "        avg = df[df[\"car_brand\"] == car_brand][column].mean()\n",
    "        averages[car_brand] = avg\n",
    "\n",
    "    dataframe = pd.DataFrame()\n",
    "    for car_brand, average in averages.items():\n",
    "        df_car_brand = df[df[\"car_brand\"] == car_brand].copy()\n",
    "        df_car_brand[column] = df_car_brand[column].fillna(average)\n",
    "        dataframe = dataframe.append(df_car_brand)\n",
    "\n",
    "    df = dataframe.copy()\n",
    "    return df"
   ]
  },
  {
   "cell_type": "code",
   "execution_count": 131,
   "metadata": {},
   "outputs": [],
   "source": [
    "for column_name in [\"mileage(kmpl)\", \"engine(CC)\", \"max_power(BHP)\", \"torque(Nm)\", \"torque_lower(rpm)\", \"torque_upper(rpm)\", \"seats\"]:\n",
    "    df = impute_nan(df = df, column = column_name)"
   ]
  },
  {
   "cell_type": "code",
   "execution_count": 136,
   "metadata": {},
   "outputs": [
    {
     "data": {
      "text/plain": [
       "car_brand            0\n",
       "no_year              0\n",
       "selling_price        0\n",
       "km_driven            0\n",
       "fuel                 0\n",
       "seller_type          0\n",
       "transmission         0\n",
       "owner                0\n",
       "mileage(kmpl)        1\n",
       "engine(CC)           1\n",
       "max_power(BHP)       1\n",
       "torque(Nm)           1\n",
       "torque_lower(rpm)    1\n",
       "torque_upper(rpm)    1\n",
       "seats                1\n",
       "dtype: int64"
      ]
     },
     "execution_count": 136,
     "metadata": {},
     "output_type": "execute_result"
    }
   ],
   "source": [
    "df.isnull().sum()"
   ]
  },
  {
   "cell_type": "code",
   "execution_count": 138,
   "metadata": {},
   "outputs": [
    {
     "data": {
      "text/html": [
       "<div>\n",
       "<style scoped>\n",
       "    .dataframe tbody tr th:only-of-type {\n",
       "        vertical-align: middle;\n",
       "    }\n",
       "\n",
       "    .dataframe tbody tr th {\n",
       "        vertical-align: top;\n",
       "    }\n",
       "\n",
       "    .dataframe thead th {\n",
       "        text-align: right;\n",
       "    }\n",
       "</style>\n",
       "<table border=\"1\" class=\"dataframe\">\n",
       "  <thead>\n",
       "    <tr style=\"text-align: right;\">\n",
       "      <th></th>\n",
       "      <th>car_brand</th>\n",
       "      <th>no_year</th>\n",
       "      <th>selling_price</th>\n",
       "      <th>km_driven</th>\n",
       "      <th>fuel</th>\n",
       "      <th>seller_type</th>\n",
       "      <th>transmission</th>\n",
       "      <th>owner</th>\n",
       "      <th>mileage(kmpl)</th>\n",
       "      <th>engine(CC)</th>\n",
       "      <th>max_power(BHP)</th>\n",
       "      <th>torque(Nm)</th>\n",
       "      <th>torque_lower(rpm)</th>\n",
       "      <th>torque_upper(rpm)</th>\n",
       "      <th>seats</th>\n",
       "    </tr>\n",
       "  </thead>\n",
       "  <tbody>\n",
       "    <tr>\n",
       "      <th>6730</th>\n",
       "      <td>Peugeot</td>\n",
       "      <td>24</td>\n",
       "      <td>57000</td>\n",
       "      <td>110000</td>\n",
       "      <td>Diesel</td>\n",
       "      <td>Individual</td>\n",
       "      <td>Manual</td>\n",
       "      <td>Third Owner</td>\n",
       "      <td>NaN</td>\n",
       "      <td>NaN</td>\n",
       "      <td>NaN</td>\n",
       "      <td>NaN</td>\n",
       "      <td>NaN</td>\n",
       "      <td>NaN</td>\n",
       "      <td>NaN</td>\n",
       "    </tr>\n",
       "  </tbody>\n",
       "</table>\n",
       "</div>"
      ],
      "text/plain": [
       "     car_brand  no_year  selling_price  km_driven    fuel seller_type  \\\n",
       "6730   Peugeot       24          57000     110000  Diesel  Individual   \n",
       "\n",
       "     transmission        owner  mileage(kmpl)  engine(CC)  max_power(BHP)  \\\n",
       "6730       Manual  Third Owner            NaN         NaN             NaN   \n",
       "\n",
       "      torque(Nm)  torque_lower(rpm)  torque_upper(rpm)  seats  \n",
       "6730         NaN                NaN                NaN    NaN  "
      ]
     },
     "execution_count": 138,
     "metadata": {},
     "output_type": "execute_result"
    }
   ],
   "source": [
    "# Still there is one row with nan values, lets view it\n",
    "df[df[\"mileage(kmpl)\"].isnull()]"
   ]
  },
  {
   "cell_type": "code",
   "execution_count": 139,
   "metadata": {},
   "outputs": [
    {
     "data": {
      "text/plain": [
       "car_brand            0\n",
       "no_year              0\n",
       "selling_price        0\n",
       "km_driven            0\n",
       "fuel                 0\n",
       "seller_type          0\n",
       "transmission         0\n",
       "owner                0\n",
       "mileage(kmpl)        0\n",
       "engine(CC)           0\n",
       "max_power(BHP)       0\n",
       "torque(Nm)           0\n",
       "torque_lower(rpm)    0\n",
       "torque_upper(rpm)    0\n",
       "seats                0\n",
       "dtype: int64"
      ]
     },
     "execution_count": 139,
     "metadata": {},
     "output_type": "execute_result"
    }
   ],
   "source": [
    "# Dropping the above row.\n",
    "df = df.drop(index = 6730)\n",
    "df.isnull().sum()"
   ]
  },
  {
   "cell_type": "markdown",
   "metadata": {},
   "source": [
    "Now, there are no nan values."
   ]
  },
  {
   "cell_type": "code",
   "execution_count": 140,
   "metadata": {},
   "outputs": [
    {
     "data": {
      "text/html": [
       "<div>\n",
       "<style scoped>\n",
       "    .dataframe tbody tr th:only-of-type {\n",
       "        vertical-align: middle;\n",
       "    }\n",
       "\n",
       "    .dataframe tbody tr th {\n",
       "        vertical-align: top;\n",
       "    }\n",
       "\n",
       "    .dataframe thead th {\n",
       "        text-align: right;\n",
       "    }\n",
       "</style>\n",
       "<table border=\"1\" class=\"dataframe\">\n",
       "  <thead>\n",
       "    <tr style=\"text-align: right;\">\n",
       "      <th></th>\n",
       "      <th>car_brand</th>\n",
       "      <th>no_year</th>\n",
       "      <th>selling_price</th>\n",
       "      <th>km_driven</th>\n",
       "      <th>fuel</th>\n",
       "      <th>seller_type</th>\n",
       "      <th>transmission</th>\n",
       "      <th>owner</th>\n",
       "      <th>mileage(kmpl)</th>\n",
       "      <th>engine(CC)</th>\n",
       "      <th>max_power(BHP)</th>\n",
       "      <th>torque(Nm)</th>\n",
       "      <th>torque_lower(rpm)</th>\n",
       "      <th>torque_upper(rpm)</th>\n",
       "      <th>seats</th>\n",
       "    </tr>\n",
       "  </thead>\n",
       "  <tbody>\n",
       "    <tr>\n",
       "      <th>296</th>\n",
       "      <td>Maruti</td>\n",
       "      <td>9</td>\n",
       "      <td>330000</td>\n",
       "      <td>50000</td>\n",
       "      <td>Petrol</td>\n",
       "      <td>Individual</td>\n",
       "      <td>Manual</td>\n",
       "      <td>Second Owner</td>\n",
       "      <td>18.60</td>\n",
       "      <td>1197.0</td>\n",
       "      <td>85.80</td>\n",
       "      <td>114.0</td>\n",
       "      <td>4000.0</td>\n",
       "      <td>4000.0</td>\n",
       "      <td>5.0</td>\n",
       "    </tr>\n",
       "    <tr>\n",
       "      <th>415</th>\n",
       "      <td>Maruti</td>\n",
       "      <td>8</td>\n",
       "      <td>225000</td>\n",
       "      <td>58343</td>\n",
       "      <td>Petrol</td>\n",
       "      <td>Trustmark Dealer</td>\n",
       "      <td>Manual</td>\n",
       "      <td>First Owner</td>\n",
       "      <td>21.79</td>\n",
       "      <td>998.0</td>\n",
       "      <td>67.05</td>\n",
       "      <td>90.0</td>\n",
       "      <td>3500.0</td>\n",
       "      <td>3500.0</td>\n",
       "      <td>5.0</td>\n",
       "    </tr>\n",
       "    <tr>\n",
       "      <th>416</th>\n",
       "      <td>Maruti</td>\n",
       "      <td>3</td>\n",
       "      <td>740000</td>\n",
       "      <td>38817</td>\n",
       "      <td>Diesel</td>\n",
       "      <td>Dealer</td>\n",
       "      <td>Manual</td>\n",
       "      <td>First Owner</td>\n",
       "      <td>27.39</td>\n",
       "      <td>1248.0</td>\n",
       "      <td>74.00</td>\n",
       "      <td>190.0</td>\n",
       "      <td>2000.0</td>\n",
       "      <td>2000.0</td>\n",
       "      <td>5.0</td>\n",
       "    </tr>\n",
       "    <tr>\n",
       "      <th>419</th>\n",
       "      <td>Maruti</td>\n",
       "      <td>2</td>\n",
       "      <td>650000</td>\n",
       "      <td>5621</td>\n",
       "      <td>Petrol</td>\n",
       "      <td>Trustmark Dealer</td>\n",
       "      <td>Automatic</td>\n",
       "      <td>First Owner</td>\n",
       "      <td>22.00</td>\n",
       "      <td>1197.0</td>\n",
       "      <td>81.80</td>\n",
       "      <td>113.0</td>\n",
       "      <td>4200.0</td>\n",
       "      <td>4200.0</td>\n",
       "      <td>5.0</td>\n",
       "    </tr>\n",
       "    <tr>\n",
       "      <th>421</th>\n",
       "      <td>Maruti</td>\n",
       "      <td>3</td>\n",
       "      <td>600000</td>\n",
       "      <td>69779</td>\n",
       "      <td>Petrol</td>\n",
       "      <td>Dealer</td>\n",
       "      <td>Automatic</td>\n",
       "      <td>First Owner</td>\n",
       "      <td>22.00</td>\n",
       "      <td>1197.0</td>\n",
       "      <td>81.80</td>\n",
       "      <td>113.0</td>\n",
       "      <td>4200.0</td>\n",
       "      <td>4200.0</td>\n",
       "      <td>5.0</td>\n",
       "    </tr>\n",
       "    <tr>\n",
       "      <th>...</th>\n",
       "      <td>...</td>\n",
       "      <td>...</td>\n",
       "      <td>...</td>\n",
       "      <td>...</td>\n",
       "      <td>...</td>\n",
       "      <td>...</td>\n",
       "      <td>...</td>\n",
       "      <td>...</td>\n",
       "      <td>...</td>\n",
       "      <td>...</td>\n",
       "      <td>...</td>\n",
       "      <td>...</td>\n",
       "      <td>...</td>\n",
       "      <td>...</td>\n",
       "      <td>...</td>\n",
       "    </tr>\n",
       "    <tr>\n",
       "      <th>7876</th>\n",
       "      <td>Volvo</td>\n",
       "      <td>3</td>\n",
       "      <td>2475000</td>\n",
       "      <td>2000</td>\n",
       "      <td>Diesel</td>\n",
       "      <td>Dealer</td>\n",
       "      <td>Automatic</td>\n",
       "      <td>First Owner</td>\n",
       "      <td>16.80</td>\n",
       "      <td>1984.0</td>\n",
       "      <td>150.00</td>\n",
       "      <td>350.0</td>\n",
       "      <td>1500.0</td>\n",
       "      <td>2750.0</td>\n",
       "      <td>5.0</td>\n",
       "    </tr>\n",
       "    <tr>\n",
       "      <th>4097</th>\n",
       "      <td>Kia</td>\n",
       "      <td>1</td>\n",
       "      <td>1900000</td>\n",
       "      <td>5000</td>\n",
       "      <td>Diesel</td>\n",
       "      <td>Dealer</td>\n",
       "      <td>Automatic</td>\n",
       "      <td>First Owner</td>\n",
       "      <td>17.80</td>\n",
       "      <td>1493.0</td>\n",
       "      <td>113.40</td>\n",
       "      <td>250.0</td>\n",
       "      <td>1500.0</td>\n",
       "      <td>2750.0</td>\n",
       "      <td>5.0</td>\n",
       "    </tr>\n",
       "    <tr>\n",
       "      <th>3687</th>\n",
       "      <td>Force</td>\n",
       "      <td>3</td>\n",
       "      <td>1050000</td>\n",
       "      <td>13000</td>\n",
       "      <td>Diesel</td>\n",
       "      <td>Individual</td>\n",
       "      <td>Manual</td>\n",
       "      <td>First Owner</td>\n",
       "      <td>17.00</td>\n",
       "      <td>2200.0</td>\n",
       "      <td>139.01</td>\n",
       "      <td>321.0</td>\n",
       "      <td>1600.0</td>\n",
       "      <td>2400.0</td>\n",
       "      <td>7.0</td>\n",
       "    </tr>\n",
       "    <tr>\n",
       "      <th>7341</th>\n",
       "      <td>Force</td>\n",
       "      <td>3</td>\n",
       "      <td>910000</td>\n",
       "      <td>20000</td>\n",
       "      <td>Diesel</td>\n",
       "      <td>Dealer</td>\n",
       "      <td>Manual</td>\n",
       "      <td>First Owner</td>\n",
       "      <td>17.00</td>\n",
       "      <td>2596.0</td>\n",
       "      <td>80.80</td>\n",
       "      <td>230.0</td>\n",
       "      <td>1800.0</td>\n",
       "      <td>2000.0</td>\n",
       "      <td>5.0</td>\n",
       "    </tr>\n",
       "    <tr>\n",
       "      <th>4395</th>\n",
       "      <td>Isuzu</td>\n",
       "      <td>2</td>\n",
       "      <td>2700000</td>\n",
       "      <td>10000</td>\n",
       "      <td>Diesel</td>\n",
       "      <td>Individual</td>\n",
       "      <td>Automatic</td>\n",
       "      <td>First Owner</td>\n",
       "      <td>13.80</td>\n",
       "      <td>2999.0</td>\n",
       "      <td>174.57</td>\n",
       "      <td>380.0</td>\n",
       "      <td>1800.0</td>\n",
       "      <td>2800.0</td>\n",
       "      <td>7.0</td>\n",
       "    </tr>\n",
       "  </tbody>\n",
       "</table>\n",
       "<p>1221 rows × 15 columns</p>\n",
       "</div>"
      ],
      "text/plain": [
       "     car_brand  no_year  selling_price  km_driven    fuel       seller_type  \\\n",
       "296     Maruti        9         330000      50000  Petrol        Individual   \n",
       "415     Maruti        8         225000      58343  Petrol  Trustmark Dealer   \n",
       "416     Maruti        3         740000      38817  Diesel            Dealer   \n",
       "419     Maruti        2         650000       5621  Petrol  Trustmark Dealer   \n",
       "421     Maruti        3         600000      69779  Petrol            Dealer   \n",
       "...        ...      ...            ...        ...     ...               ...   \n",
       "7876     Volvo        3        2475000       2000  Diesel            Dealer   \n",
       "4097       Kia        1        1900000       5000  Diesel            Dealer   \n",
       "3687     Force        3        1050000      13000  Diesel        Individual   \n",
       "7341     Force        3         910000      20000  Diesel            Dealer   \n",
       "4395     Isuzu        2        2700000      10000  Diesel        Individual   \n",
       "\n",
       "     transmission         owner  mileage(kmpl)  engine(CC)  max_power(BHP)  \\\n",
       "296        Manual  Second Owner          18.60      1197.0           85.80   \n",
       "415        Manual   First Owner          21.79       998.0           67.05   \n",
       "416        Manual   First Owner          27.39      1248.0           74.00   \n",
       "419     Automatic   First Owner          22.00      1197.0           81.80   \n",
       "421     Automatic   First Owner          22.00      1197.0           81.80   \n",
       "...           ...           ...            ...         ...             ...   \n",
       "7876    Automatic   First Owner          16.80      1984.0          150.00   \n",
       "4097    Automatic   First Owner          17.80      1493.0          113.40   \n",
       "3687       Manual   First Owner          17.00      2200.0          139.01   \n",
       "7341       Manual   First Owner          17.00      2596.0           80.80   \n",
       "4395    Automatic   First Owner          13.80      2999.0          174.57   \n",
       "\n",
       "      torque(Nm)  torque_lower(rpm)  torque_upper(rpm)  seats  \n",
       "296        114.0             4000.0             4000.0    5.0  \n",
       "415         90.0             3500.0             3500.0    5.0  \n",
       "416        190.0             2000.0             2000.0    5.0  \n",
       "419        113.0             4200.0             4200.0    5.0  \n",
       "421        113.0             4200.0             4200.0    5.0  \n",
       "...          ...                ...                ...    ...  \n",
       "7876       350.0             1500.0             2750.0    5.0  \n",
       "4097       250.0             1500.0             2750.0    5.0  \n",
       "3687       321.0             1600.0             2400.0    7.0  \n",
       "7341       230.0             1800.0             2000.0    5.0  \n",
       "4395       380.0             1800.0             2800.0    7.0  \n",
       "\n",
       "[1221 rows x 15 columns]"
      ]
     },
     "execution_count": 140,
     "metadata": {},
     "output_type": "execute_result"
    }
   ],
   "source": [
    "# Checking for duplicate rows.\n",
    "df[df.duplicated()]"
   ]
  },
  {
   "cell_type": "code",
   "execution_count": 141,
   "metadata": {},
   "outputs": [
    {
     "data": {
      "text/plain": [
       "Maruti           2448\n",
       "Hyundai          1415\n",
       "Mahindra          772\n",
       "Tata              734\n",
       "Toyota            488\n",
       "Honda             467\n",
       "Ford              397\n",
       "Chevrolet         230\n",
       "Renault           228\n",
       "Volkswagen        186\n",
       "BMW               120\n",
       "Skoda             105\n",
       "Nissan             81\n",
       "Jaguar             71\n",
       "Volvo              67\n",
       "Datsun             65\n",
       "Mercedes-Benz      54\n",
       "Fiat               47\n",
       "Audi               40\n",
       "Lexus              34\n",
       "Jeep               31\n",
       "Mitsubishi         14\n",
       "Land                6\n",
       "Force               6\n",
       "Isuzu               5\n",
       "Kia                 4\n",
       "Ambassador          4\n",
       "Daewoo              3\n",
       "MG                  3\n",
       "Opel                1\n",
       "Ashok               1\n",
       "Name: car_brand, dtype: int64"
      ]
     },
     "execution_count": 141,
     "metadata": {},
     "output_type": "execute_result"
    }
   ],
   "source": [
    "df[\"car_brand\"].value_counts()"
   ]
  },
  {
   "cell_type": "code",
   "execution_count": 142,
   "metadata": {},
   "outputs": [
    {
     "data": {
      "text/plain": [
       "(6906, 15)"
      ]
     },
     "execution_count": 142,
     "metadata": {},
     "output_type": "execute_result"
    }
   ],
   "source": [
    "# Dropping Duplicate rows\n",
    "df = df.drop_duplicates()\n",
    "df.shape"
   ]
  },
  {
   "cell_type": "code",
   "execution_count": 143,
   "metadata": {},
   "outputs": [],
   "source": [
    "# saving preprocessed file to csv\n",
    "df.to_csv(\"preprocessed_data.csv\", index = False)"
   ]
  },
  {
   "cell_type": "markdown",
   "metadata": {},
   "source": [
    "# Analysis"
   ]
  },
  {
   "cell_type": "code",
   "execution_count": 144,
   "metadata": {},
   "outputs": [
    {
     "data": {
      "text/html": [
       "<div>\n",
       "<style scoped>\n",
       "    .dataframe tbody tr th:only-of-type {\n",
       "        vertical-align: middle;\n",
       "    }\n",
       "\n",
       "    .dataframe tbody tr th {\n",
       "        vertical-align: top;\n",
       "    }\n",
       "\n",
       "    .dataframe thead th {\n",
       "        text-align: right;\n",
       "    }\n",
       "</style>\n",
       "<table border=\"1\" class=\"dataframe\">\n",
       "  <thead>\n",
       "    <tr style=\"text-align: right;\">\n",
       "      <th></th>\n",
       "      <th>car_brand</th>\n",
       "      <th>no_year</th>\n",
       "      <th>selling_price</th>\n",
       "      <th>km_driven</th>\n",
       "      <th>fuel</th>\n",
       "      <th>seller_type</th>\n",
       "      <th>transmission</th>\n",
       "      <th>owner</th>\n",
       "      <th>mileage(kmpl)</th>\n",
       "      <th>engine(CC)</th>\n",
       "      <th>max_power(BHP)</th>\n",
       "      <th>torque(Nm)</th>\n",
       "      <th>torque_lower(rpm)</th>\n",
       "      <th>torque_upper(rpm)</th>\n",
       "      <th>seats</th>\n",
       "    </tr>\n",
       "  </thead>\n",
       "  <tbody>\n",
       "    <tr>\n",
       "      <th>0</th>\n",
       "      <td>Maruti</td>\n",
       "      <td>7</td>\n",
       "      <td>450000</td>\n",
       "      <td>145500</td>\n",
       "      <td>Diesel</td>\n",
       "      <td>Individual</td>\n",
       "      <td>Manual</td>\n",
       "      <td>First Owner</td>\n",
       "      <td>23.4</td>\n",
       "      <td>1248.0</td>\n",
       "      <td>74.0</td>\n",
       "      <td>190.00</td>\n",
       "      <td>2000.0</td>\n",
       "      <td>2000.0</td>\n",
       "      <td>5.0</td>\n",
       "    </tr>\n",
       "    <tr>\n",
       "      <th>4</th>\n",
       "      <td>Maruti</td>\n",
       "      <td>14</td>\n",
       "      <td>130000</td>\n",
       "      <td>120000</td>\n",
       "      <td>Petrol</td>\n",
       "      <td>Individual</td>\n",
       "      <td>Manual</td>\n",
       "      <td>First Owner</td>\n",
       "      <td>16.1</td>\n",
       "      <td>1298.0</td>\n",
       "      <td>88.2</td>\n",
       "      <td>112.70</td>\n",
       "      <td>4500.0</td>\n",
       "      <td>4500.0</td>\n",
       "      <td>5.0</td>\n",
       "    </tr>\n",
       "    <tr>\n",
       "      <th>6</th>\n",
       "      <td>Maruti</td>\n",
       "      <td>14</td>\n",
       "      <td>96000</td>\n",
       "      <td>175000</td>\n",
       "      <td>LPG</td>\n",
       "      <td>Individual</td>\n",
       "      <td>Manual</td>\n",
       "      <td>First Owner</td>\n",
       "      <td>17.3</td>\n",
       "      <td>1061.0</td>\n",
       "      <td>57.5</td>\n",
       "      <td>76.44</td>\n",
       "      <td>4500.0</td>\n",
       "      <td>4500.0</td>\n",
       "      <td>5.0</td>\n",
       "    </tr>\n",
       "    <tr>\n",
       "      <th>7</th>\n",
       "      <td>Maruti</td>\n",
       "      <td>20</td>\n",
       "      <td>45000</td>\n",
       "      <td>5000</td>\n",
       "      <td>Petrol</td>\n",
       "      <td>Individual</td>\n",
       "      <td>Manual</td>\n",
       "      <td>Second Owner</td>\n",
       "      <td>16.1</td>\n",
       "      <td>796.0</td>\n",
       "      <td>37.0</td>\n",
       "      <td>59.00</td>\n",
       "      <td>2500.0</td>\n",
       "      <td>2500.0</td>\n",
       "      <td>4.0</td>\n",
       "    </tr>\n",
       "    <tr>\n",
       "      <th>11</th>\n",
       "      <td>Maruti</td>\n",
       "      <td>16</td>\n",
       "      <td>92000</td>\n",
       "      <td>100000</td>\n",
       "      <td>Petrol</td>\n",
       "      <td>Individual</td>\n",
       "      <td>Manual</td>\n",
       "      <td>Second Owner</td>\n",
       "      <td>17.3</td>\n",
       "      <td>993.0</td>\n",
       "      <td>60.0</td>\n",
       "      <td>78.00</td>\n",
       "      <td>4500.0</td>\n",
       "      <td>4500.0</td>\n",
       "      <td>5.0</td>\n",
       "    </tr>\n",
       "  </tbody>\n",
       "</table>\n",
       "</div>"
      ],
      "text/plain": [
       "   car_brand  no_year  selling_price  km_driven    fuel seller_type  \\\n",
       "0     Maruti        7         450000     145500  Diesel  Individual   \n",
       "4     Maruti       14         130000     120000  Petrol  Individual   \n",
       "6     Maruti       14          96000     175000     LPG  Individual   \n",
       "7     Maruti       20          45000       5000  Petrol  Individual   \n",
       "11    Maruti       16          92000     100000  Petrol  Individual   \n",
       "\n",
       "   transmission         owner  mileage(kmpl)  engine(CC)  max_power(BHP)  \\\n",
       "0        Manual   First Owner           23.4      1248.0            74.0   \n",
       "4        Manual   First Owner           16.1      1298.0            88.2   \n",
       "6        Manual   First Owner           17.3      1061.0            57.5   \n",
       "7        Manual  Second Owner           16.1       796.0            37.0   \n",
       "11       Manual  Second Owner           17.3       993.0            60.0   \n",
       "\n",
       "    torque(Nm)  torque_lower(rpm)  torque_upper(rpm)  seats  \n",
       "0       190.00             2000.0             2000.0    5.0  \n",
       "4       112.70             4500.0             4500.0    5.0  \n",
       "6        76.44             4500.0             4500.0    5.0  \n",
       "7        59.00             2500.0             2500.0    4.0  \n",
       "11       78.00             4500.0             4500.0    5.0  "
      ]
     },
     "execution_count": 144,
     "metadata": {},
     "output_type": "execute_result"
    }
   ],
   "source": [
    "df.head()"
   ]
  },
  {
   "cell_type": "code",
   "execution_count": 145,
   "metadata": {},
   "outputs": [
    {
     "data": {
      "text/plain": [
       "(6906, 15)"
      ]
     },
     "execution_count": 145,
     "metadata": {},
     "output_type": "execute_result"
    }
   ],
   "source": [
    "df.shape"
   ]
  },
  {
   "cell_type": "code",
   "execution_count": 149,
   "metadata": {},
   "outputs": [
    {
     "data": {
      "image/png": "[encoded data removed]",
      "text/plain": [
       "<Figure size 1152x576 with 1 Axes>"
      ]
     },
     "metadata": {
      "needs_background": "light"
     },
     "output_type": "display_data"
    }
   ],
   "source": [
    "# Relation between car_brand and average price.\n",
    "plt.figure(figsize=(16,8))\n",
    "df.groupby(\"car_brand\").mean()[\"selling_price\"].plot(kind = \"bar\")\n",
    "plt.show()"
   ]
  },
  {
   "cell_type": "markdown",
   "metadata": {},
   "source": [
    "Lexus has highest average selling price"
   ]
  },
  {
   "cell_type": "code",
   "execution_count": 151,
   "metadata": {},
   "outputs": [
    {
     "data": {
      "image/png": "[encoded data removed]",
      "text/plain": [
       "<Figure size 1152x576 with 1 Axes>"
      ]
     },
     "metadata": {
      "needs_background": "light"
     },
     "output_type": "display_data"
    }
   ],
   "source": [
    "# Relation between no_years and average selling price.\n",
    "plt.figure(figsize=(16,8))\n",
    "df.groupby(\"no_year\").mean()[\"selling_price\"].plot(kind = \"bar\")\n",
    "plt.show()"
   ]
  },
  {
   "cell_type": "markdown",
   "metadata": {},
   "source": [
    "As number of years decreases average car selling price decreases."
   ]
  },
  {
   "cell_type": "code",
   "execution_count": 153,
   "metadata": {},
   "outputs": [
    {
     "data": {
      "image/png": "[encoded data removed]",
      "text/plain": [
       "<Figure size 432x288 with 1 Axes>"
      ]
     },
     "metadata": {
      "needs_background": "light"
     },
     "output_type": "display_data"
    }
   ],
   "source": [
    "# Relation between km_driven and average selling price.\n",
    "plt.scatter(df[\"km_driven\"], df[\"selling_price\"])\n",
    "plt.show()"
   ]
  },
  {
   "cell_type": "code",
   "execution_count": 156,
   "metadata": {},
   "outputs": [
    {
     "data": {
      "image/png": "[encoded data removed]",
      "text/plain": [
       "<Figure size 432x288 with 1 Axes>"
      ]
     },
     "metadata": {
      "needs_background": "light"
     },
     "output_type": "display_data"
    }
   ],
   "source": [
    "# Relation between fuel and average selling price.\n",
    "df.groupby(\"fuel\").mean()[\"selling_price\"].plot(kind = \"bar\")\n",
    "plt.show()"
   ]
  },
  {
   "cell_type": "code",
   "execution_count": 165,
   "metadata": {},
   "outputs": [
    {
     "data": {
      "image/png": "[encoded data removed]",
      "text/plain": [
       "<Figure size 432x288 with 1 Axes>"
      ]
     },
     "metadata": {
      "needs_background": "light"
     },
     "output_type": "display_data"
    }
   ],
   "source": [
    "# Relation between seller_type and average selling price.\n",
    "df.groupby(\"transmission\").mean()[\"selling_price\"].plot(kind = \"bar\")\n",
    "plt.show()"
   ]
  },
  {
   "cell_type": "code",
   "execution_count": 166,
   "metadata": {},
   "outputs": [
    {
     "data": {
      "image/png": "[encoded data removed]",
      "text/plain": [
       "<Figure size 432x288 with 1 Axes>"
      ]
     },
     "metadata": {
      "needs_background": "light"
     },
     "output_type": "display_data"
    }
   ],
   "source": [
    "# Relation between owner and average selling price.\n",
    "df.groupby(\"owner\").mean()[\"selling_price\"].plot(kind = \"bar\")\n",
    "plt.show()"
   ]
  },
  {
   "cell_type": "code",
   "execution_count": 159,
   "metadata": {},
   "outputs": [
    {
     "data": {
      "image/png": "[encoded data removed]",
      "text/plain": [
       "<Figure size 432x288 with 1 Axes>"
      ]
     },
     "metadata": {
      "needs_background": "light"
     },
     "output_type": "display_data"
    }
   ],
   "source": [
    "# Relation between seller_tye and average selling price.\n",
    "df.groupby(\"seller_type\").mean()[\"selling_price\"].plot(kind = \"bar\")\n",
    "plt.show()"
   ]
  },
  {
   "cell_type": "code",
   "execution_count": 162,
   "metadata": {},
   "outputs": [
    {
     "data": {
      "image/png": "[encoded data removed]",
      "text/plain": [
       "<Figure size 432x288 with 1 Axes>"
      ]
     },
     "metadata": {
      "needs_background": "light"
     },
     "output_type": "display_data"
    }
   ],
   "source": [
    "# Relation between mileage and average selling price.\n",
    "df.plot(kind = \"scatter\", x = \"mileage(kmpl)\", y = \"selling_price\")\n",
    "plt.show()"
   ]
  },
  {
   "cell_type": "code",
   "execution_count": 163,
   "metadata": {},
   "outputs": [
    {
     "data": {
      "image/png": "[encoded data removed]",
      "text/plain": [
       "<Figure size 432x288 with 1 Axes>"
      ]
     },
     "metadata": {
      "needs_background": "light"
     },
     "output_type": "display_data"
    }
   ],
   "source": [
    "# Relation between engine(CC) and average selling price.\n",
    "df.plot(kind = \"scatter\", x = \"engine(CC)\", y = \"selling_price\")\n",
    "plt.show()"
   ]
  },
  {
   "cell_type": "code",
   "execution_count": 164,
   "metadata": {},
   "outputs": [
    {
     "data": {
      "image/png": "[encoded data removed]",
      "text/plain": [
       "<Figure size 432x288 with 1 Axes>"
      ]
     },
     "metadata": {
      "needs_background": "light"
     },
     "output_type": "display_data"
    }
   ],
   "source": [
    "# Relation between max_power(BHP) and average selling price.\n",
    "df.plot(kind = \"scatter\", x = \"max_power(BHP)\", y = \"selling_price\")\n",
    "plt.show()"
   ]
  },
  {
   "cell_type": "markdown",
   "metadata": {},
   "source": [
    "## One Hot Encoding"
   ]
  },
  {
   "cell_type": "code",
   "execution_count": 176,
   "metadata": {},
   "outputs": [
    {
     "data": {
      "text/html": [
       "<div>\n",
       "<style scoped>\n",
       "    .dataframe tbody tr th:only-of-type {\n",
       "        vertical-align: middle;\n",
       "    }\n",
       "\n",
       "    .dataframe tbody tr th {\n",
       "        vertical-align: top;\n",
       "    }\n",
       "\n",
       "    .dataframe thead th {\n",
       "        text-align: right;\n",
       "    }\n",
       "</style>\n",
       "<table border=\"1\" class=\"dataframe\">\n",
       "  <thead>\n",
       "    <tr style=\"text-align: right;\">\n",
       "      <th></th>\n",
       "      <th>no_year</th>\n",
       "      <th>selling_price</th>\n",
       "      <th>km_driven</th>\n",
       "      <th>mileage(kmpl)</th>\n",
       "      <th>engine(CC)</th>\n",
       "      <th>max_power(BHP)</th>\n",
       "      <th>torque(Nm)</th>\n",
       "      <th>torque_lower(rpm)</th>\n",
       "      <th>torque_upper(rpm)</th>\n",
       "      <th>seats</th>\n",
       "      <th>...</th>\n",
       "      <th>fuel_Diesel</th>\n",
       "      <th>fuel_LPG</th>\n",
       "      <th>fuel_Petrol</th>\n",
       "      <th>seller_type_Individual</th>\n",
       "      <th>seller_type_Trustmark Dealer</th>\n",
       "      <th>transmission_Manual</th>\n",
       "      <th>owner_Fourth &amp; Above Owner</th>\n",
       "      <th>owner_Second Owner</th>\n",
       "      <th>owner_Test Drive Car</th>\n",
       "      <th>owner_Third Owner</th>\n",
       "    </tr>\n",
       "  </thead>\n",
       "  <tbody>\n",
       "    <tr>\n",
       "      <th>0</th>\n",
       "      <td>7</td>\n",
       "      <td>450000</td>\n",
       "      <td>145500</td>\n",
       "      <td>23.4</td>\n",
       "      <td>1248.0</td>\n",
       "      <td>74.0</td>\n",
       "      <td>190.00</td>\n",
       "      <td>2000.0</td>\n",
       "      <td>2000.0</td>\n",
       "      <td>5.0</td>\n",
       "      <td>...</td>\n",
       "      <td>1</td>\n",
       "      <td>0</td>\n",
       "      <td>0</td>\n",
       "      <td>1</td>\n",
       "      <td>0</td>\n",
       "      <td>1</td>\n",
       "      <td>0</td>\n",
       "      <td>0</td>\n",
       "      <td>0</td>\n",
       "      <td>0</td>\n",
       "    </tr>\n",
       "    <tr>\n",
       "      <th>4</th>\n",
       "      <td>14</td>\n",
       "      <td>130000</td>\n",
       "      <td>120000</td>\n",
       "      <td>16.1</td>\n",
       "      <td>1298.0</td>\n",
       "      <td>88.2</td>\n",
       "      <td>112.70</td>\n",
       "      <td>4500.0</td>\n",
       "      <td>4500.0</td>\n",
       "      <td>5.0</td>\n",
       "      <td>...</td>\n",
       "      <td>0</td>\n",
       "      <td>0</td>\n",
       "      <td>1</td>\n",
       "      <td>1</td>\n",
       "      <td>0</td>\n",
       "      <td>1</td>\n",
       "      <td>0</td>\n",
       "      <td>0</td>\n",
       "      <td>0</td>\n",
       "      <td>0</td>\n",
       "    </tr>\n",
       "    <tr>\n",
       "      <th>6</th>\n",
       "      <td>14</td>\n",
       "      <td>96000</td>\n",
       "      <td>175000</td>\n",
       "      <td>17.3</td>\n",
       "      <td>1061.0</td>\n",
       "      <td>57.5</td>\n",
       "      <td>76.44</td>\n",
       "      <td>4500.0</td>\n",
       "      <td>4500.0</td>\n",
       "      <td>5.0</td>\n",
       "      <td>...</td>\n",
       "      <td>0</td>\n",
       "      <td>1</td>\n",
       "      <td>0</td>\n",
       "      <td>1</td>\n",
       "      <td>0</td>\n",
       "      <td>1</td>\n",
       "      <td>0</td>\n",
       "      <td>0</td>\n",
       "      <td>0</td>\n",
       "      <td>0</td>\n",
       "    </tr>\n",
       "    <tr>\n",
       "      <th>7</th>\n",
       "      <td>20</td>\n",
       "      <td>45000</td>\n",
       "      <td>5000</td>\n",
       "      <td>16.1</td>\n",
       "      <td>796.0</td>\n",
       "      <td>37.0</td>\n",
       "      <td>59.00</td>\n",
       "      <td>2500.0</td>\n",
       "      <td>2500.0</td>\n",
       "      <td>4.0</td>\n",
       "      <td>...</td>\n",
       "      <td>0</td>\n",
       "      <td>0</td>\n",
       "      <td>1</td>\n",
       "      <td>1</td>\n",
       "      <td>0</td>\n",
       "      <td>1</td>\n",
       "      <td>0</td>\n",
       "      <td>1</td>\n",
       "      <td>0</td>\n",
       "      <td>0</td>\n",
       "    </tr>\n",
       "    <tr>\n",
       "      <th>11</th>\n",
       "      <td>16</td>\n",
       "      <td>92000</td>\n",
       "      <td>100000</td>\n",
       "      <td>17.3</td>\n",
       "      <td>993.0</td>\n",
       "      <td>60.0</td>\n",
       "      <td>78.00</td>\n",
       "      <td>4500.0</td>\n",
       "      <td>4500.0</td>\n",
       "      <td>5.0</td>\n",
       "      <td>...</td>\n",
       "      <td>0</td>\n",
       "      <td>0</td>\n",
       "      <td>1</td>\n",
       "      <td>1</td>\n",
       "      <td>0</td>\n",
       "      <td>1</td>\n",
       "      <td>0</td>\n",
       "      <td>1</td>\n",
       "      <td>0</td>\n",
       "      <td>0</td>\n",
       "    </tr>\n",
       "  </tbody>\n",
       "</table>\n",
       "<p>5 rows × 50 columns</p>\n",
       "</div>"
      ],
      "text/plain": [
       "    no_year  selling_price  km_driven  mileage(kmpl)  engine(CC)  \\\n",
       "0         7         450000     145500           23.4      1248.0   \n",
       "4        14         130000     120000           16.1      1298.0   \n",
       "6        14          96000     175000           17.3      1061.0   \n",
       "7        20          45000       5000           16.1       796.0   \n",
       "11       16          92000     100000           17.3       993.0   \n",
       "\n",
       "    max_power(BHP)  torque(Nm)  torque_lower(rpm)  torque_upper(rpm)  seats  \\\n",
       "0             74.0      190.00             2000.0             2000.0    5.0   \n",
       "4             88.2      112.70             4500.0             4500.0    5.0   \n",
       "6             57.5       76.44             4500.0             4500.0    5.0   \n",
       "7             37.0       59.00             2500.0             2500.0    4.0   \n",
       "11            60.0       78.00             4500.0             4500.0    5.0   \n",
       "\n",
       "    ...  fuel_Diesel  fuel_LPG  fuel_Petrol  seller_type_Individual  \\\n",
       "0   ...            1         0            0                       1   \n",
       "4   ...            0         0            1                       1   \n",
       "6   ...            0         1            0                       1   \n",
       "7   ...            0         0            1                       1   \n",
       "11  ...            0         0            1                       1   \n",
       "\n",
       "    seller_type_Trustmark Dealer  transmission_Manual  \\\n",
       "0                              0                    1   \n",
       "4                              0                    1   \n",
       "6                              0                    1   \n",
       "7                              0                    1   \n",
       "11                             0                    1   \n",
       "\n",
       "    owner_Fourth & Above Owner  owner_Second Owner  owner_Test Drive Car  \\\n",
       "0                            0                   0                     0   \n",
       "4                            0                   0                     0   \n",
       "6                            0                   0                     0   \n",
       "7                            0                   1                     0   \n",
       "11                           0                   1                     0   \n",
       "\n",
       "    owner_Third Owner  \n",
       "0                   0  \n",
       "4                   0  \n",
       "6                   0  \n",
       "7                   0  \n",
       "11                  0  \n",
       "\n",
       "[5 rows x 50 columns]"
      ]
     },
     "execution_count": 176,
     "metadata": {},
     "output_type": "execute_result"
    }
   ],
   "source": [
    "df = pd.get_dummies(df, drop_first = True)\n",
    "df.head()"
   ]
  },
  {
   "cell_type": "code",
   "execution_count": 177,
   "metadata": {},
   "outputs": [],
   "source": [
    "# X --> Independent variable, y --> Target variable\n",
    "X = df.drop(columns = [\"selling_price\"]).copy()\n",
    "y = df[\"selling_price\"].copy()"
   ]
  },
  {
   "cell_type": "code",
   "execution_count": 178,
   "metadata": {},
   "outputs": [],
   "source": [
    "# Train test split\n",
    "X_train, X_test, y_train, y_test = train_test_split(X, y, train_size = 0.80)"
   ]
  },
  {
   "cell_type": "code",
   "execution_count": 179,
   "metadata": {},
   "outputs": [
    {
     "data": {
      "text/plain": [
       "((5524, 49), (1382, 49))"
      ]
     },
     "execution_count": 179,
     "metadata": {},
     "output_type": "execute_result"
    }
   ],
   "source": [
    "X_train.shape, X_test.shape"
   ]
  },
  {
   "cell_type": "code",
   "execution_count": 181,
   "metadata": {},
   "outputs": [
    {
     "data": {
      "text/plain": [
       "((5524,), (1382,))"
      ]
     },
     "execution_count": 181,
     "metadata": {},
     "output_type": "execute_result"
    }
   ],
   "source": [
    "y_train.shape, y_test.shape"
   ]
  },
  {
   "cell_type": "markdown",
   "metadata": {},
   "source": [
    "## Model Building"
   ]
  },
  {
   "cell_type": "code",
   "execution_count": 185,
   "metadata": {},
   "outputs": [
    {
     "name": "stdout",
     "output_type": "stream",
     "text": [
      "MAE: 132832.9605707173\n",
      "MSE: 63704887388.25981\n",
      "RMSE: 252398.2713654351\n",
      "R2 Score: 0.7279901307460326\n"
     ]
    }
   ],
   "source": [
    "# Linear Regression\n",
    "from sklearn.linear_model import LinearRegression\n",
    "reg_model = LinearRegression()\n",
    "reg_model.fit(X_train,y_train)\n",
    "y_pred = reg_model.predict(X_test)\n",
    "from sklearn.metrics import mean_absolute_error, mean_squared_error, r2_score\n",
    "print(\"MAE:\" ,mean_absolute_error(y_test, y_pred))\n",
    "print(\"MSE:\" ,mean_squared_error(y_test, y_pred))\n",
    "print(\"RMSE:\", np.sqrt(mean_squared_error(y_test, y_pred)))\n",
    "print(\"R2 Score:\", r2_score(y_test, y_pred))"
   ]
  },
  {
   "cell_type": "code",
   "execution_count": 202,
   "metadata": {},
   "outputs": [
    {
     "data": {
      "image/png": "[encoded data removed]",
      "text/plain": [
       "<Figure size 432x288 with 1 Axes>"
      ]
     },
     "metadata": {
      "needs_background": "light"
     },
     "output_type": "display_data"
    }
   ],
   "source": [
    "sns.distplot(y_test-y_pred, bins = 100)\n",
    "plt.show()"
   ]
  },
  {
   "cell_type": "code",
   "execution_count": 197,
   "metadata": {},
   "outputs": [
    {
     "data": {
      "image/png": "[encoded data removed]",
      "text/plain": [
       "<Figure size 432x288 with 1 Axes>"
      ]
     },
     "metadata": {
      "needs_background": "light"
     },
     "output_type": "display_data"
    }
   ],
   "source": [
    "# Checking for Homoscedasticity\n",
    "plt.scatter(y_test, y_pred)\n",
    "plt.show()"
   ]
  },
  {
   "cell_type": "code",
   "execution_count": 207,
   "metadata": {},
   "outputs": [
    {
     "name": "stdout",
     "output_type": "stream",
     "text": [
      "MAE: 94539.6923540762\n",
      "MSE: 26777195272.877533\n",
      "RMSE: 163637.38959320248\n",
      "R2 Score: 0.8856655794590467\n"
     ]
    }
   ],
   "source": [
    "# Decision Tree\n",
    "from sklearn.tree import DecisionTreeRegressor\n",
    "dtr_model = DecisionTreeRegressor()\n",
    "dtr_model.fit(X_train, y_train)\n",
    "y_pred = dtr_model.predict(X_test)\n",
    "print(\"MAE:\" ,mean_absolute_error(y_test, y_pred))\n",
    "print(\"MSE:\" ,mean_squared_error(y_test, y_pred))\n",
    "print(\"RMSE:\", np.sqrt(mean_squared_error(y_test, y_pred)))\n",
    "print(\"R2 Score:\", r2_score(y_test, y_pred))"
   ]
  },
  {
   "cell_type": "code",
   "execution_count": 208,
   "metadata": {},
   "outputs": [
    {
     "data": {
      "image/png": "[encoded data removed]",
      "text/plain": [
       "<Figure size 432x288 with 1 Axes>"
      ]
     },
     "metadata": {
      "needs_background": "light"
     },
     "output_type": "display_data"
    }
   ],
   "source": [
    "sns.distplot(y_test-y_pred, bins = 100)\n",
    "plt.show()"
   ]
  },
  {
   "cell_type": "code",
   "execution_count": 209,
   "metadata": {},
   "outputs": [
    {
     "data": {
      "image/png": "[encoded data removed]",
      "text/plain": [
       "<Figure size 432x288 with 1 Axes>"
      ]
     },
     "metadata": {
      "needs_background": "light"
     },
     "output_type": "display_data"
    }
   ],
   "source": [
    "# Checking for Homoscedasticity\n",
    "plt.scatter(y_test, y_pred)\n",
    "plt.show()"
   ]
  },
  {
   "cell_type": "markdown",
   "metadata": {},
   "source": [
    "We can see decision tree is giving better performance compared to linear regression"
   ]
  },
  {
   "cell_type": "code",
   "execution_count": 210,
   "metadata": {},
   "outputs": [
    {
     "name": "stdout",
     "output_type": "stream",
     "text": [
      "MAE: 74210.30140401378\n",
      "MSE: 18847403914.2546\n",
      "RMSE: 137285.84746525987\n",
      "R2 Score: 0.9195245438038729\n"
     ]
    }
   ],
   "source": [
    "# Random Forest\n",
    "from sklearn.ensemble import RandomForestRegressor\n",
    "rfr_model = RandomForestRegressor()\n",
    "rfr_model.fit(X_train, y_train)\n",
    "y_pred = rfr_model.predict(X_test)\n",
    "print(\"MAE:\" ,mean_absolute_error(y_test, y_pred))\n",
    "print(\"MSE:\" ,mean_squared_error(y_test, y_pred))\n",
    "print(\"RMSE:\", np.sqrt(mean_squared_error(y_test, y_pred)))\n",
    "print(\"R2 Score:\", r2_score(y_test, y_pred))"
   ]
  },
  {
   "cell_type": "code",
   "execution_count": 211,
   "metadata": {},
   "outputs": [
    {
     "data": {
      "image/png": "[encoded data removed]",
      "text/plain": [
       "<Figure size 432x288 with 1 Axes>"
      ]
     },
     "metadata": {
      "needs_background": "light"
     },
     "output_type": "display_data"
    }
   ],
   "source": [
    "sns.distplot(y_test-y_pred, bins = 100)\n",
    "plt.show()"
   ]
  },
  {
   "cell_type": "code",
   "execution_count": 212,
   "metadata": {},
   "outputs": [
    {
     "data": {
      "image/png": "[encoded data removed]",
      "text/plain": [
       "<Figure size 432x288 with 1 Axes>"
      ]
     },
     "metadata": {
      "needs_background": "light"
     },
     "output_type": "display_data"
    }
   ],
   "source": [
    "# Checking for Homoscedasticity\n",
    "plt.scatter(y_test, y_pred)\n",
    "plt.show()"
   ]
  },
  {
   "cell_type": "markdown",
   "metadata": {},
   "source": [
    "Random Forest is giving better performance than Decision tree."
   ]
  },
  {
   "cell_type": "code",
   "execution_count": 215,
   "metadata": {},
   "outputs": [
    {
     "name": "stdout",
     "output_type": "stream",
     "text": [
      "MAE: 84359.19701400372\n",
      "MSE: 20993823545.432106\n",
      "RMSE: 144892.45510181718\n",
      "R2 Score: 0.910359668906875\n"
     ]
    }
   ],
   "source": [
    "# Gradient Boosting\n",
    "from sklearn.ensemble import GradientBoostingRegressor\n",
    "gbr_model = GradientBoostingRegressor()\n",
    "gbr_model.fit(X_train, y_train)\n",
    "y_pred = gbr_model.predict(X_test)\n",
    "print(\"MAE:\" ,mean_absolute_error(y_test, y_pred))\n",
    "print(\"MSE:\" ,mean_squared_error(y_test, y_pred))\n",
    "print(\"RMSE:\", np.sqrt(mean_squared_error(y_test, y_pred)))\n",
    "print(\"R2 Score:\", r2_score(y_test, y_pred))"
   ]
  },
  {
   "cell_type": "code",
   "execution_count": 216,
   "metadata": {},
   "outputs": [
    {
     "data": {
      "image/png": "[encoded data removed]",
      "text/plain": [
       "<Figure size 432x288 with 1 Axes>"
      ]
     },
     "metadata": {
      "needs_background": "light"
     },
     "output_type": "display_data"
    }
   ],
   "source": [
    "sns.distplot(y_test-y_pred, bins = 100)\n",
    "plt.show()"
   ]
  },
  {
   "cell_type": "code",
   "execution_count": 217,
   "metadata": {},
   "outputs": [
    {
     "data": {
      "image/png": "[encoded data removed]",
      "text/plain": [
       "<Figure size 432x288 with 1 Axes>"
      ]
     },
     "metadata": {
      "needs_background": "light"
     },
     "output_type": "display_data"
    }
   ],
   "source": [
    "# Checking for Homoscedasticity\n",
    "plt.scatter(y_test, y_pred)\n",
    "plt.show()"
   ]
  },
  {
   "cell_type": "code",
   "execution_count": 231,
   "metadata": {},
   "outputs": [
    {
     "name": "stdout",
     "output_type": "stream",
     "text": [
      "MAE: 71105.9119652225\n",
      "MSE: 16260033139.750729\n",
      "RMSE: 127514.83497911421\n",
      "R2 Score: 0.9305722108658202\n"
     ]
    }
   ],
   "source": [
    "# XGBoost\n",
    "from xgboost import XGBRegressor\n",
    "xgb_model = XGBRegressor()\n",
    "xgb_model.fit(X_train, y_train)\n",
    "y_pred = xgb_model.predict(X_test)\n",
    "print(\"MAE:\" ,mean_absolute_error(y_test, y_pred))\n",
    "print(\"MSE:\" ,mean_squared_error(y_test, y_pred))\n",
    "print(\"RMSE:\", np.sqrt(mean_squared_error(y_test, y_pred)))\n",
    "print(\"R2 Score:\", r2_score(y_test, y_pred))"
   ]
  },
  {
   "cell_type": "code",
   "execution_count": 221,
   "metadata": {},
   "outputs": [
    {
     "data": {
      "image/png": "[encoded data removed]",
      "text/plain": [
       "<Figure size 432x288 with 1 Axes>"
      ]
     },
     "metadata": {
      "needs_background": "light"
     },
     "output_type": "display_data"
    }
   ],
   "source": [
    "sns.distplot(y_test-y_pred, bins = 100)\n",
    "plt.show()"
   ]
  },
  {
   "cell_type": "code",
   "execution_count": 223,
   "metadata": {},
   "outputs": [
    {
     "data": {
      "image/png": "[encoded data removed]",
      "text/plain": [
       "<Figure size 432x288 with 1 Axes>"
      ]
     },
     "metadata": {
      "needs_background": "light"
     },
     "output_type": "display_data"
    }
   ],
   "source": [
    "# Checking for Homoscedasticity\n",
    "plt.scatter(y_test, y_pred)\n",
    "plt.show()"
   ]
  },
  {
   "cell_type": "markdown",
   "metadata": {},
   "source": [
    "Performance of XGBoost is better compared to rest of the models.\n",
    "<br>So, lets tune XGBoost model to get more performance if possible. "
   ]
  },
  {
   "cell_type": "markdown",
   "metadata": {},
   "source": [
    "### Tuning XGBoost model with cross validation"
   ]
  },
  {
   "cell_type": "code",
   "execution_count": 226,
   "metadata": {},
   "outputs": [],
   "source": [
    "from sklearn.model_selection import cross_val_score, KFold"
   ]
  },
  {
   "cell_type": "code",
   "execution_count": 230,
   "metadata": {},
   "outputs": [
    {
     "name": "stderr",
     "output_type": "stream",
     "text": [
      "[Parallel(n_jobs=1)]: Using backend SequentialBackend with 1 concurrent workers.\n"
     ]
    },
    {
     "name": "stdout",
     "output_type": "stream",
     "text": [
      "[CV]  ................................................................\n",
      "[CV] .............................. , score=-139063.017, total=   0.4s\n",
      "[CV]  ................................................................\n"
     ]
    },
    {
     "name": "stderr",
     "output_type": "stream",
     "text": [
      "[Parallel(n_jobs=1)]: Done   1 out of   1 | elapsed:    0.3s remaining:    0.0s\n"
     ]
    },
    {
     "name": "stdout",
     "output_type": "stream",
     "text": [
      "[CV] .............................. , score=-272051.357, total=   0.3s\n",
      "[CV]  ................................................................\n"
     ]
    },
    {
     "name": "stderr",
     "output_type": "stream",
     "text": [
      "[Parallel(n_jobs=1)]: Done   2 out of   2 | elapsed:    0.6s remaining:    0.0s\n"
     ]
    },
    {
     "name": "stdout",
     "output_type": "stream",
     "text": [
      "[CV] .............................. , score=-188415.240, total=   0.3s\n",
      "[CV]  ................................................................\n",
      "[CV] .............................. , score=-144128.742, total=   0.4s\n",
      "[CV]  ................................................................\n",
      "[CV] .............................. , score=-217257.481, total=   0.3s\n",
      "[CV]  ................................................................\n",
      "[CV] .............................. , score=-125113.882, total=   0.3s\n",
      "[CV]  ................................................................\n",
      "[CV] .............................. , score=-144157.840, total=   0.3s\n",
      "[CV]  ................................................................\n",
      "[CV] .............................. , score=-136901.669, total=   0.3s\n",
      "[CV]  ................................................................\n",
      "[CV] .............................. , score=-172586.720, total=   0.4s\n",
      "[CV]  ................................................................\n",
      "[CV] .............................. , score=-135842.843, total=   0.3s\n"
     ]
    },
    {
     "name": "stderr",
     "output_type": "stream",
     "text": [
      "[Parallel(n_jobs=1)]: Done  10 out of  10 | elapsed:    3.3s finished\n"
     ]
    },
    {
     "data": {
      "text/plain": [
       "-167551.87918699245"
      ]
     },
     "execution_count": 230,
     "metadata": {},
     "output_type": "execute_result"
    }
   ],
   "source": [
    "errors = cross_val_score(estimator = XGBRegressor(),\n",
    "                         X = X_train,\n",
    "                         y = y_train,\n",
    "                         scoring = \"neg_root_mean_squared_error\",\n",
    "                         verbose = 3,\n",
    "                         cv = KFold(n_splits = 10, shuffle = True))\n",
    "np.mean(errors)"
   ]
  },
  {
   "cell_type": "markdown",
   "metadata": {},
   "source": [
    "So with 10 fold cross validation we are getting average error of -167551.87."
   ]
  },
  {
   "cell_type": "code",
   "execution_count": 242,
   "metadata": {},
   "outputs": [
    {
     "name": "stdout",
     "output_type": "stream",
     "text": [
      "Fitting 10 folds for each of 16 candidates, totalling 160 fits\n",
      "[CV] reg_alpha=1, reg_lambda=1 .......................................\n",
      "[CV] ..... reg_alpha=1, reg_lambda=1, score=-134759.170, total=   0.2s"
     ]
    },
    {
     "name": "stderr",
     "output_type": "stream",
     "text": [
      "[Parallel(n_jobs=1)]: Using backend SequentialBackend with 1 concurrent workers.\n"
     ]
    },
    {
     "name": "stdout",
     "output_type": "stream",
     "text": [
      "\n",
      "[CV] reg_alpha=1, reg_lambda=1 .......................................\n",
      "[CV] ..... reg_alpha=1, reg_lambda=1, score=-130122.394, total=   0.2s\n",
      "[CV] reg_alpha=1, reg_lambda=1 .......................................\n"
     ]
    },
    {
     "name": "stderr",
     "output_type": "stream",
     "text": [
      "[Parallel(n_jobs=1)]: Done   1 out of   1 | elapsed:    0.1s remaining:    0.0s\n",
      "[Parallel(n_jobs=1)]: Done   2 out of   2 | elapsed:    0.3s remaining:    0.0s\n"
     ]
    },
    {
     "name": "stdout",
     "output_type": "stream",
     "text": [
      "[CV] ..... reg_alpha=1, reg_lambda=1, score=-142815.240, total=   0.2s\n",
      "[CV] reg_alpha=1, reg_lambda=1 .......................................\n",
      "[CV] ..... reg_alpha=1, reg_lambda=1, score=-180386.721, total=   0.2s\n",
      "[CV] reg_alpha=1, reg_lambda=1 .......................................\n",
      "[CV] ..... reg_alpha=1, reg_lambda=1, score=-151409.463, total=   0.2s\n",
      "[CV] reg_alpha=1, reg_lambda=1 .......................................\n",
      "[CV] ..... reg_alpha=1, reg_lambda=1, score=-124389.204, total=   0.2s\n",
      "[CV] reg_alpha=1, reg_lambda=1 .......................................\n",
      "[CV] ..... reg_alpha=1, reg_lambda=1, score=-149743.828, total=   0.2s\n",
      "[CV] reg_alpha=1, reg_lambda=1 .......................................\n",
      "[CV] ..... reg_alpha=1, reg_lambda=1, score=-155145.067, total=   0.2s\n",
      "[CV] reg_alpha=1, reg_lambda=1 .......................................\n",
      "[CV] ..... reg_alpha=1, reg_lambda=1, score=-131340.282, total=   0.2s\n",
      "[CV] reg_alpha=1, reg_lambda=1 .......................................\n",
      "[CV] ..... reg_alpha=1, reg_lambda=1, score=-273220.204, total=   0.2s\n",
      "[CV] reg_alpha=1, reg_lambda=2 .......................................\n",
      "[CV] ..... reg_alpha=1, reg_lambda=2, score=-130955.551, total=   0.2s\n",
      "[CV] reg_alpha=1, reg_lambda=2 .......................................\n",
      "[CV] ..... reg_alpha=1, reg_lambda=2, score=-155615.863, total=   0.2s\n",
      "[CV] reg_alpha=1, reg_lambda=2 .......................................\n",
      "[CV] ..... reg_alpha=1, reg_lambda=2, score=-137487.633, total=   0.2s\n",
      "[CV] reg_alpha=1, reg_lambda=2 .......................................\n",
      "[CV] ..... reg_alpha=1, reg_lambda=2, score=-170323.551, total=   0.2s\n",
      "[CV] reg_alpha=1, reg_lambda=2 .......................................\n",
      "[CV] ..... reg_alpha=1, reg_lambda=2, score=-175160.582, total=   0.2s\n",
      "[CV] reg_alpha=1, reg_lambda=2 .......................................\n",
      "[CV] ..... reg_alpha=1, reg_lambda=2, score=-126560.846, total=   0.2s\n",
      "[CV] reg_alpha=1, reg_lambda=2 .......................................\n",
      "[CV] ..... reg_alpha=1, reg_lambda=2, score=-132461.508, total=   0.2s\n",
      "[CV] reg_alpha=1, reg_lambda=2 .......................................\n",
      "[CV] ..... reg_alpha=1, reg_lambda=2, score=-166623.441, total=   0.2s\n",
      "[CV] reg_alpha=1, reg_lambda=2 .......................................\n",
      "[CV] ..... reg_alpha=1, reg_lambda=2, score=-132297.829, total=   0.2s\n",
      "[CV] reg_alpha=1, reg_lambda=2 .......................................\n",
      "[CV] ..... reg_alpha=1, reg_lambda=2, score=-302072.832, total=   0.2s\n",
      "[CV] reg_alpha=1, reg_lambda=3 .......................................\n",
      "[CV] ..... reg_alpha=1, reg_lambda=3, score=-139793.888, total=   0.2s\n",
      "[CV] reg_alpha=1, reg_lambda=3 .......................................\n",
      "[CV] ..... reg_alpha=1, reg_lambda=3, score=-159215.409, total=   0.2s\n",
      "[CV] reg_alpha=1, reg_lambda=3 .......................................\n",
      "[CV] ..... reg_alpha=1, reg_lambda=3, score=-133682.456, total=   0.2s\n",
      "[CV] reg_alpha=1, reg_lambda=3 .......................................\n",
      "[CV] ..... reg_alpha=1, reg_lambda=3, score=-171267.891, total=   0.2s\n",
      "[CV] reg_alpha=1, reg_lambda=3 .......................................\n",
      "[CV] ..... reg_alpha=1, reg_lambda=3, score=-167896.638, total=   0.2s\n",
      "[CV] reg_alpha=1, reg_lambda=3 .......................................\n",
      "[CV] ..... reg_alpha=1, reg_lambda=3, score=-126603.213, total=   0.2s\n",
      "[CV] reg_alpha=1, reg_lambda=3 .......................................\n",
      "[CV] ..... reg_alpha=1, reg_lambda=3, score=-147870.427, total=   0.2s\n",
      "[CV] reg_alpha=1, reg_lambda=3 .......................................\n",
      "[CV] ..... reg_alpha=1, reg_lambda=3, score=-198437.949, total=   0.2s\n",
      "[CV] reg_alpha=1, reg_lambda=3 .......................................\n",
      "[CV] ..... reg_alpha=1, reg_lambda=3, score=-125147.597, total=   0.2s\n",
      "[CV] reg_alpha=1, reg_lambda=3 .......................................\n",
      "[CV] ..... reg_alpha=1, reg_lambda=3, score=-301640.059, total=   0.2s\n",
      "[CV] reg_alpha=1, reg_lambda=4 .......................................\n",
      "[CV] ..... reg_alpha=1, reg_lambda=4, score=-134977.571, total=   0.2s\n",
      "[CV] reg_alpha=1, reg_lambda=4 .......................................\n",
      "[CV] ..... reg_alpha=1, reg_lambda=4, score=-176755.489, total=   0.2s\n",
      "[CV] reg_alpha=1, reg_lambda=4 .......................................\n",
      "[CV] ..... reg_alpha=1, reg_lambda=4, score=-135258.438, total=   0.2s\n",
      "[CV] reg_alpha=1, reg_lambda=4 .......................................\n",
      "[CV] ..... reg_alpha=1, reg_lambda=4, score=-185524.535, total=   0.2s\n",
      "[CV] reg_alpha=1, reg_lambda=4 .......................................\n",
      "[CV] ..... reg_alpha=1, reg_lambda=4, score=-170030.231, total=   0.2s\n",
      "[CV] reg_alpha=1, reg_lambda=4 .......................................\n",
      "[CV] ..... reg_alpha=1, reg_lambda=4, score=-133215.303, total=   0.2s\n",
      "[CV] reg_alpha=1, reg_lambda=4 .......................................\n",
      "[CV] ..... reg_alpha=1, reg_lambda=4, score=-166520.873, total=   0.2s\n",
      "[CV] reg_alpha=1, reg_lambda=4 .......................................\n",
      "[CV] ..... reg_alpha=1, reg_lambda=4, score=-191098.134, total=   0.2s\n",
      "[CV] reg_alpha=1, reg_lambda=4 .......................................\n",
      "[CV] ..... reg_alpha=1, reg_lambda=4, score=-138667.308, total=   0.2s\n",
      "[CV] reg_alpha=1, reg_lambda=4 .......................................\n",
      "[CV] ..... reg_alpha=1, reg_lambda=4, score=-277184.588, total=   0.2s\n",
      "[CV] reg_alpha=2, reg_lambda=1 .......................................\n",
      "[CV] ..... reg_alpha=2, reg_lambda=1, score=-134759.182, total=   0.2s\n",
      "[CV] reg_alpha=2, reg_lambda=1 .......................................\n",
      "[CV] ..... reg_alpha=2, reg_lambda=1, score=-130122.391, total=   0.2s\n",
      "[CV] reg_alpha=2, reg_lambda=1 .......................................\n",
      "[CV] ..... reg_alpha=2, reg_lambda=1, score=-142815.236, total=   0.2s\n",
      "[CV] reg_alpha=2, reg_lambda=1 .......................................\n",
      "[CV] ..... reg_alpha=2, reg_lambda=1, score=-180386.705, total=   0.2s\n",
      "[CV] reg_alpha=2, reg_lambda=1 .......................................\n",
      "[CV] ..... reg_alpha=2, reg_lambda=1, score=-151409.451, total=   0.2s\n",
      "[CV] reg_alpha=2, reg_lambda=1 .......................................\n",
      "[CV] ..... reg_alpha=2, reg_lambda=1, score=-124389.202, total=   0.2s\n",
      "[CV] reg_alpha=2, reg_lambda=1 .......................................\n",
      "[CV] ..... reg_alpha=2, reg_lambda=1, score=-149743.813, total=   0.2s\n",
      "[CV] reg_alpha=2, reg_lambda=1 .......................................\n",
      "[CV] ..... reg_alpha=2, reg_lambda=1, score=-155145.056, total=   0.2s\n",
      "[CV] reg_alpha=2, reg_lambda=1 .......................................\n",
      "[CV] ..... reg_alpha=2, reg_lambda=1, score=-131340.287, total=   0.2s\n",
      "[CV] reg_alpha=2, reg_lambda=1 .......................................\n",
      "[CV] ..... reg_alpha=2, reg_lambda=1, score=-273220.211, total=   0.2s\n",
      "[CV] reg_alpha=2, reg_lambda=2 .......................................\n",
      "[CV] ..... reg_alpha=2, reg_lambda=2, score=-130955.553, total=   0.2s\n",
      "[CV] reg_alpha=2, reg_lambda=2 .......................................\n",
      "[CV] ..... reg_alpha=2, reg_lambda=2, score=-155615.844, total=   0.2s\n",
      "[CV] reg_alpha=2, reg_lambda=2 .......................................\n",
      "[CV] ..... reg_alpha=2, reg_lambda=2, score=-137487.640, total=   0.2s\n",
      "[CV] reg_alpha=2, reg_lambda=2 .......................................\n",
      "[CV] ..... reg_alpha=2, reg_lambda=2, score=-170323.542, total=   0.2s\n",
      "[CV] reg_alpha=2, reg_lambda=2 .......................................\n",
      "[CV] ..... reg_alpha=2, reg_lambda=2, score=-175160.576, total=   0.2s\n",
      "[CV] reg_alpha=2, reg_lambda=2 .......................................\n",
      "[CV] ..... reg_alpha=2, reg_lambda=2, score=-126560.850, total=   0.2s\n",
      "[CV] reg_alpha=2, reg_lambda=2 .......................................\n",
      "[CV] ..... reg_alpha=2, reg_lambda=2, score=-132461.501, total=   0.2s\n",
      "[CV] reg_alpha=2, reg_lambda=2 .......................................\n",
      "[CV] ..... reg_alpha=2, reg_lambda=2, score=-166623.458, total=   0.2s\n",
      "[CV] reg_alpha=2, reg_lambda=2 .......................................\n",
      "[CV] ..... reg_alpha=2, reg_lambda=2, score=-132297.839, total=   0.2s\n",
      "[CV] reg_alpha=2, reg_lambda=2 .......................................\n",
      "[CV] ..... reg_alpha=2, reg_lambda=2, score=-302072.829, total=   0.2s\n",
      "[CV] reg_alpha=2, reg_lambda=3 .......................................\n",
      "[CV] ..... reg_alpha=2, reg_lambda=3, score=-139793.897, total=   0.2s\n",
      "[CV] reg_alpha=2, reg_lambda=3 .......................................\n"
     ]
    },
    {
     "name": "stdout",
     "output_type": "stream",
     "text": [
      "[CV] ..... reg_alpha=2, reg_lambda=3, score=-159215.420, total=   0.2s\n",
      "[CV] reg_alpha=2, reg_lambda=3 .......................................\n",
      "[CV] ..... reg_alpha=2, reg_lambda=3, score=-133682.461, total=   0.2s\n",
      "[CV] reg_alpha=2, reg_lambda=3 .......................................\n",
      "[CV] ..... reg_alpha=2, reg_lambda=3, score=-171267.901, total=   0.2s\n",
      "[CV] reg_alpha=2, reg_lambda=3 .......................................\n",
      "[CV] ..... reg_alpha=2, reg_lambda=3, score=-167896.632, total=   0.2s\n",
      "[CV] reg_alpha=2, reg_lambda=3 .......................................\n",
      "[CV] ..... reg_alpha=2, reg_lambda=3, score=-126603.209, total=   0.2s\n",
      "[CV] reg_alpha=2, reg_lambda=3 .......................................\n",
      "[CV] ..... reg_alpha=2, reg_lambda=3, score=-147870.437, total=   0.2s\n",
      "[CV] reg_alpha=2, reg_lambda=3 .......................................\n",
      "[CV] ..... reg_alpha=2, reg_lambda=3, score=-198437.976, total=   0.2s\n",
      "[CV] reg_alpha=2, reg_lambda=3 .......................................\n",
      "[CV] ..... reg_alpha=2, reg_lambda=3, score=-125147.596, total=   0.2s\n",
      "[CV] reg_alpha=2, reg_lambda=3 .......................................\n",
      "[CV] ..... reg_alpha=2, reg_lambda=3, score=-301640.095, total=   0.2s\n",
      "[CV] reg_alpha=2, reg_lambda=4 .......................................\n",
      "[CV] ..... reg_alpha=2, reg_lambda=4, score=-134977.570, total=   0.2s\n",
      "[CV] reg_alpha=2, reg_lambda=4 .......................................\n",
      "[CV] ..... reg_alpha=2, reg_lambda=4, score=-176755.486, total=   0.2s\n",
      "[CV] reg_alpha=2, reg_lambda=4 .......................................\n",
      "[CV] ..... reg_alpha=2, reg_lambda=4, score=-135258.444, total=   0.2s\n",
      "[CV] reg_alpha=2, reg_lambda=4 .......................................\n",
      "[CV] ..... reg_alpha=2, reg_lambda=4, score=-185524.556, total=   0.2s\n",
      "[CV] reg_alpha=2, reg_lambda=4 .......................................\n",
      "[CV] ..... reg_alpha=2, reg_lambda=4, score=-170030.225, total=   0.2s\n",
      "[CV] reg_alpha=2, reg_lambda=4 .......................................\n",
      "[CV] ..... reg_alpha=2, reg_lambda=4, score=-133215.300, total=   0.2s\n",
      "[CV] reg_alpha=2, reg_lambda=4 .......................................\n",
      "[CV] ..... reg_alpha=2, reg_lambda=4, score=-166520.886, total=   0.2s\n",
      "[CV] reg_alpha=2, reg_lambda=4 .......................................\n",
      "[CV] ..... reg_alpha=2, reg_lambda=4, score=-191098.128, total=   0.2s\n",
      "[CV] reg_alpha=2, reg_lambda=4 .......................................\n",
      "[CV] ..... reg_alpha=2, reg_lambda=4, score=-138667.312, total=   0.2s\n",
      "[CV] reg_alpha=2, reg_lambda=4 .......................................\n",
      "[CV] ..... reg_alpha=2, reg_lambda=4, score=-277184.587, total=   0.2s\n",
      "[CV] reg_alpha=3, reg_lambda=1 .......................................\n",
      "[CV] ..... reg_alpha=3, reg_lambda=1, score=-134759.171, total=   0.2s\n",
      "[CV] reg_alpha=3, reg_lambda=1 .......................................\n",
      "[CV] ..... reg_alpha=3, reg_lambda=1, score=-130122.382, total=   0.2s\n",
      "[CV] reg_alpha=3, reg_lambda=1 .......................................\n",
      "[CV] ..... reg_alpha=3, reg_lambda=1, score=-142815.241, total=   0.2s\n",
      "[CV] reg_alpha=3, reg_lambda=1 .......................................\n",
      "[CV] ..... reg_alpha=3, reg_lambda=1, score=-180386.688, total=   0.2s\n",
      "[CV] reg_alpha=3, reg_lambda=1 .......................................\n",
      "[CV] ..... reg_alpha=3, reg_lambda=1, score=-151409.438, total=   0.2s\n",
      "[CV] reg_alpha=3, reg_lambda=1 .......................................\n",
      "[CV] ..... reg_alpha=3, reg_lambda=1, score=-124389.200, total=   0.2s\n",
      "[CV] reg_alpha=3, reg_lambda=1 .......................................\n",
      "[CV] ..... reg_alpha=3, reg_lambda=1, score=-149743.824, total=   0.2s\n",
      "[CV] reg_alpha=3, reg_lambda=1 .......................................\n",
      "[CV] ..... reg_alpha=3, reg_lambda=1, score=-155145.049, total=   0.2s\n",
      "[CV] reg_alpha=3, reg_lambda=1 .......................................\n",
      "[CV] ..... reg_alpha=3, reg_lambda=1, score=-131340.281, total=   0.2s\n",
      "[CV] reg_alpha=3, reg_lambda=1 .......................................\n",
      "[CV] ..... reg_alpha=3, reg_lambda=1, score=-273220.220, total=   0.2s\n",
      "[CV] reg_alpha=3, reg_lambda=2 .......................................\n",
      "[CV] ..... reg_alpha=3, reg_lambda=2, score=-130955.546, total=   0.2s\n",
      "[CV] reg_alpha=3, reg_lambda=2 .......................................\n",
      "[CV] ..... reg_alpha=3, reg_lambda=2, score=-155615.862, total=   0.2s\n",
      "[CV] reg_alpha=3, reg_lambda=2 .......................................\n",
      "[CV] ..... reg_alpha=3, reg_lambda=2, score=-137487.636, total=   0.2s\n",
      "[CV] reg_alpha=3, reg_lambda=2 .......................................\n",
      "[CV] ..... reg_alpha=3, reg_lambda=2, score=-170323.547, total=   0.2s\n",
      "[CV] reg_alpha=3, reg_lambda=2 .......................................\n",
      "[CV] ..... reg_alpha=3, reg_lambda=2, score=-175160.572, total=   0.2s\n",
      "[CV] reg_alpha=3, reg_lambda=2 .......................................\n",
      "[CV] ..... reg_alpha=3, reg_lambda=2, score=-126560.861, total=   0.2s\n",
      "[CV] reg_alpha=3, reg_lambda=2 .......................................\n",
      "[CV] ..... reg_alpha=3, reg_lambda=2, score=-132461.498, total=   0.2s\n",
      "[CV] reg_alpha=3, reg_lambda=2 .......................................\n",
      "[CV] ..... reg_alpha=3, reg_lambda=2, score=-166623.424, total=   0.2s\n",
      "[CV] reg_alpha=3, reg_lambda=2 .......................................\n",
      "[CV] ..... reg_alpha=3, reg_lambda=2, score=-132297.832, total=   0.2s\n",
      "[CV] reg_alpha=3, reg_lambda=2 .......................................\n",
      "[CV] ..... reg_alpha=3, reg_lambda=2, score=-302072.835, total=   0.2s\n",
      "[CV] reg_alpha=3, reg_lambda=3 .......................................\n",
      "[CV] ..... reg_alpha=3, reg_lambda=3, score=-139793.893, total=   0.2s\n",
      "[CV] reg_alpha=3, reg_lambda=3 .......................................\n",
      "[CV] ..... reg_alpha=3, reg_lambda=3, score=-159215.422, total=   0.2s\n",
      "[CV] reg_alpha=3, reg_lambda=3 .......................................\n",
      "[CV] ..... reg_alpha=3, reg_lambda=3, score=-133682.454, total=   0.2s\n",
      "[CV] reg_alpha=3, reg_lambda=3 .......................................\n",
      "[CV] ..... reg_alpha=3, reg_lambda=3, score=-171267.896, total=   0.2s\n",
      "[CV] reg_alpha=3, reg_lambda=3 .......................................\n",
      "[CV] ..... reg_alpha=3, reg_lambda=3, score=-167896.631, total=   0.2s\n",
      "[CV] reg_alpha=3, reg_lambda=3 .......................................\n",
      "[CV] ..... reg_alpha=3, reg_lambda=3, score=-126603.213, total=   0.2s\n",
      "[CV] reg_alpha=3, reg_lambda=3 .......................................\n",
      "[CV] ..... reg_alpha=3, reg_lambda=3, score=-147870.445, total=   0.2s\n",
      "[CV] reg_alpha=3, reg_lambda=3 .......................................\n",
      "[CV] ..... reg_alpha=3, reg_lambda=3, score=-198437.995, total=   0.2s\n",
      "[CV] reg_alpha=3, reg_lambda=3 .......................................\n",
      "[CV] ..... reg_alpha=3, reg_lambda=3, score=-125147.595, total=   0.2s\n",
      "[CV] reg_alpha=3, reg_lambda=3 .......................................\n",
      "[CV] ..... reg_alpha=3, reg_lambda=3, score=-301640.080, total=   0.2s\n",
      "[CV] reg_alpha=3, reg_lambda=4 .......................................\n",
      "[CV] ..... reg_alpha=3, reg_lambda=4, score=-134977.570, total=   0.2s\n",
      "[CV] reg_alpha=3, reg_lambda=4 .......................................\n",
      "[CV] ..... reg_alpha=3, reg_lambda=4, score=-176755.507, total=   0.2s\n",
      "[CV] reg_alpha=3, reg_lambda=4 .......................................\n",
      "[CV] ..... reg_alpha=3, reg_lambda=4, score=-135258.439, total=   0.2s\n",
      "[CV] reg_alpha=3, reg_lambda=4 .......................................\n",
      "[CV] ..... reg_alpha=3, reg_lambda=4, score=-185524.551, total=   0.2s\n",
      "[CV] reg_alpha=3, reg_lambda=4 .......................................\n",
      "[CV] ..... reg_alpha=3, reg_lambda=4, score=-170030.213, total=   0.2s\n",
      "[CV] reg_alpha=3, reg_lambda=4 .......................................\n",
      "[CV] ..... reg_alpha=3, reg_lambda=4, score=-133215.300, total=   0.2s\n",
      "[CV] reg_alpha=3, reg_lambda=4 .......................................\n",
      "[CV] ..... reg_alpha=3, reg_lambda=4, score=-166520.887, total=   0.2s\n",
      "[CV] reg_alpha=3, reg_lambda=4 .......................................\n",
      "[CV] ..... reg_alpha=3, reg_lambda=4, score=-191098.166, total=   0.2s\n",
      "[CV] reg_alpha=3, reg_lambda=4 .......................................\n",
      "[CV] ..... reg_alpha=3, reg_lambda=4, score=-138667.311, total=   0.2s\n",
      "[CV] reg_alpha=3, reg_lambda=4 .......................................\n"
     ]
    },
    {
     "name": "stdout",
     "output_type": "stream",
     "text": [
      "[CV] ..... reg_alpha=3, reg_lambda=4, score=-277184.617, total=   0.2s\n",
      "[CV] reg_alpha=4, reg_lambda=1 .......................................\n",
      "[CV] ..... reg_alpha=4, reg_lambda=1, score=-134759.180, total=   0.2s\n",
      "[CV] reg_alpha=4, reg_lambda=1 .......................................\n",
      "[CV] ..... reg_alpha=4, reg_lambda=1, score=-130122.388, total=   0.2s\n",
      "[CV] reg_alpha=4, reg_lambda=1 .......................................\n",
      "[CV] ..... reg_alpha=4, reg_lambda=1, score=-142815.223, total=   0.2s\n",
      "[CV] reg_alpha=4, reg_lambda=1 .......................................\n",
      "[CV] ..... reg_alpha=4, reg_lambda=1, score=-180386.689, total=   0.2s\n",
      "[CV] reg_alpha=4, reg_lambda=1 .......................................\n",
      "[CV] ..... reg_alpha=4, reg_lambda=1, score=-151409.440, total=   0.2s\n",
      "[CV] reg_alpha=4, reg_lambda=1 .......................................\n",
      "[CV] ..... reg_alpha=4, reg_lambda=1, score=-124389.191, total=   0.2s\n",
      "[CV] reg_alpha=4, reg_lambda=1 .......................................\n",
      "[CV] ..... reg_alpha=4, reg_lambda=1, score=-149743.832, total=   0.2s\n",
      "[CV] reg_alpha=4, reg_lambda=1 .......................................\n",
      "[CV] ..... reg_alpha=4, reg_lambda=1, score=-155145.051, total=   0.2s\n",
      "[CV] reg_alpha=4, reg_lambda=1 .......................................\n",
      "[CV] ..... reg_alpha=4, reg_lambda=1, score=-131340.280, total=   0.2s\n",
      "[CV] reg_alpha=4, reg_lambda=1 .......................................\n",
      "[CV] ..... reg_alpha=4, reg_lambda=1, score=-273220.220, total=   0.2s\n",
      "[CV] reg_alpha=4, reg_lambda=2 .......................................\n",
      "[CV] ..... reg_alpha=4, reg_lambda=2, score=-130955.545, total=   0.2s\n",
      "[CV] reg_alpha=4, reg_lambda=2 .......................................\n",
      "[CV] ..... reg_alpha=4, reg_lambda=2, score=-155615.864, total=   0.2s\n",
      "[CV] reg_alpha=4, reg_lambda=2 .......................................\n",
      "[CV] ..... reg_alpha=4, reg_lambda=2, score=-137487.632, total=   0.2s\n",
      "[CV] reg_alpha=4, reg_lambda=2 .......................................\n",
      "[CV] ..... reg_alpha=4, reg_lambda=2, score=-170323.562, total=   0.2s\n",
      "[CV] reg_alpha=4, reg_lambda=2 .......................................\n",
      "[CV] ..... reg_alpha=4, reg_lambda=2, score=-175160.546, total=   0.2s\n",
      "[CV] reg_alpha=4, reg_lambda=2 .......................................\n",
      "[CV] ..... reg_alpha=4, reg_lambda=2, score=-126560.842, total=   0.2s\n",
      "[CV] reg_alpha=4, reg_lambda=2 .......................................\n",
      "[CV] ..... reg_alpha=4, reg_lambda=2, score=-132461.506, total=   0.2s\n",
      "[CV] reg_alpha=4, reg_lambda=2 .......................................\n",
      "[CV] ..... reg_alpha=4, reg_lambda=2, score=-166623.438, total=   0.2s\n",
      "[CV] reg_alpha=4, reg_lambda=2 .......................................\n",
      "[CV] ..... reg_alpha=4, reg_lambda=2, score=-132297.830, total=   0.2s\n",
      "[CV] reg_alpha=4, reg_lambda=2 .......................................\n",
      "[CV] ..... reg_alpha=4, reg_lambda=2, score=-302072.884, total=   0.2s\n",
      "[CV] reg_alpha=4, reg_lambda=3 .......................................\n",
      "[CV] ..... reg_alpha=4, reg_lambda=3, score=-139793.913, total=   0.2s\n",
      "[CV] reg_alpha=4, reg_lambda=3 .......................................\n",
      "[CV] ..... reg_alpha=4, reg_lambda=3, score=-159215.401, total=   0.2s\n",
      "[CV] reg_alpha=4, reg_lambda=3 .......................................\n",
      "[CV] ..... reg_alpha=4, reg_lambda=3, score=-133682.450, total=   0.2s\n",
      "[CV] reg_alpha=4, reg_lambda=3 .......................................\n",
      "[CV] ..... reg_alpha=4, reg_lambda=3, score=-171267.897, total=   0.2s\n",
      "[CV] reg_alpha=4, reg_lambda=3 .......................................\n",
      "[CV] ..... reg_alpha=4, reg_lambda=3, score=-167896.624, total=   0.2s\n",
      "[CV] reg_alpha=4, reg_lambda=3 .......................................\n",
      "[CV] ..... reg_alpha=4, reg_lambda=3, score=-126603.211, total=   0.2s\n",
      "[CV] reg_alpha=4, reg_lambda=3 .......................................\n",
      "[CV] ..... reg_alpha=4, reg_lambda=3, score=-147870.424, total=   0.2s\n",
      "[CV] reg_alpha=4, reg_lambda=3 .......................................\n",
      "[CV] ..... reg_alpha=4, reg_lambda=3, score=-198437.977, total=   0.2s\n",
      "[CV] reg_alpha=4, reg_lambda=3 .......................................\n",
      "[CV] ..... reg_alpha=4, reg_lambda=3, score=-125147.595, total=   0.2s\n",
      "[CV] reg_alpha=4, reg_lambda=3 .......................................\n",
      "[CV] ..... reg_alpha=4, reg_lambda=3, score=-301640.078, total=   0.2s\n",
      "[CV] reg_alpha=4, reg_lambda=4 .......................................\n",
      "[CV] ..... reg_alpha=4, reg_lambda=4, score=-134977.569, total=   0.2s\n",
      "[CV] reg_alpha=4, reg_lambda=4 .......................................\n",
      "[CV] ..... reg_alpha=4, reg_lambda=4, score=-176755.485, total=   0.2s\n",
      "[CV] reg_alpha=4, reg_lambda=4 .......................................\n",
      "[CV] ..... reg_alpha=4, reg_lambda=4, score=-135258.446, total=   0.2s\n",
      "[CV] reg_alpha=4, reg_lambda=4 .......................................\n",
      "[CV] ..... reg_alpha=4, reg_lambda=4, score=-185524.558, total=   0.2s\n",
      "[CV] reg_alpha=4, reg_lambda=4 .......................................\n",
      "[CV] ..... reg_alpha=4, reg_lambda=4, score=-170030.221, total=   0.2s\n",
      "[CV] reg_alpha=4, reg_lambda=4 .......................................\n",
      "[CV] ..... reg_alpha=4, reg_lambda=4, score=-133215.292, total=   0.2s\n",
      "[CV] reg_alpha=4, reg_lambda=4 .......................................\n",
      "[CV] ..... reg_alpha=4, reg_lambda=4, score=-166520.894, total=   0.2s\n",
      "[CV] reg_alpha=4, reg_lambda=4 .......................................\n",
      "[CV] ..... reg_alpha=4, reg_lambda=4, score=-191098.186, total=   0.2s\n",
      "[CV] reg_alpha=4, reg_lambda=4 .......................................\n",
      "[CV] ..... reg_alpha=4, reg_lambda=4, score=-138667.311, total=   0.2s\n",
      "[CV] reg_alpha=4, reg_lambda=4 .......................................\n",
      "[CV] ..... reg_alpha=4, reg_lambda=4, score=-277184.634, total=   0.2s\n"
     ]
    },
    {
     "name": "stderr",
     "output_type": "stream",
     "text": [
      "[Parallel(n_jobs=1)]: Done 160 out of 160 | elapsed:   27.3s finished\n"
     ]
    },
    {
     "data": {
      "text/plain": [
       "GridSearchCV(cv=KFold(n_splits=10, random_state=None, shuffle=False),\n",
       "             estimator=XGBRegressor(base_score=None, booster=None,\n",
       "                                    colsample_bylevel=None,\n",
       "                                    colsample_bynode=None,\n",
       "                                    colsample_bytree=None, gamma=None,\n",
       "                                    gpu_id=None, importance_type='gain',\n",
       "                                    interaction_constraints=None,\n",
       "                                    learning_rate=0.3, max_delta_step=None,\n",
       "                                    max_depth=5, min_child_weight=None,\n",
       "                                    missing=nan, monotone_constraints=None,\n",
       "                                    n_estimators=50, n_jobs=None,\n",
       "                                    num_parallel_tree=None, random_state=None,\n",
       "                                    reg_alpha=None, reg_lambda=None,\n",
       "                                    scale_pos_weight=None, subsample=0.8,\n",
       "                                    tree_method=None, validate_parameters=None,\n",
       "                                    verbosity=None),\n",
       "             param_grid={'reg_alpha': [1, 2, 3, 4], 'reg_lambda': [1, 2, 3, 4]},\n",
       "             scoring='neg_root_mean_squared_error', verbose=3)"
      ]
     },
     "execution_count": 242,
     "metadata": {},
     "output_type": "execute_result"
    }
   ],
   "source": [
    "# Using Grid Search to Tune the parameters of XGBoost model\n",
    "from sklearn.model_selection import GridSearchCV\n",
    "\n",
    "# Round - 1\n",
    "# parameters = {\"n_estimators\" : [50, 100, 150, 200],\n",
    "#               \"max_depth\" : [5,10,15,20]}\n",
    "\n",
    "# model = GridSearchCV(estimator = XGBRegressor(),\n",
    "#                      param_grid = parameters,\n",
    "#                      cv = KFold(n_splits = 10),\n",
    "#                      scoring = \"neg_root_mean_squared_error\",\n",
    "#                      verbose = 3)\n",
    "# model.fit(X_train, y_train)\n",
    "# After Round-1 Best Parameters are n_estimators = 100 and max_depth = 5, score = -158489.93548712082\n",
    "# So we have improved from -167551.87918699245 to -158489.93548712082\n",
    "\n",
    "# Round - 2\n",
    "# parameters = {\"learning_rate\" : [0.1,0.2,0.3,0.4],\n",
    "#               \"subsample\": [0.7,0.8,0.9]}\n",
    "\n",
    "# model = GridSearchCV(estimator = XGBRegressor(n_estimators = 50, max_depth = 5),\n",
    "#                      param_grid = parameters,\n",
    "#                      cv = KFold(n_splits = 10),\n",
    "#                      scoring = \"neg_root_mean_squared_error\",\n",
    "#                      verbose = 3)\n",
    "# model.fit(X_train, y_train)\n",
    "# After Round-1 Best Parameters are learning_rate = 0.3 and subsample = 0.8, score = -157333.16192566045\n",
    "# So we have improved from -158489.93548712082 to -157333.16192566045\n",
    "\n",
    "# Round - 3\n",
    "parameters = {\"reg_alpha\" : [1,2,3,4],\n",
    "              \"reg_lambda\": [1,2,3,4]}\n",
    "\n",
    "model = GridSearchCV(estimator = XGBRegressor(n_estimators = 50, max_depth = 5,\n",
    "                                              learning_rate = 0.3, subsample = 0.8),\n",
    "                     param_grid = parameters,\n",
    "                     cv = KFold(n_splits = 10),\n",
    "                     scoring = \"neg_root_mean_squared_error\",\n",
    "                     verbose = 3)\n",
    "model.fit(X_train, y_train)\n",
    "# After Round-1 Best Parameters are reg_alpha = 3 and reg_lambda = 1, score = -157333.16192566045\n",
    "# So we have same score this time -157333.16192566045"
   ]
  },
  {
   "cell_type": "code",
   "execution_count": 246,
   "metadata": {},
   "outputs": [
    {
     "data": {
      "text/plain": [
       "{'reg_alpha': 3, 'reg_lambda': 1}"
      ]
     },
     "execution_count": 246,
     "metadata": {},
     "output_type": "execute_result"
    }
   ],
   "source": [
    "model.best_params_"
   ]
  },
  {
   "cell_type": "code",
   "execution_count": 247,
   "metadata": {},
   "outputs": [
    {
     "data": {
      "text/plain": [
       "-157333.1493572723"
      ]
     },
     "execution_count": 247,
     "metadata": {},
     "output_type": "execute_result"
    }
   ],
   "source": [
    "model.best_score_"
   ]
  },
  {
   "cell_type": "code",
   "execution_count": 258,
   "metadata": {},
   "outputs": [
    {
     "name": "stdout",
     "output_type": "stream",
     "text": [
      "MAE: 73704.47121613829\n",
      "MSE: 15736484689.471542\n",
      "RMSE: 125445.14613755107\n",
      "R2 Score: 0.9328076805659802\n"
     ]
    }
   ],
   "source": [
    "# Retraining model again with with parameters we got by tuning.\n",
    "from xgboost import XGBRegressor\n",
    "xgb_model = XGBRegressor(n_estimators = 100, max_depth = 5,\n",
    "                         learning_rate = 0.3, subsample = 0.8,\n",
    "                         reg_lambda = 1, reg_alpha = 3)\n",
    "xgb_model.fit(X_train, y_train)\n",
    "y_pred = xgb_model.predict(X_test)\n",
    "print(\"MAE:\" ,mean_absolute_error(y_test, y_pred))\n",
    "print(\"MSE:\" ,mean_squared_error(y_test, y_pred))\n",
    "print(\"RMSE:\", np.sqrt(mean_squared_error(y_test, y_pred)))\n",
    "print(\"R2 Score:\", r2_score(y_test, y_pred))"
   ]
  },
  {
   "cell_type": "markdown",
   "metadata": {},
   "source": [
    "we can see RMSE decreased from 127514.83497911421 to 125445.14613755107 (Before tuning and after tuning)"
   ]
  },
  {
   "cell_type": "code",
   "execution_count": 259,
   "metadata": {},
   "outputs": [
    {
     "data": {
      "image/png": "[encoded data removed]",
      "text/plain": [
       "<Figure size 432x288 with 1 Axes>"
      ]
     },
     "metadata": {
      "needs_background": "light"
     },
     "output_type": "display_data"
    }
   ],
   "source": [
    "sns.distplot(y_test-y_pred, bins = 100)\n",
    "plt.show()"
   ]
  },
  {
   "cell_type": "code",
   "execution_count": 260,
   "metadata": {},
   "outputs": [
    {
     "data": {
      "image/png": "[encoded data removed]",
      "text/plain": [
       "<Figure size 432x288 with 1 Axes>"
      ]
     },
     "metadata": {
      "needs_background": "light"
     },
     "output_type": "display_data"
    }
   ],
   "source": [
    "# Checking for Homoscedasticity\n",
    "plt.scatter(y_test, y_pred)\n",
    "plt.show()"
   ]
  },
  {
   "cell_type": "code",
   "execution_count": 261,
   "metadata": {},
   "outputs": [],
   "source": [
    "# Saving the model in pkl format\n",
    "import pickle\n",
    "file = open(\"car_price_model.pkl\", mode = \"wb\")\n",
    "pickle.dump(xgb_model, file)"
   ]
  }
 ],
 "metadata": {
  "colab": {
   "authorship_tag": "ABX9TyO/mP4oE/X40c+H3LC3cmgq",
   "collapsed_sections": [],
   "mount_file_id": "1iO4WDQxjFwfUnNvXsbFzWXHWP2n1_ikT",
   "name": "Car Price Prediction.ipynb",
   "provenance": []
  },
  "kernelspec": {
   "display_name": "Python 3",
   "language": "python",
   "name": "python3"
  },
  "language_info": {
   "codemirror_mode": {
    "name": "ipython",
    "version": 3
   },
   "file_extension": ".py",
   "mimetype": "text/x-python",
   "name": "python",
   "nbconvert_exporter": "python",
   "pygments_lexer": "ipython3",
   "version": "3.8.3"
  }
 },
 "nbformat": 4,
 "nbformat_minor": 1
}
